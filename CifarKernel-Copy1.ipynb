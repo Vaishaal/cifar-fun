{
 "cells": [
  {
   "cell_type": "code",
   "execution_count": 1,
   "metadata": {
    "collapsed": false
   },
   "outputs": [
    {
     "name": "stderr",
     "output_type": "stream",
     "text": [
      "/data/vaishaal/anaconda2/lib/python2.7/site-packages/matplotlib/font_manager.py:273: UserWarning: Matplotlib is building the font cache using fc-list. This may take a moment.\n",
      "  warnings.warn('Matplotlib is building the font cache using fc-list. This may take a moment.')\n"
     ]
    },
    {
     "name": "stdout",
     "output_type": "stream",
     "text": [
      "Populating the interactive namespace from numpy and matplotlib\n"
     ]
    }
   ],
   "source": [
    "import bcd\n",
    "import \n",
    "reload(bcd)\n",
    "%pylab inline"
   ]
  },
  {
   "cell_type": "code",
   "execution_count": 5,
   "metadata": {
    "collapsed": true
   },
   "outputs": [],
   "source": [
    "def computeDistanceMatrix(XTest, XTrain):\n",
    "    XTrain = XTrain.reshape(XTrain.shape[0], -1)\n",
    "    XTest = XTest.reshape(XTest.shape[0], -1)\n",
    "    XTrain_norms = (np.linalg.norm(XTrain, axis=1) ** 2)[:, np.newaxis]\n",
    "    XTest_norms = (np.linalg.norm(XTest, axis=1) ** 2)[:, np.newaxis]\n",
    "    K = XTest.dot(XTrain.T)\n",
    "    K *= -2\n",
    "    K += XTrain_norms.T\n",
    "    K += XTest_norms  \n",
    "    return K\n",
    "\n",
    "def unpickle(infile):\n",
    "    import cPickle\n",
    "    fo = open(infile, 'rb')\n",
    "    outdict = cPickle.load(fo)\n",
    "    fo.close()\n",
    "    return outdict\n",
    "\n",
    "def computeRBFGramMatrix(XTest, XTrain, gamma=1):\n",
    "    gamma = -1.0 * gamma\n",
    "    print \"Gamma is \"+  str(gamma)\n",
    "    return np.exp(gamma*computeDistanceMatrix(XTest, XTrain))\n",
    "\n",
    "def load_cifar(center=False):\n",
    "    train_batches = []\n",
    "    train_labels = []\n",
    "    for i in range(1,6):\n",
    "        cifar_out = unpickle(\"../cifar/data_batch_{0}\".format(i))\n",
    "        train_batches.append(cifar_out[\"data\"])\n",
    "        train_labels.extend(cifar_out[\"labels\"])\n",
    "\n",
    "    # Stupid bull shit to get pixels in correct order\n",
    "    X_train= np.vstack(tuple(train_batches)).reshape(-1, 32*32, 3)\n",
    "    X_train = X_train.reshape(-1,3,32,32)\n",
    "    mean_image = np.mean(X_train, axis=0)[np.newaxis, :, :]\n",
    "    y_train = np.array(train_labels)\n",
    "    cifar_out = unpickle(\"../cifar/test_batch\")\n",
    "    X_test = cifar_out[\"data\"].reshape(-1, 32*32, 3)\n",
    "    X_test = X_test.reshape(-1,3,32,32)\n",
    "    X_train = X_train\n",
    "    X_test = X_test\n",
    "    y_test = cifar_out[\"labels\"]\n",
    "    return (X_train, np.array(y_train)), (X_test, np.array(y_test))\n"
   ]
  },
  {
   "cell_type": "code",
   "execution_count": 6,
   "metadata": {
    "collapsed": false
   },
   "outputs": [],
   "source": [
    "(XTrain, labelsTrain), (XTest, labelsTest) = load_cifar()"
   ]
  },
  {
   "cell_type": "code",
   "execution_count": 7,
   "metadata": {
    "collapsed": true
   },
   "outputs": [],
   "source": [
    "XTrain = XTrain.reshape(50000, -1)\n"
   ]
  },
  {
   "cell_type": "code",
   "execution_count": null,
   "metadata": {
    "collapsed": false
   },
   "outputs": [
    {
     "name": "stdout",
     "output_type": "stream",
     "text": [
      "Gamma is -10.0\n"
     ]
    }
   ],
   "source": [
    "KFloat = computeRBFGramMatrix(XTrain, XTrain, gamma=10)"
   ]
  },
  {
   "cell_type": "code",
   "execution_count": null,
   "metadata": {
    "collapsed": false
   },
   "outputs": [],
   "source": [
    "K = KFloat.astype('float64')"
   ]
  },
  {
   "cell_type": "code",
   "execution_count": null,
   "metadata": {
    "collapsed": false
   },
   "outputs": [],
   "source": [
    "bcd.block_kernel_solve(K, labelsTrain, epochs=3, lambdav=10)"
   ]
  },
  {
   "cell_type": "code",
   "execution_count": 19,
   "metadata": {
    "collapsed": false
   },
   "outputs": [
    {
     "data": {
      "text/plain": [
       "1.1001953840255738"
      ]
     },
     "execution_count": 19,
     "metadata": {},
     "output_type": "execute_result"
    }
   ],
   "source": []
  },
  {
   "cell_type": "code",
   "execution_count": null,
   "metadata": {
    "collapsed": true
   },
   "outputs": [],
   "source": []
  }
 ],
 "metadata": {
  "kernelspec": {
   "display_name": "Python [Root]",
   "language": "python",
   "name": "Python [Root]"
  },
  "language_info": {
   "codemirror_mode": {
    "name": "ipython",
    "version": 2
   },
   "file_extension": ".py",
   "mimetype": "text/x-python",
   "name": "python",
   "nbconvert_exporter": "python",
   "pygments_lexer": "ipython2",
   "version": "2.7.12"
  }
 },
 "nbformat": 4,
 "nbformat_minor": 0
}

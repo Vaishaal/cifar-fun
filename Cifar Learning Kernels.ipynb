{
 "cells": [
  {
   "cell_type": "code",
   "execution_count": 23,
   "metadata": {
    "collapsed": false,
    "nbpresent": {
     "id": "5167988e-f347-496e-abe3-310656310669"
    }
   },
   "outputs": [],
   "source": [
    "import cifar_gpu_fun\n",
    "reload(cifar_gpu_fun)\n",
    "from cifar_gpu_fun import *\n",
    "from numba import jit\n",
    "import bcd\n",
    "import sys\n",
    "from sklearn.cluster import KMeans\n",
    "from sklearn import metrics\n",
    "import pyclust\n",
    "import matlab.engine\n",
    "import scipy.io\n",
    "import pandas as pd\n",
    "from sklearn.linear_model import SGDClassifier\n",
    "%pylab inline"
   ]
  },
  {
   "cell_type": "markdown",
   "metadata": {
    "nbpresent": {
     "id": "c640590a-a864-4de1-bdac-8f04d9c8def4"
    }
   },
   "source": [
    "#### Define Some Constants "
   ]
  },
  {
   "cell_type": "code",
   "execution_count": 275,
   "metadata": {
    "collapsed": true,
    "nbpresent": {
     "id": "5ee9705d-3093-4d0f-bd82-0e3dfcd14555"
    }
   },
   "outputs": [],
   "source": [
    "NUM_FEATURE_BATCHES=1\n",
    "DATA_BATCH_SIZE=(1280)\n",
    "FEATURE_BATCH_SIZE=(1024)\n",
    "NUM_TRAIN = 50000\n",
    "NUM_TEST = 10000\n",
    "NUM_CLASSES = 10\n",
    "NUM_FEATURES = FEATURE_BATCH_SIZE * NUM_FEATURE_BATCHES * 9 * 2\n",
    "POOL_TYPE ='avg'\n",
    "FILTER_GEN ='gaussians'\n",
    "BANDWIDTH = 1.0\n",
    "LAMBDAS = [0.01, 0.1, 1.0]\n",
    "CUDA_CONVNET = True\n",
    "SCALE = 55.0\n",
    "BIAS = 1.25\n",
    "MIN_VAR_TOL = 1e-4\n",
    "TOT_FEAT = FEATURE_BATCH_SIZE*NUM_FEATURE_BATCHES\n",
    "NAN = float('nan')\n",
    "saved = 0\n"
   ]
  },
  {
   "cell_type": "code",
   "execution_count": 10,
   "metadata": {
    "collapsed": false
   },
   "outputs": [
    {
     "name": "stdout",
     "output_type": "stream",
     "text": [
      "(50000, 3, 32, 32)\n"
     ]
    }
   ],
   "source": [
    "np.random.seed(10)                                                                                                                                                                   \n",
    "(XTrain, labelsTrain), (XTest, labelsTest) = load_cifar_processed()\n",
    "patches = patchify_all_imgs(XTrain, (6,6), pad=False)"
   ]
  },
  {
   "cell_type": "code",
   "execution_count": 11,
   "metadata": {
    "collapsed": true
   },
   "outputs": [],
   "source": [
    "notebook_stdout = sys.stdout\n",
    "notebook_stderr = sys.stderr\n",
    "terminal_stdout = open('/dev/stdout', 'w')\n",
    "terminal_stderr = open('/dev/stderr', 'w')"
   ]
  },
  {
   "cell_type": "code",
   "execution_count": 12,
   "metadata": {
    "collapsed": false
   },
   "outputs": [],
   "source": [
    "patches_flattened = patches.reshape(patches.shape[0]*patches.shape[1], *patches.shape[2:])"
   ]
  },
  {
   "cell_type": "code",
   "execution_count": 13,
   "metadata": {
    "collapsed": true
   },
   "outputs": [],
   "source": [
    "np.random.seed(0)\n",
    "idxs = np.random.choice(patches_flattened.shape[0], 1024, replace=False)\n",
    "sampled = patches_flattened[idxs, :]"
   ]
  },
  {
   "cell_type": "code",
   "execution_count": 181,
   "metadata": {
    "collapsed": true
   },
   "outputs": [],
   "source": [
    "VALID_POOLS = [(15,6)]"
   ]
  },
  {
   "cell_type": "code",
   "execution_count": 15,
   "metadata": {
    "collapsed": true
   },
   "outputs": [],
   "source": [
    "results = {}"
   ]
  },
  {
   "cell_type": "code",
   "execution_count": 450,
   "metadata": {
    "collapsed": false
   },
   "outputs": [],
   "source": [
    "sys.stdout = terminal_stdout\n",
    "sys.stderr = terminal_stderr\n",
    "pool_size, pool_stride = VALID_POOLS[0]\n",
    "filter_gen = make_empirical_filter_gen(patches, labelsTrain, MIN_VAR_TOL=MIN_VAR_TOL, seed=3)\n",
    "X = np.vstack((XTrain, XTest))\n",
    "(X_lift, filters) = conv(X, filter_gen, 1024, 4, DATA_BATCH_SIZE, CUDA_CONVNET, pool_size=pool_size, pool_stride=pool_stride, symmetric_relu=True)\n",
    "X_lift_train = X_lift[:50000,:,:,:]\n",
    "X_lift_test = X_lift[50000:,:,:,:] \n",
    "X_lift_train = X_lift_train.reshape(X_lift_train.shape[0], -1)\n",
    "X_lift_test = X_lift_test.reshape(X_lift_test.shape[0], -1)"
   ]
  },
  {
   "cell_type": "code",
   "execution_count": 489,
   "metadata": {
    "collapsed": false
   },
   "outputs": [],
   "source": [
    "sys.stdout = terminal_stdout\n",
    "sys.stderr = terminal_stderr\n",
    "pool_size, pool_stride = VALID_POOLS[0]\n",
    "filter_gen = make_empirical_filter_gen(patches, labelsTrain, MIN_VAR_TOL=MIN_VAR_TOL, seed=3)\n",
    "X = np.vstack((XTrain, XTest))\n",
    "(X_lift, filters) = conv(X, filter_gen, 1024, 1, DATA_BATCH_SIZE, CUDA_CONVNET, pool_size=pool_size, pool_stride=pool_stride, symmetric_relu=True)\n",
    "X_lift_train_small = X_lift[:50000,:,:,:]\n",
    "X_lift_test_small = X_lift[50000:,:,:,:] \n",
    "X_lift_train_small = X_lift_train_small.reshape(X_lift_train.shape[0], -1)\n",
    "X_lift_test_small = X_lift_test_small.reshape(X_lift_test.shape[0], -1)"
   ]
  },
  {
   "cell_type": "code",
   "execution_count": 490,
   "metadata": {
    "collapsed": false
   },
   "outputs": [
    {
     "data": {
      "text/plain": [
       "(50000, 18432)"
      ]
     },
     "execution_count": 490,
     "metadata": {},
     "output_type": "execute_result"
    }
   ],
   "source": [
    "X_lift_train_small.shape"
   ]
  },
  {
   "cell_type": "code",
   "execution_count": 78,
   "metadata": {
    "collapsed": false
   },
   "outputs": [],
   "source": [
    "def reduce_random_features(Phi, labels, cls=0, eps=1e-8, rho=800):\n",
    "    rho = float(rho)\n",
    "    y = np.zeros(labels.shape[0])\n",
    "    y[np.where(labels == cls)] = 1\n",
    "    y[np.where(labels != cls)] = -1\n",
    "    Ks = Phi.T.dot(y)[:, np.newaxis]\n",
    "    Ks = Ks * Ks\n",
    "    nw = Ks.shape[0]\n",
    "    alphas = linear_chi_square(-1 * Ks, 1/nw * np.ones((nw,1)), rho/nw, 0.001).ravel() \n",
    "    bm = alphas > eps\n",
    "    phi_compress = Phi[:, np.where(bm)].reshape(Phi.shape[0], -1)\n",
    "    alphas = alphas[np.where(bm)]\n",
    "    return phi_compress, np.where(bm), alphas\n",
    "\n",
    "def linear_chi_square(ks, u, rho, tol):\n",
    "    scipy.io.savemat(\"/tmp/ks\", {\"v\": ks, \"u\": u})\n",
    "    alphay = eng.linear_chi_square(\"/tmp/ks\", rho, tol)\n",
    "    return np.array(alphay)\n",
    "\n"
   ]
  },
  {
   "cell_type": "code",
   "execution_count": 473,
   "metadata": {
    "collapsed": false
   },
   "outputs": [
    {
     "name": "stdout",
     "output_type": "stream",
     "text": [
      "Learning Dual Model better\n",
      "REG IS  0.1\n"
     ]
    }
   ],
   "source": [
    "idxs = np.random.choice(X_lift_train.shape[0], 5000, replace=False)\n",
    "X_lift_sample = X_lift_train[idxs, :]\n",
    "labels_sample = labelsTrain[idxs]\n",
    "K_sample = X_lift_sample.dot(X_lift_sample.T)\n",
    "w = X_lift_sample.T.dot(learnDual(K_sample, labels_sample)).T\n",
    "norms = np.linalg.norm(w, axis=0)\n",
    "norms_sort = np.argsort(norms)\n",
    "top_features = norms_sort[-576*32:]\n",
    "X_lift_train_prune = X_lift_train[:, top_features]\n",
    "X_lift_test_prune = X_lift_test[:, top_features]\n",
    "\n",
    "\n"
   ]
  },
  {
   "cell_type": "code",
   "execution_count": 452,
   "metadata": {
    "collapsed": false
   },
   "outputs": [
    {
     "data": {
      "text/plain": [
       "(50000, 4608)"
      ]
     },
     "execution_count": 452,
     "metadata": {},
     "output_type": "execute_result"
    }
   ],
   "source": [
    "X_lift_train_prune.shape"
   ]
  },
  {
   "cell_type": "code",
   "execution_count": 494,
   "metadata": {
    "collapsed": true
   },
   "outputs": [],
   "source": [
    "sys.stdout = notebook_stdout\n",
    "sys.stderr = notebook_stderr"
   ]
  },
  {
   "cell_type": "code",
   "execution_count": 485,
   "metadata": {
    "collapsed": false
   },
   "outputs": [
    {
     "name": "stdout",
     "output_type": "stream",
     "text": [
      "X SHAPE  (50000, 18432)\n",
      "Computing XTX\n",
      "Done Computing XTX\n"
     ]
    }
   ],
   "source": [
    "train_acc_prune, test_acc_prune = trainAndEvaluatePrimalModel(X_lift_train_prune, X_lift_test_prune, labelsTrain, labelsTest, reg=100)"
   ]
  },
  {
   "cell_type": "code",
   "execution_count": 492,
   "metadata": {
    "collapsed": false
   },
   "outputs": [],
   "source": [
    "train_acc_control, test_acc_control = trainAndEvaluatePrimalModel(X_lift_train_small, X_lift_test_small, labelsTrain, labelsTest, reg=100)"
   ]
  },
  {
   "cell_type": "code",
   "execution_count": 497,
   "metadata": {
    "collapsed": false
   },
   "outputs": [
    {
     "name": "stdout",
     "output_type": "stream",
     "text": [
      "(0.92769999999999997, 0.88959999999999995)\n",
      "(0.78680000000000005, 0.77600000000000002)\n"
     ]
    }
   ],
   "source": [
    "print(train_acc_prune, train_acc_control)\n",
    "print(test_acc_prune, test_acc_control)"
   ]
  },
  {
   "cell_type": "code",
   "execution_count": 438,
   "metadata": {
    "collapsed": false
   },
   "outputs": [
    {
     "data": {
      "text/plain": [
       "(50000, 4608)"
      ]
     },
     "execution_count": 438,
     "metadata": {},
     "output_type": "execute_result"
    }
   ],
   "source": [
    "X_lift_train_small.shape"
   ]
  },
  {
   "cell_type": "code",
   "execution_count": 393,
   "metadata": {
    "collapsed": false
   },
   "outputs": [
    {
     "ename": "KeyboardInterrupt",
     "evalue": "",
     "output_type": "error",
     "traceback": [
      "\u001b[1;31m---------------------------------------------------------------------------\u001b[0m",
      "\u001b[1;31mKeyboardInterrupt\u001b[0m                         Traceback (most recent call last)",
      "\u001b[1;32m<ipython-input-393-547ffc7524d9>\u001b[0m in \u001b[0;36m<module>\u001b[1;34m()\u001b[0m\n\u001b[1;32m----> 1\u001b[1;33m \u001b[0mtrain_acc\u001b[0m\u001b[1;33m,\u001b[0m \u001b[0mtest_acc\u001b[0m \u001b[1;33m=\u001b[0m \u001b[0mtrainAndEvaluatePrimalModel\u001b[0m\u001b[1;33m(\u001b[0m\u001b[0mX_lift_train\u001b[0m\u001b[1;33m,\u001b[0m \u001b[0mX_lift_test\u001b[0m\u001b[1;33m,\u001b[0m \u001b[0mlabelsTrain\u001b[0m\u001b[1;33m,\u001b[0m \u001b[0mlabelsTest\u001b[0m\u001b[1;33m,\u001b[0m \u001b[0mreg\u001b[0m\u001b[1;33m=\u001b[0m\u001b[1;36m0.1\u001b[0m\u001b[1;33m*\u001b[0m\u001b[0mTOT_FEAT\u001b[0m\u001b[1;33m)\u001b[0m\u001b[1;33m\u001b[0m\u001b[0m\n\u001b[0m",
      "\u001b[1;32m/data/vaishaal/cifar_fun/cifar_gpu_fun/cifar_gpu_fun.pyc\u001b[0m in \u001b[0;36mtrainAndEvaluatePrimalModel\u001b[1;34m(XTrain, XTest, labelsTrain, labelsTest, reg, W)\u001b[0m\n\u001b[0;32m    274\u001b[0m \u001b[1;33m\u001b[0m\u001b[0m\n\u001b[0;32m    275\u001b[0m \u001b[1;32mdef\u001b[0m \u001b[0mtrainAndEvaluatePrimalModel\u001b[0m\u001b[1;33m(\u001b[0m\u001b[0mXTrain\u001b[0m\u001b[1;33m,\u001b[0m \u001b[0mXTest\u001b[0m\u001b[1;33m,\u001b[0m \u001b[0mlabelsTrain\u001b[0m\u001b[1;33m,\u001b[0m \u001b[0mlabelsTest\u001b[0m\u001b[1;33m,\u001b[0m \u001b[0mreg\u001b[0m\u001b[1;33m=\u001b[0m\u001b[1;36m0.1\u001b[0m\u001b[1;33m,\u001b[0m \u001b[0mW\u001b[0m\u001b[1;33m=\u001b[0m\u001b[0mNone\u001b[0m\u001b[1;33m)\u001b[0m\u001b[1;33m:\u001b[0m\u001b[1;33m\u001b[0m\u001b[0m\n\u001b[1;32m--> 276\u001b[1;33m     \u001b[0mmodel\u001b[0m \u001b[1;33m=\u001b[0m \u001b[0mlearnPrimal\u001b[0m\u001b[1;33m(\u001b[0m\u001b[0mXTrain\u001b[0m\u001b[1;33m,\u001b[0m \u001b[0mlabelsTrain\u001b[0m\u001b[1;33m,\u001b[0m \u001b[0mreg\u001b[0m\u001b[1;33m=\u001b[0m\u001b[0mreg\u001b[0m\u001b[1;33m,\u001b[0m \u001b[0mW\u001b[0m\u001b[1;33m=\u001b[0m\u001b[0mW\u001b[0m\u001b[1;33m)\u001b[0m\u001b[1;33m\u001b[0m\u001b[0m\n\u001b[0m\u001b[0;32m    277\u001b[0m     \u001b[0mpredTrainLabels\u001b[0m\u001b[1;33m,\u001b[0m \u001b[0m_\u001b[0m \u001b[1;33m=\u001b[0m \u001b[0mevaluatePrimalModel\u001b[0m\u001b[1;33m(\u001b[0m\u001b[0mXTrain\u001b[0m\u001b[1;33m,\u001b[0m \u001b[0mmodel\u001b[0m\u001b[1;33m)\u001b[0m\u001b[1;33m\u001b[0m\u001b[0m\n\u001b[0;32m    278\u001b[0m     \u001b[0mpredTestLabels\u001b[0m\u001b[1;33m,\u001b[0m \u001b[0m_\u001b[0m \u001b[1;33m=\u001b[0m \u001b[0mevaluatePrimalModel\u001b[0m\u001b[1;33m(\u001b[0m\u001b[0mXTest\u001b[0m\u001b[1;33m,\u001b[0m \u001b[0mmodel\u001b[0m\u001b[1;33m)\u001b[0m\u001b[1;33m\u001b[0m\u001b[0m\n",
      "\u001b[1;32m/data/vaishaal/cifar_fun/cifar_gpu_fun/cifar_gpu_fun.pyc\u001b[0m in \u001b[0;36mlearnPrimal\u001b[1;34m(trainData, labels, W, reg)\u001b[0m\n\u001b[0;32m    222\u001b[0m     \u001b[0msqrtW\u001b[0m \u001b[1;33m=\u001b[0m \u001b[0mnp\u001b[0m\u001b[1;33m.\u001b[0m\u001b[0msqrt\u001b[0m\u001b[1;33m(\u001b[0m\u001b[0mW\u001b[0m\u001b[1;33m)\u001b[0m\u001b[1;33m\u001b[0m\u001b[0m\n\u001b[0;32m    223\u001b[0m     \u001b[0mX\u001b[0m \u001b[1;33m*=\u001b[0m \u001b[0msqrtW\u001b[0m\u001b[1;33m\u001b[0m\u001b[0m\n\u001b[1;32m--> 224\u001b[1;33m     \u001b[0mXTWX\u001b[0m \u001b[1;33m=\u001b[0m \u001b[0mX\u001b[0m\u001b[1;33m.\u001b[0m\u001b[0mT\u001b[0m\u001b[1;33m.\u001b[0m\u001b[0mdot\u001b[0m\u001b[1;33m(\u001b[0m\u001b[0mX\u001b[0m\u001b[1;33m)\u001b[0m\u001b[1;33m\u001b[0m\u001b[0m\n\u001b[0m\u001b[0;32m    225\u001b[0m     \u001b[1;32mprint\u001b[0m \u001b[1;34m\"Done Computing XTX\"\u001b[0m\u001b[1;33m\u001b[0m\u001b[0m\n\u001b[0;32m    226\u001b[0m     \u001b[0midxes\u001b[0m \u001b[1;33m=\u001b[0m \u001b[0mnp\u001b[0m\u001b[1;33m.\u001b[0m\u001b[0mdiag_indices\u001b[0m\u001b[1;33m(\u001b[0m\u001b[0mXTWX\u001b[0m\u001b[1;33m.\u001b[0m\u001b[0mshape\u001b[0m\u001b[1;33m[\u001b[0m\u001b[1;36m0\u001b[0m\u001b[1;33m]\u001b[0m\u001b[1;33m)\u001b[0m\u001b[1;33m\u001b[0m\u001b[0m\n",
      "\u001b[1;31mKeyboardInterrupt\u001b[0m: "
     ]
    }
   ],
   "source": [
    "train_acc, test_acc = trainAndEvaluatePrimalModel(X_lift_train, X_lift_test, labelsTrain, labelsTest, reg=0.1*TOT_FEAT)"
   ]
  },
  {
   "cell_type": "code",
   "execution_count": 177,
   "metadata": {
    "collapsed": false
   },
   "outputs": [],
   "source": [
    "train_acc_prune, test_acc_prune = trainAndEvaluatePrimalModel(X_lift_train_prune, X_lift_test_prune, labelsTrain, labelsTest, reg=0.0001*TOT_FEAT)"
   ]
  },
  {
   "cell_type": "code",
   "execution_count": 488,
   "metadata": {
    "collapsed": false
   },
   "outputs": [
    {
     "data": {
      "text/plain": [
       "(50000, 18432)"
      ]
     },
     "execution_count": 488,
     "metadata": {},
     "output_type": "execute_result"
    }
   ],
   "source": [
    "X_lift_train_prune.shape"
   ]
  },
  {
   "cell_type": "code",
   "execution_count": 180,
   "metadata": {
    "collapsed": false
   },
   "outputs": [
    {
     "data": {
      "text/plain": [
       "0.81935999999999998"
      ]
     },
     "execution_count": 180,
     "metadata": {},
     "output_type": "execute_result"
    }
   ],
   "source": [
    "train_acc_prune"
   ]
  },
  {
   "cell_type": "code",
   "execution_count": 13,
   "metadata": {
    "collapsed": false
   },
   "outputs": [],
   "source": [
    "eng = matlab.engine.start_matlab()"
   ]
  },
  {
   "cell_type": "code",
   "execution_count": 79,
   "metadata": {
    "collapsed": false
   },
   "outputs": [],
   "source": [
    "duchi_results = []\n",
    "train_features_dict = {}\n",
    "test_features_dict = {}\n",
    "alphas_dict = {}\n",
    "for rho in [10, 20, 50.0]:\n",
    "    train_features = [] \n",
    "    test_features = []\n",
    "    alphas = []\n",
    "    for c in range(10):\n",
    "        print(\"Compressing Class {0}\".format(c))\n",
    "        train_features_compress, idx, alpha = reduce_random_features(X_lift_train, labelsTrain, rho=rho, cls=c) \n",
    "        test_features_compress = X_lift_test[:, idx] \n",
    "        train_features.append(train_features_compress)\n",
    "        test_features.append(test_features_compress)\n",
    "        alphas.append(alpha)\n",
    "    alphas_dict[rho] = alphas\n",
    "    train_features_dict[rho] = train_features\n",
    "    test_features_dict[rho] = test_features\n",
    "    "
   ]
  },
  {
   "cell_type": "code",
   "execution_count": 56,
   "metadata": {
    "collapsed": false
   },
   "outputs": [],
   "source": []
  },
  {
   "cell_type": "code",
   "execution_count": 64,
   "metadata": {
    "collapsed": false
   },
   "outputs": [
    {
     "data": {
      "text/plain": [
       "(50000, 1278)"
      ]
     },
     "execution_count": 64,
     "metadata": {},
     "output_type": "execute_result"
    }
   ],
   "source": []
  },
  {
   "cell_type": "code",
   "execution_count": 73,
   "metadata": {
    "collapsed": false
   },
   "outputs": [],
   "source": [
    "for rho in [10, 20, 50.0]:\n",
    "    train_features = train_features_dict[rho]\n",
    "    test_features = test_features_dict[rho]\n",
    "    for reg in LAMBDAS:\n",
    "        models = one_vs_all_solve(train_features, labelsTrain, 10, reg=1e-8)\n",
    "        result = {}\n",
    "        result['reg'] = reg\n",
    "        train_acc, test_acc = one_vs_all_evaluate(train_features, test_features, labelsTrain, labelsTest, models, 10)\n",
    "        result['train_acc'] = train_acc\n",
    "        result['test_acc'] = test_acc\n",
    "        result['rho'] = rho\n",
    "        results['reduced'] = True\n",
    "        result['mean_num_features'] = np.mean(map(lambda x: x.shape[1], train_features))\n",
    "        duchi_results.append(result)"
   ]
  },
  {
   "cell_type": "code",
   "execution_count": 74,
   "metadata": {
    "collapsed": false
   },
   "outputs": [
    {
     "data": {
      "text/html": [
       "<div>\n",
       "<table border=\"1\" class=\"dataframe\">\n",
       "  <thead>\n",
       "    <tr style=\"text-align: right;\">\n",
       "      <th></th>\n",
       "      <th>mean_num_features</th>\n",
       "      <th>reg</th>\n",
       "      <th>rho</th>\n",
       "      <th>test_acc</th>\n",
       "      <th>train_acc</th>\n",
       "    </tr>\n",
       "  </thead>\n",
       "  <tbody>\n",
       "    <tr>\n",
       "      <th>0</th>\n",
       "      <td>5395.3</td>\n",
       "      <td>0.01</td>\n",
       "      <td>10.0</td>\n",
       "      <td>0.1368</td>\n",
       "      <td>0.6597</td>\n",
       "    </tr>\n",
       "    <tr>\n",
       "      <th>1</th>\n",
       "      <td>5395.3</td>\n",
       "      <td>0.10</td>\n",
       "      <td>10.0</td>\n",
       "      <td>0.1368</td>\n",
       "      <td>0.6597</td>\n",
       "    </tr>\n",
       "    <tr>\n",
       "      <th>2</th>\n",
       "      <td>5395.3</td>\n",
       "      <td>1.00</td>\n",
       "      <td>10.0</td>\n",
       "      <td>0.1368</td>\n",
       "      <td>0.6597</td>\n",
       "    </tr>\n",
       "    <tr>\n",
       "      <th>3</th>\n",
       "      <td>2996.8</td>\n",
       "      <td>0.01</td>\n",
       "      <td>20.0</td>\n",
       "      <td>0.1081</td>\n",
       "      <td>0.7706</td>\n",
       "    </tr>\n",
       "    <tr>\n",
       "      <th>4</th>\n",
       "      <td>2996.8</td>\n",
       "      <td>0.10</td>\n",
       "      <td>20.0</td>\n",
       "      <td>0.1081</td>\n",
       "      <td>0.7706</td>\n",
       "    </tr>\n",
       "    <tr>\n",
       "      <th>5</th>\n",
       "      <td>2996.8</td>\n",
       "      <td>1.00</td>\n",
       "      <td>20.0</td>\n",
       "      <td>0.1081</td>\n",
       "      <td>0.7706</td>\n",
       "    </tr>\n",
       "    <tr>\n",
       "      <th>6</th>\n",
       "      <td>1268.5</td>\n",
       "      <td>0.01</td>\n",
       "      <td>50.0</td>\n",
       "      <td>0.1209</td>\n",
       "      <td>0.6954</td>\n",
       "    </tr>\n",
       "    <tr>\n",
       "      <th>7</th>\n",
       "      <td>1268.5</td>\n",
       "      <td>0.10</td>\n",
       "      <td>50.0</td>\n",
       "      <td>0.1209</td>\n",
       "      <td>0.6954</td>\n",
       "    </tr>\n",
       "    <tr>\n",
       "      <th>8</th>\n",
       "      <td>1268.5</td>\n",
       "      <td>1.00</td>\n",
       "      <td>50.0</td>\n",
       "      <td>0.1209</td>\n",
       "      <td>0.6954</td>\n",
       "    </tr>\n",
       "  </tbody>\n",
       "</table>\n",
       "</div>"
      ],
      "text/plain": [
       "   mean_num_features   reg   rho  test_acc  train_acc\n",
       "0             5395.3  0.01  10.0    0.1368     0.6597\n",
       "1             5395.3  0.10  10.0    0.1368     0.6597\n",
       "2             5395.3  1.00  10.0    0.1368     0.6597\n",
       "3             2996.8  0.01  20.0    0.1081     0.7706\n",
       "4             2996.8  0.10  20.0    0.1081     0.7706\n",
       "5             2996.8  1.00  20.0    0.1081     0.7706\n",
       "6             1268.5  0.01  50.0    0.1209     0.6954\n",
       "7             1268.5  0.10  50.0    0.1209     0.6954\n",
       "8             1268.5  1.00  50.0    0.1209     0.6954"
      ]
     },
     "execution_count": 74,
     "metadata": {},
     "output_type": "execute_result"
    }
   ],
   "source": [
    "pd.DataFrame(duchi_results)"
   ]
  },
  {
   "cell_type": "code",
   "execution_count": 15,
   "metadata": {
    "collapsed": false
   },
   "outputs": [],
   "source": [
    "def one_vs_all_solve(train_features, labels, num_classes, reg=0.1):\n",
    "    models = []\n",
    "    for c in range(num_classes):\n",
    "        print(\"Solving class {0}\".format(c))\n",
    "        labels_c = (labels == c).astype('int')\n",
    "        model = learnPrimal(train_features[c], labels_c, reg=reg)\n",
    "        models.append(model)\n",
    "        \n",
    "    return models\n",
    "\n",
    "def one_vs_all_predict(features, models, num_classes):\n",
    "    preds = [] \n",
    "    for c in range(num_classes):\n",
    "        print(\"Predicting class {0}\".format(c))\n",
    "        yHat, yRaw = evaluatePrimalModel(features[c], models[c])\n",
    "        preds.append(yRaw[:, 1])\n",
    "    return np.vstack(preds).T\n",
    "\n",
    "\n",
    "def one_vs_all_evaluate(train_features, test_features, train_labels, test_labels, models, num_classes):\n",
    "    train_preds = one_vs_all_predict(train_features, models, num_classes)\n",
    "    test_preds = one_vs_all_predict(test_features, models, num_classes)\n",
    "    train_pred_labels = np.argmax(train_preds, axis=1)\n",
    "    test_pred_labels = np.argmax(test_preds, axis=1)\n",
    "    \n",
    "    train_acc = metrics.accuracy_score(train_pred_labels, train_labels)\n",
    "    test_acc = metrics.accuracy_score(test_pred_labels, test_labels)\n",
    "    return train_acc, test_acc\n",
    "\n",
    "        "
   ]
  },
  {
   "cell_type": "code",
   "execution_count": 85,
   "metadata": {
    "collapsed": false
   },
   "outputs": [
    {
     "data": {
      "text/html": [
       "<div>\n",
       "<table border=\"1\" class=\"dataframe\">\n",
       "  <thead>\n",
       "    <tr style=\"text-align: right;\">\n",
       "      <th></th>\n",
       "      <th>mean_num_features</th>\n",
       "      <th>reg</th>\n",
       "      <th>rho</th>\n",
       "      <th>test_acc</th>\n",
       "      <th>train_acc</th>\n",
       "    </tr>\n",
       "  </thead>\n",
       "  <tbody>\n",
       "    <tr>\n",
       "      <th>0</th>\n",
       "      <td>10049.8</td>\n",
       "      <td>0.01</td>\n",
       "      <td>5.0</td>\n",
       "      <td>0.1801</td>\n",
       "      <td>0.22760</td>\n",
       "    </tr>\n",
       "    <tr>\n",
       "      <th>1</th>\n",
       "      <td>10049.8</td>\n",
       "      <td>0.10</td>\n",
       "      <td>5.0</td>\n",
       "      <td>0.1801</td>\n",
       "      <td>0.22760</td>\n",
       "    </tr>\n",
       "    <tr>\n",
       "      <th>2</th>\n",
       "      <td>10049.8</td>\n",
       "      <td>1.00</td>\n",
       "      <td>5.0</td>\n",
       "      <td>0.1801</td>\n",
       "      <td>0.22760</td>\n",
       "    </tr>\n",
       "    <tr>\n",
       "      <th>3</th>\n",
       "      <td>5395.3</td>\n",
       "      <td>0.01</td>\n",
       "      <td>10.0</td>\n",
       "      <td>0.5176</td>\n",
       "      <td>0.63364</td>\n",
       "    </tr>\n",
       "    <tr>\n",
       "      <th>4</th>\n",
       "      <td>5395.3</td>\n",
       "      <td>0.10</td>\n",
       "      <td>10.0</td>\n",
       "      <td>0.5176</td>\n",
       "      <td>0.63364</td>\n",
       "    </tr>\n",
       "    <tr>\n",
       "      <th>5</th>\n",
       "      <td>5395.3</td>\n",
       "      <td>1.00</td>\n",
       "      <td>10.0</td>\n",
       "      <td>0.5176</td>\n",
       "      <td>0.63364</td>\n",
       "    </tr>\n",
       "    <tr>\n",
       "      <th>6</th>\n",
       "      <td>3884.9</td>\n",
       "      <td>0.01</td>\n",
       "      <td>15.0</td>\n",
       "      <td>0.6995</td>\n",
       "      <td>0.80210</td>\n",
       "    </tr>\n",
       "    <tr>\n",
       "      <th>7</th>\n",
       "      <td>3884.9</td>\n",
       "      <td>0.10</td>\n",
       "      <td>15.0</td>\n",
       "      <td>0.6995</td>\n",
       "      <td>0.80210</td>\n",
       "    </tr>\n",
       "    <tr>\n",
       "      <th>8</th>\n",
       "      <td>3884.9</td>\n",
       "      <td>1.00</td>\n",
       "      <td>15.0</td>\n",
       "      <td>0.6995</td>\n",
       "      <td>0.80210</td>\n",
       "    </tr>\n",
       "    <tr>\n",
       "      <th>9</th>\n",
       "      <td>2996.8</td>\n",
       "      <td>0.01</td>\n",
       "      <td>20.0</td>\n",
       "      <td>0.6927</td>\n",
       "      <td>0.77408</td>\n",
       "    </tr>\n",
       "    <tr>\n",
       "      <th>10</th>\n",
       "      <td>2996.8</td>\n",
       "      <td>0.10</td>\n",
       "      <td>20.0</td>\n",
       "      <td>0.6927</td>\n",
       "      <td>0.77408</td>\n",
       "    </tr>\n",
       "    <tr>\n",
       "      <th>11</th>\n",
       "      <td>2996.8</td>\n",
       "      <td>1.00</td>\n",
       "      <td>20.0</td>\n",
       "      <td>0.6927</td>\n",
       "      <td>0.77408</td>\n",
       "    </tr>\n",
       "  </tbody>\n",
       "</table>\n",
       "</div>"
      ],
      "text/plain": [
       "    mean_num_features   reg   rho  test_acc  train_acc\n",
       "0             10049.8  0.01   5.0    0.1801    0.22760\n",
       "1             10049.8  0.10   5.0    0.1801    0.22760\n",
       "2             10049.8  1.00   5.0    0.1801    0.22760\n",
       "3              5395.3  0.01  10.0    0.5176    0.63364\n",
       "4              5395.3  0.10  10.0    0.5176    0.63364\n",
       "5              5395.3  1.00  10.0    0.5176    0.63364\n",
       "6              3884.9  0.01  15.0    0.6995    0.80210\n",
       "7              3884.9  0.10  15.0    0.6995    0.80210\n",
       "8              3884.9  1.00  15.0    0.6995    0.80210\n",
       "9              2996.8  0.01  20.0    0.6927    0.77408\n",
       "10             2996.8  0.10  20.0    0.6927    0.77408\n",
       "11             2996.8  1.00  20.0    0.6927    0.77408"
      ]
     },
     "execution_count": 85,
     "metadata": {},
     "output_type": "execute_result"
    }
   ],
   "source": [
    "pd.DataFrame(duchi_results)"
   ]
  },
  {
   "cell_type": "code",
   "execution_count": 79,
   "metadata": {
    "collapsed": false
   },
   "outputs": [
    {
     "ename": "NameError",
     "evalue": "name 'results_df' is not defined",
     "output_type": "error",
     "traceback": [
      "\u001b[1;31m---------------------------------------------------------------------------\u001b[0m",
      "\u001b[1;31mNameError\u001b[0m                                 Traceback (most recent call last)",
      "\u001b[1;32m<ipython-input-79-fe409b43b4a1>\u001b[0m in \u001b[0;36m<module>\u001b[1;34m()\u001b[0m\n\u001b[1;32m----> 1\u001b[1;33m \u001b[0mresults_df\u001b[0m\u001b[1;33m\u001b[0m\u001b[0m\n\u001b[0m",
      "\u001b[1;31mNameError\u001b[0m: name 'results_df' is not defined"
     ]
    }
   ],
   "source": [
    "results_df"
   ]
  },
  {
   "cell_type": "code",
   "execution_count": 212,
   "metadata": {
    "collapsed": false
   },
   "outputs": [
    {
     "data": {
      "text/plain": [
       "[]"
      ]
     },
     "execution_count": 212,
     "metadata": {},
     "output_type": "execute_result"
    }
   ],
   "source": [
    "train_features"
   ]
  },
  {
   "cell_type": "code",
   "execution_count": 194,
   "metadata": {
    "collapsed": false
   },
   "outputs": [
    {
     "name": "stdout",
     "output_type": "stream",
     "text": [
      "Solving class 0\n",
      "X SHAPE  (50000, 851)\n",
      "Computing XTX\n",
      "Done Computing XTX\n",
      "Solving class 1\n",
      "X SHAPE  (50000, 842)\n",
      "Computing XTX\n",
      "Done Computing XTX\n",
      "Solving class 2\n",
      "X SHAPE  (50000, 840)\n",
      "Computing XTX\n",
      "Done Computing XTX\n",
      "Solving class 3\n",
      "X SHAPE  (50000, 822)\n",
      "Computing XTX\n",
      "Done Computing XTX\n",
      "Solving class 4\n",
      "X SHAPE  (50000, 825)\n",
      "Computing XTX\n",
      "Done Computing XTX\n",
      "Solving class 5\n",
      "X SHAPE  (50000, 824)\n",
      "Computing XTX\n",
      "Done Computing XTX\n",
      "Solving class 6\n",
      "X SHAPE  (50000, 857)\n",
      "Computing XTX\n",
      "Done Computing XTX\n",
      "Solving class 7\n",
      "X SHAPE  (50000, 834)\n",
      "Computing XTX\n",
      "Done Computing XTX\n",
      "Solving class 8\n",
      "X SHAPE  (50000, 837)\n",
      "Computing XTX\n",
      "Done Computing XTX\n",
      "Solving class 9\n",
      "X SHAPE  (50000, 832)\n",
      "Computing XTX\n",
      "Done Computing XTX\n",
      "Predicting class 0\n",
      "Predicting class 1\n",
      "Predicting class 2\n",
      "Predicting class 3\n",
      "Predicting class 4\n",
      "Predicting class 5\n",
      "Predicting class 6\n",
      "Predicting class 7\n",
      "Predicting class 8\n",
      "Predicting class 9\n",
      "Predicting class 0\n",
      "Predicting class 1\n",
      "Predicting class 2\n",
      "Predicting class 3\n",
      "Predicting class 4\n",
      "Predicting class 5\n",
      "Predicting class 6\n",
      "Predicting class 7\n",
      "Predicting class 8\n",
      "Predicting class 9\n",
      "(0.6673, 0.64419999999999999)\n"
     ]
    }
   ],
   "source": [
    "models = one_vs_all_solve(train_features, labelsTrain, 10, reg=1e-8)\n",
    "print(one_vs_all_evaluate(train_features, test_features, labelsTrain, labelsTest, models, 10))"
   ]
  },
  {
   "cell_type": "code",
   "execution_count": 189,
   "metadata": {
    "collapsed": false
   },
   "outputs": [
    {
     "name": "stdout",
     "output_type": "stream",
     "text": [
      "Predicting class 0\n",
      "Predicting class 1\n",
      "Predicting class 2\n",
      "Predicting class 3\n",
      "Predicting class 4\n",
      "Predicting class 5\n",
      "Predicting class 6\n",
      "Predicting class 7\n",
      "Predicting class 8\n",
      "Predicting class 9\n"
     ]
    }
   ],
   "source": [
    "preds = one_vs_all_predict(train_features, models, num_classes=10)"
   ]
  },
  {
   "cell_type": "code",
   "execution_count": 192,
   "metadata": {
    "collapsed": false
   },
   "outputs": [
    {
     "name": "stdout",
     "output_type": "stream",
     "text": [
      "Predicting class 0\n",
      "Predicting class 1\n",
      "Predicting class 2\n",
      "Predicting class 3\n",
      "Predicting class 4\n",
      "Predicting class 5\n",
      "Predicting class 6\n",
      "Predicting class 7\n",
      "Predicting class 8\n",
      "Predicting class 9\n",
      "Predicting class 0\n",
      "Predicting class 1\n",
      "Predicting class 2\n",
      "Predicting class 3\n",
      "Predicting class 4\n",
      "Predicting class 5\n",
      "Predicting class 6\n",
      "Predicting class 7\n",
      "Predicting class 8\n",
      "Predicting class 9\n",
      "(0.66720000000000002, 0.64410000000000001)\n"
     ]
    }
   ],
   "source": [
    "print(one_vs_all_evaluate(train_features, test_features, labelsTrain, labelsTest, models, 10))"
   ]
  },
  {
   "cell_type": "code",
   "execution_count": 193,
   "metadata": {
    "collapsed": false
   },
   "outputs": [
    {
     "name": "stdout",
     "output_type": "stream",
     "text": [
      "X SHAPE  (50000, 16384)\n",
      "Computing XTX\n",
      "Done Computing XTX\n"
     ]
    },
    {
     "data": {
      "text/plain": [
       "(0.97097999999999995, 0.7288)"
      ]
     },
     "execution_count": 193,
     "metadata": {},
     "output_type": "execute_result"
    }
   ],
   "source": [
    "trainAndEvaluatePrimalModel(X_lift_train, X_lift_test, labelsTrain, labelsTest)"
   ]
  },
  {
   "cell_type": "code",
   "execution_count": 70,
   "metadata": {
    "collapsed": false
   },
   "outputs": [],
   "source": [
    "X_lift_train = X_lift_train.reshape(X_lift_train.shape[0], -1)"
   ]
  },
  {
   "cell_type": "code",
   "execution_count": 72,
   "metadata": {
    "collapsed": false
   },
   "outputs": [
    {
     "data": {
      "text/plain": [
       "(50000, 16384)"
      ]
     },
     "execution_count": 72,
     "metadata": {},
     "output_type": "execute_result"
    }
   ],
   "source": [
    "X_lift_train.shape"
   ]
  },
  {
   "cell_type": "code",
   "execution_count": 73,
   "metadata": {
    "collapsed": true
   },
   "outputs": [],
   "source": [
    "def convert_labels(labels, num_classes=10):\n",
    "    return np.eye(num_classes)[labels]"
   ]
  },
  {
   "cell_type": "code",
   "execution_count": 77,
   "metadata": {
    "collapsed": false
   },
   "outputs": [
    {
     "data": {
      "text/plain": [
       "(50000, 16384)"
      ]
     },
     "execution_count": 77,
     "metadata": {},
     "output_type": "execute_result"
    }
   ],
   "source": [
    "X_lift_train.shape"
   ]
  },
  {
   "cell_type": "code",
   "execution_count": 89,
   "metadata": {
    "collapsed": false
   },
   "outputs": [
    {
     "data": {
      "text/plain": [
       "(50000,)"
      ]
     },
     "execution_count": 89,
     "metadata": {},
     "output_type": "execute_result"
    }
   ],
   "source": [
    "labelsTrain.shape"
   ]
  },
  {
   "cell_type": "code",
   "execution_count": 89,
   "metadata": {
    "collapsed": false
   },
   "outputs": [],
   "source": [
    "numpy.savez(\"cifar_big.npz\", X_lift_train=X_lift_train, y_train=labelsTrain, y_test=labelsTest, X_lift_test=X_lift_test)"
   ]
  },
  {
   "cell_type": "code",
   "execution_count": null,
   "metadata": {
    "collapsed": true
   },
   "outputs": [],
   "source": [
    "y"
   ]
  }
 ],
 "metadata": {
  "kernelspec": {
   "display_name": "Python [Root]",
   "language": "python",
   "name": "Python [Root]"
  },
  "language_info": {
   "codemirror_mode": {
    "name": "ipython",
    "version": 2
   },
   "file_extension": ".py",
   "mimetype": "text/x-python",
   "name": "python",
   "nbconvert_exporter": "python",
   "pygments_lexer": "ipython2",
   "version": "2.7.12"
  },
  "nbpresent": {
   "slides": {
    "691889e3-b7c6-4914-802f-c045471bb148": {
     "id": "691889e3-b7c6-4914-802f-c045471bb148",
     "prev": null,
     "regions": {
      "d473ec79-b583-4b90-8f0c-ca04540a8b42": {
       "attrs": {
        "height": 1,
        "width": 1,
        "x": 0,
        "y": 0
       },
       "id": "d473ec79-b583-4b90-8f0c-ca04540a8b42"
      }
     }
    }
   },
   "themes": {}
  }
 },
 "nbformat": 4,
 "nbformat_minor": 0
}

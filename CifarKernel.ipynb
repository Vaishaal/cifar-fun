{
 "cells": [
  {
   "cell_type": "code",
   "execution_count": 2,
   "metadata": {
    "collapsed": false
   },
   "outputs": [
    {
     "name": "stderr",
     "output_type": "stream",
     "text": [
      "/data/vaishaal/anaconda2/lib/python2.7/site-packages/matplotlib/font_manager.py:273: UserWarning: Matplotlib is building the font cache using fc-list. This may take a moment.\n",
      "  warnings.warn('Matplotlib is building the font cache using fc-list. This may take a moment.')\n"
     ]
    },
    {
     "name": "stdout",
     "output_type": "stream",
     "text": [
      "Populating the interactive namespace from numpy and matplotlib\n"
     ]
    }
   ],
   "source": [
    "import bcd\n",
    "reload(bcd)\n",
    "%pylab inline"
   ]
  },
  {
   "cell_type": "code",
   "execution_count": 4,
   "metadata": {
    "collapsed": true
   },
   "outputs": [],
   "source": [
    "def computeDistanceMatrix(XTest, XTrain):\n",
    "    XTrain = XTrain.reshape(XTrain.shape[0], -1)\n",
    "    XTest = XTest.reshape(XTest.shape[0], -1)\n",
    "    XTrain_norms = (np.linalg.norm(XTrain, axis=1) ** 2)[:, np.newaxis]\n",
    "    XTest_norms = (np.linalg.norm(XTest, axis=1) ** 2)[:, np.newaxis]\n",
    "    K = XTest.dot(XTrain.T)\n",
    "    K *= -2\n",
    "    K += XTrain_norms.T\n",
    "    K += XTest_norms  \n",
    "    return K\n",
    "\n",
    "def unpickle(infile):\n",
    "    import cPickle\n",
    "    fo = open(infile, 'rb')\n",
    "    outdict = cPickle.load(fo)\n",
    "    fo.close()\n",
    "    return outdict\n",
    "\n",
    "def computeRBFGramMatrix(XTest, XTrain, gamma=1):\n",
    "    gamma = -1.0 * gamma\n",
    "    print \"Gamma is \"+  str(gamma)\n",
    "    return np.exp(gamma*computeDistanceMatrix(XTest, XTrain))\n",
    "\n",
    "def load_cifar(center=False):\n",
    "    train_batches = []\n",
    "    train_labels = []\n",
    "    for i in range(1,6):\n",
    "        cifar_out = unpickle(\"../cifar/data_batch_{0}\".format(i))\n",
    "        train_batches.append(cifar_out[\"data\"])\n",
    "        train_labels.extend(cifar_out[\"labels\"])\n",
    "\n",
    "    # Stupid bull shit to get pixels in correct order\n",
    "    X_train= np.vstack(tuple(train_batches)).reshape(-1, 32*32, 3)\n",
    "    X_train = X_train.reshape(-1,3,32,32)\n",
    "    mean_image = np.mean(X_train, axis=0)[np.newaxis, :, :]\n",
    "    y_train = np.array(train_labels)\n",
    "    cifar_out = unpickle(\"../cifar/test_batch\")\n",
    "    X_test = cifar_out[\"data\"].reshape(-1, 32*32, 3)\n",
    "    X_test = X_test.reshape(-1,3,32,32)\n",
    "    X_train = X_train\n",
    "    X_test = X_test\n",
    "    y_test = cifar_out[\"labels\"]\n",
    "    return (X_train, np.array(y_train)), (X_test, np.array(y_test))\n",
    "\n",
    "def load_cifar_processed():\n",
    "    npzfile = np.load(\"./cifar_processed\")\n",
    "    return (npzfile['XTrain'], npzfile['yTrain']), (npzfile['XTest'], npzfile['yTest'])\n"
   ]
  },
  {
   "cell_type": "code",
   "execution_count": 8,
   "metadata": {
    "collapsed": false
   },
   "outputs": [],
   "source": [
    "(XTrain, labelsTrain), (XTest, labelsTest) = load_cifar()"
   ]
  },
  {
   "cell_type": "code",
   "execution_count": 9,
   "metadata": {
    "collapsed": true
   },
   "outputs": [],
   "source": [
    "XTrain = XTrain.reshape(50000, -1)\n",
    "XTrain = np.ascontiguousarray(XTrain, dtype=np.float32)"
   ]
  },
  {
   "cell_type": "code",
   "execution_count": 11,
   "metadata": {
    "collapsed": false
   },
   "outputs": [
    {
     "name": "stdout",
     "output_type": "stream",
     "text": [
      "Gamma is -0.1\n",
      "CPU times: user 2min 42s, sys: 36 s, total: 3min 18s\n",
      "Wall time: 52.6 s\n"
     ]
    }
   ],
   "source": [
    "%time KFloat = computeRBFGramMatrix(XTrain, XTrain, gamma=0.1)"
   ]
  },
  {
   "cell_type": "code",
   "execution_count": 13,
   "metadata": {
    "collapsed": false
   },
   "outputs": [],
   "source": [
    "K = KFloat.astype('float64')"
   ]
  },
  {
   "cell_type": "code",
   "execution_count": 14,
   "metadata": {
    "collapsed": false
   },
   "outputs": [
    {
     "name": "stdout",
     "output_type": "stream",
     "text": [
      "12.0\n",
      "223.60679775\n",
      "solving block 0\n",
      "Epoch: 0, Block: 0, Loss: 0, Train Accuracy: 0.1708\n",
      "221.05589306\n",
      "solving block 1\n",
      "Epoch: 0, Block: 1, Loss: 0, Train Accuracy: 0.24288\n",
      "218.331731467\n",
      "solving block 2\n",
      "Epoch: 0, Block: 2, Loss: 0, Train Accuracy: 0.31478\n",
      "215.638468781\n",
      "solving block 3\n",
      "Epoch: 0, Block: 3, Loss: 0, Train Accuracy: 0.38664\n",
      "212.918493456\n",
      "solving block 4\n",
      "Epoch: 0, Block: 4, Loss: 0, Train Accuracy: 0.45924\n",
      "210.048150199\n",
      "solving block 5\n",
      "Epoch: 0, Block: 5, Loss: 0, Train Accuracy: 0.53182\n",
      "207.206791551\n",
      "solving block 6\n",
      "Epoch: 0, Block: 6, Loss: 0, Train Accuracy: 0.6041\n",
      "204.303323489\n",
      "solving block 7\n",
      "Epoch: 0, Block: 7, Loss: 0, Train Accuracy: 0.6769\n",
      "201.429753589\n",
      "solving block 8\n",
      "Epoch: 0, Block: 8, Loss: 0, Train Accuracy: 0.74878\n",
      "198.564924801\n",
      "solving block 9\n",
      "Epoch: 0, Block: 9, Loss: 0, Train Accuracy: 0.82088\n",
      "195.626717918\n",
      "solving block 10\n",
      "Epoch: 0, Block: 10, Loss: 0, Train Accuracy: 0.89206\n",
      "192.599163028\n",
      "solving block 11\n",
      "Epoch: 0, Block: 11, Loss: 0, Train Accuracy: 0.96394\n",
      "189.376658261\n",
      "solving block 0\n",
      "Epoch: 1, Block: 0, Loss: 0, Train Accuracy: 0.96672\n",
      "190.48402819\n",
      "solving block 1\n",
      "Epoch: 1, Block: 1, Loss: 0, Train Accuracy: 0.96966\n",
      "191.620879435\n",
      "solving block 2\n",
      "Epoch: 1, Block: 2, Loss: 0, Train Accuracy: 0.97264\n",
      "192.699649544\n",
      "solving block 3\n",
      "Epoch: 1, Block: 3, Loss: 0, Train Accuracy: 0.97556\n",
      "193.771627699\n",
      "solving block 4\n",
      "Epoch: 1, Block: 4, Loss: 0, Train Accuracy: 0.97882\n",
      "194.801707927\n",
      "solving block 5\n",
      "Epoch: 1, Block: 5, Loss: 0, Train Accuracy: 0.98164\n",
      "195.914175818\n",
      "solving block 6\n",
      "Epoch: 1, Block: 6, Loss: 0, Train Accuracy: 0.98464\n",
      "196.994134029\n",
      "solving block 7\n",
      "Epoch: 1, Block: 7, Loss: 0, Train Accuracy: 0.98726\n",
      "198.018340051\n",
      "solving block 8\n",
      "Epoch: 1, Block: 8, Loss: 0, Train Accuracy: 0.99004\n",
      "199.059189692\n",
      "solving block 9\n",
      "Epoch: 1, Block: 9, Loss: 0, Train Accuracy: 0.99246\n",
      "200.083718609\n",
      "solving block 10\n",
      "Epoch: 1, Block: 10, Loss: 0, Train Accuracy: 0.99528\n",
      "201.134729369\n",
      "solving block 11\n",
      "Epoch: 1, Block: 11, Loss: 0, Train Accuracy: 0.99858\n",
      "202.10859498\n",
      "solving block 0\n",
      "Epoch: 2, Block: 0, Loss: 0, Train Accuracy: 0.99868\n",
      "201.443524498\n",
      "solving block 1\n",
      "Epoch: 2, Block: 1, Loss: 0, Train Accuracy: 0.99878\n",
      "200.716328624\n",
      "solving block 2\n",
      "Epoch: 2, Block: 2, Loss: 0, Train Accuracy: 0.99886\n",
      "199.95064078\n",
      "solving block 3\n",
      "Epoch: 2, Block: 3, Loss: 0, Train Accuracy: 0.99898\n",
      "199.253148692\n",
      "solving block 4\n",
      "Epoch: 2, Block: 4, Loss: 0, Train Accuracy: 0.99914\n",
      "198.54622595\n",
      "solving block 5\n",
      "Epoch: 2, Block: 5, Loss: 0, Train Accuracy: 0.99928\n",
      "197.764168473\n",
      "solving block 6\n",
      "Epoch: 2, Block: 6, Loss: 0, Train Accuracy: 0.99938\n",
      "197.05974766\n",
      "solving block 7\n",
      "Epoch: 2, Block: 7, Loss: 0, Train Accuracy: 0.99952\n",
      "196.288916151\n",
      "solving block 8\n",
      "Epoch: 2, Block: 8, Loss: 0, Train Accuracy: 0.99964\n",
      "195.562131147\n",
      "solving block 9\n",
      "Epoch: 2, Block: 9, Loss: 0, Train Accuracy: 0.99972\n",
      "194.850173761\n",
      "solving block 10\n",
      "Epoch: 2, Block: 10, Loss: 0, Train Accuracy: 0.9998\n",
      "194.130589853\n",
      "solving block 11\n",
      "Epoch: 2, Block: 11, Loss: 0, Train Accuracy: 0.99994\n"
     ]
    }
   ],
   "source": [
    "bcd.block_kernel_solve(K, labelsTrain, epochs=3, lambdav=10)"
   ]
  },
  {
   "cell_type": "code",
   "execution_count": 19,
   "metadata": {
    "collapsed": false
   },
   "outputs": [
    {
     "data": {
      "text/plain": [
       "1.1001953840255738"
      ]
     },
     "execution_count": 19,
     "metadata": {},
     "output_type": "execute_result"
    }
   ],
   "source": []
  },
  {
   "cell_type": "code",
   "execution_count": null,
   "metadata": {
    "collapsed": true
   },
   "outputs": [],
   "source": []
  }
 ],
 "metadata": {
  "kernelspec": {
   "display_name": "Python [Root]",
   "language": "python",
   "name": "Python [Root]"
  },
  "language_info": {
   "codemirror_mode": {
    "name": "ipython",
    "version": 2
   },
   "file_extension": ".py",
   "mimetype": "text/x-python",
   "name": "python",
   "nbconvert_exporter": "python",
   "pygments_lexer": "ipython2",
   "version": "2.7.12"
  }
 },
 "nbformat": 4,
 "nbformat_minor": 0
}

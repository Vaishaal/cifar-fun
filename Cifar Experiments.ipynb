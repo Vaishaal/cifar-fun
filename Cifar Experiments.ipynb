{
 "cells": [
  {
   "cell_type": "code",
   "execution_count": 1,
   "metadata": {
    "collapsed": false,
    "nbpresent": {
     "id": "5167988e-f347-496e-abe3-310656310669"
    }
   },
   "outputs": [
    {
     "name": "stderr",
     "output_type": "stream",
     "text": [
      "Using gpu device 0: Tesla K20c (CNMeM is enabled with initial size: 95.0% of memory, cuDNN 5005)\n",
      "/data/vaishaal/anaconda2/lib/python2.7/site-packages/matplotlib/font_manager.py:273: UserWarning: Matplotlib is building the font cache using fc-list. This may take a moment.\n",
      "  warnings.warn('Matplotlib is building the font cache using fc-list. This may take a moment.')\n"
     ]
    },
    {
     "name": "stdout",
     "output_type": "stream",
     "text": [
      "Populating the interactive namespace from numpy and matplotlib\n"
     ]
    }
   ],
   "source": [
    "import cifar_gpu_fun\n",
    "reload(cifar_gpu_fun)\n",
    "from cifar_gpu_fun import *\n",
    "from sklearn.neighbors import KNeighborsClassifier\n",
    "import gc\n",
    "from numba import jit\n",
    "%pylab inline"
   ]
  },
  {
   "cell_type": "markdown",
   "metadata": {
    "nbpresent": {
     "id": "c640590a-a864-4de1-bdac-8f04d9c8def4"
    }
   },
   "source": [
    "#### Define Some Constants "
   ]
  },
  {
   "cell_type": "code",
   "execution_count": 299,
   "metadata": {
    "collapsed": true,
    "nbpresent": {
     "id": "5ee9705d-3093-4d0f-bd82-0e3dfcd14555"
    }
   },
   "outputs": [],
   "source": [
    "NUM_FEATURE_BATCHES=1\n",
    "DATA_BATCH_SIZE=(1280)\n",
    "FEATURE_BATCH_SIZE=(1024)\n",
    "NUM_TRAIN = 50000\n",
    "NUM_TEST = 10000\n",
    "NUM_CLASSES = 10\n",
    "POOL_TYPE ='avg'\n",
    "FILTER_GEN ='gaussian'\n",
    "BANDWIDTH = 1.0\n",
    "LAMBDAS = [1e-1/FEATURE_BATCH_SIZE, 1e-2/FEATURE_BATCH_SIZE, 1e-3/FEATURE_BATCH_SIZE, 1e-4/FEATURE_BATCH_SIZE, 1e-5/FEATURE_BATCH_SIZE]\n",
    "CUDA_CONVNET = True\n",
    "SCALE = 55.0\n",
    "BIAS = 1.25\n",
    "MIN_VAR_TOL = 1e-4\n",
    "TOT_FEAT = FEATURE_BATCH_SIZE*NUM_FEATURE_BATCHES"
   ]
  },
  {
   "cell_type": "code",
   "execution_count": 6,
   "metadata": {
    "collapsed": true
   },
   "outputs": [],
   "source": [
    "def make_skip_empirical_filter_gen(patches, labels, channels=3, skip_min=0, skip_max=4, MIN_VAR_TOL=0):\n",
    "    patches = patches.reshape(patches.shape[0]*patches.shape[1],*patches.shape[2:])\n",
    "    all_idxs = np.random.choice(patches.shape[0], patches.shape[0], replace=False)\n",
    "    curr_idx = [0]\n",
    "    def skip_empirical_filter_gen(num_filters):\n",
    "        idxs = all_idxs[curr_idx[0]:curr_idx[0]+num_filters]\n",
    "        curr_idx[0] += num_filters\n",
    "        unfiltered = patches[idxs].astype('float32').transpose(0,3,1,2)\n",
    "        old_shape = unfiltered.shape\n",
    "        unfiltered = unfiltered.reshape(unfiltered.shape[0], -1)\n",
    "        unfiltered_vars = np.var(unfiltered, axis=1)\n",
    "        filtered = unfiltered[np.where(unfiltered_vars > MIN_VAR_TOL)]\n",
    "        out = filtered[:num_filters].reshape(num_filters, *old_shape[1:])\n",
    "        total_skipped = 0\n",
    "        for i in range(num_filters):\n",
    "            # first calculate how many you are going to skip\n",
    "            s = np.random.randint(skip_min, skip_max+1)            \n",
    "            total_skipped += s*out[i].shape[0]\n",
    "            # then pick indices to set to 0\n",
    "            skip_idxs = np.random.choice(out[i].shape[1]**2, s, replace=False)\n",
    "            out[i].reshape(out[i].shape[0],-1)[:, skip_idxs] = 0\n",
    "        print \"total skipped \", total_skipped\n",
    "        return out\n",
    "    return skip_empirical_filter_gen\n"
   ]
  },
  {
   "cell_type": "code",
   "execution_count": 300,
   "metadata": {
    "collapsed": false,
    "nbpresent": {
     "id": "d4e10ddf-1e84-46e6-827c-649e44ec1642"
    }
   },
   "outputs": [],
   "source": [
    "np.random.seed(10)                                                                                                                                                                   \n",
    "(XTrain, labelsTrain), (XTest, labelsTest) = load_cifar_processed()\n",
    "if FILTER_GEN == 'gaussian':\n",
    "    filter_gen = make_gaussian_filter_gen(1.0/v)\n",
    "elif FILTER_GEN == 'empirical':\n",
    "    patches = patchify_all_imgs(XTrain, (6,6), pad=False)\n",
    "    filter_gen = make_empirical_filter_gen(patches, labelsTrain, MIN_VAR_TOL)\n",
    "elif FILTER_GEN == 'empirical_balanced':\n",
    "    patches = patchify_all_imgs(XTrain, (6,6), pad=False)\n",
    "    filter_gen = make_balanced_empirical_filter_gen(patches, labelsTrain)\n",
    "elif FILTER_GEN == 'gaussian_cov':\n",
    "    patches = patchify_all_imgs(XTrain, (6,6), pad=False)\n",
    "    filter_gen = make_gaussian_cov_filter_gen(patches)\n",
    "elif FILTER_GEN == 'gaussian_cc_cov':\n",
    "    patches = patchify_all_imgs(XTrain, (6,6), pad=False)\n",
    "    filter_gen = make_gaussian_cc_cov_filter_gen(patches, labelsTrain)\n",
    "elif FILTER_GEN == 'empirical_skip':\n",
    "    patches = patchify_all_imgs(XTrain, (6,6), pad=False)\n",
    "    filter_gen = make_skip_empirical_filter_gen(patches, labelsTrain)\n",
    "else:\n",
    "    raise Exception('Unknown FILTER_GEN value')"
   ]
  },
  {
   "cell_type": "code",
   "execution_count": 8,
   "metadata": {
    "collapsed": false
   },
   "outputs": [],
   "source": [
    "filter_gen = make_skip_empirical_filter_gen(patches, labelsTrain, skip_min=0, skip_max=0)"
   ]
  },
  {
   "cell_type": "code",
   "execution_count": 6,
   "metadata": {
    "collapsed": false,
    "nbpresent": {
     "id": "e8726525-6c82-47fa-a48a-2cbac8cc3189"
    }
   },
   "outputs": [
    {
     "data": {
      "text/plain": [
       "<matplotlib.image.AxesImage at 0x7f7b05d46fd0>"
      ]
     },
     "execution_count": 6,
     "metadata": {},
     "output_type": "execute_result"
    },
    {
     "data": {
      "image/png": "[encoded data removed]",
      "text/plain": [
       "<matplotlib.figure.Figure at 0x7f7b3215b990>"
      ]
     },
     "metadata": {},
     "output_type": "display_data"
    }
   ],
   "source": [
    "imshow(XTrain[0].transpose(1,2,0)[:,:,0], cmap=plt.cm.gray)"
   ]
  },
  {
   "cell_type": "code",
   "execution_count": 7,
   "metadata": {
    "collapsed": false
   },
   "outputs": [
    {
     "ename": "NameError",
     "evalue": "name 'X' is not defined",
     "output_type": "error",
     "traceback": [
      "\u001b[1;31m---------------------------------------------------------------------------\u001b[0m",
      "\u001b[1;31mNameError\u001b[0m                                 Traceback (most recent call last)",
      "\u001b[1;32m<ipython-input-7-270dd209b8a9>\u001b[0m in \u001b[0;36m<module>\u001b[1;34m()\u001b[0m\n\u001b[1;32m----> 1\u001b[1;33m \u001b[0mX\u001b[0m\u001b[1;33m.\u001b[0m\u001b[0mshape\u001b[0m\u001b[1;33m\u001b[0m\u001b[0m\n\u001b[0m",
      "\u001b[1;31mNameError\u001b[0m: name 'X' is not defined"
     ]
    }
   ],
   "source": [
    "X.shape"
   ]
  },
  {
   "cell_type": "code",
   "execution_count": null,
   "metadata": {
    "collapsed": false,
    "nbpresent": {
     "id": "1ee28382-5aa2-4438-b2e5-886a3d969201"
    }
   },
   "outputs": [
    {
     "name": "stdout",
     "output_type": "stream",
     "text": [
      "Out Shape  2 x 2 x 2048\n",
      "(1024, 3, 6, 6)\n",
      "FEATURE BATCH # 0 DATA BATCH # 0  SIZE IS  1280\n",
      "FEATURE BATCH # 0 DATA BATCH # 1  SIZE IS  1280\n",
      "FEATURE BATCH # 0 DATA BATCH # 2  SIZE IS  1280\n",
      "FEATURE BATCH # 0 DATA BATCH # 3  SIZE IS  1280\n",
      "FEATURE BATCH # 0 DATA BATCH # 4  SIZE IS  1280\n",
      "FEATURE BATCH # 0 DATA BATCH # 5  SIZE IS  1280\n",
      "FEATURE BATCH # 0 DATA BATCH # 6  SIZE IS  1280\n",
      "FEATURE BATCH # 0 DATA BATCH # 7  SIZE IS  1280\n",
      "FEATURE BATCH # 0 DATA BATCH # 8  SIZE IS  1280\n",
      "FEATURE BATCH # 0 DATA BATCH # 9  SIZE IS  1280\n",
      "FEATURE BATCH # 0 DATA BATCH # 10  SIZE IS  1280\n",
      "FEATURE BATCH # 0 DATA BATCH # 11  SIZE IS  1280\n",
      "FEATURE BATCH # 0 DATA BATCH # 12  SIZE IS  1280\n",
      "FEATURE BATCH # 0 DATA BATCH # 13  SIZE IS  1280\n",
      "FEATURE BATCH # 0 DATA BATCH # 14  SIZE IS  1280\n",
      "FEATURE BATCH # 0 DATA BATCH # 15  SIZE IS  1280\n",
      "FEATURE BATCH # 0 DATA BATCH # 16  SIZE IS  1280\n",
      "FEATURE BATCH # 0 DATA BATCH # 17  SIZE IS  1280\n",
      "FEATURE BATCH # 0 DATA BATCH # 18  SIZE IS  1280\n",
      "FEATURE BATCH # 0 DATA BATCH # 19  SIZE IS  1280\n",
      "FEATURE BATCH # 0 DATA BATCH # 20  SIZE IS  1280\n",
      "FEATURE BATCH # 0 DATA BATCH # 21  SIZE IS  1280\n",
      "FEATURE BATCH # 0 DATA BATCH # 22  SIZE IS  1280\n",
      "FEATURE BATCH # 0 DATA BATCH # 23  SIZE IS  1280\n",
      "FEATURE BATCH # 0 DATA BATCH # 24  SIZE IS  1280\n",
      "FEATURE BATCH # 0 DATA BATCH # 25  SIZE IS  1280\n",
      "FEATURE BATCH # 0 DATA BATCH # 26  SIZE IS  1280\n",
      "FEATURE BATCH # 0 DATA BATCH # 27  SIZE IS  1280\n",
      "FEATURE BATCH # 0 DATA BATCH # 28  SIZE IS  1280\n"
     ]
    }
   ],
   "source": [
    "X = np.vstack((XTrain, XTest))\n",
    "(Xlevel1, filters) = conv(X, filter_gen, 1024, 1, 1280, CUDA_CONVNET, pool_size=14, symmetric_relu=True)"
   ]
  },
  {
   "cell_type": "code",
   "execution_count": null,
   "metadata": {
    "collapsed": false
   },
   "outputs": [
    {
     "name": "stdout",
     "output_type": "stream",
     "text": [
      "RELOADING MOTHER FUCKER 3\n",
      "CHILD Process Spun yupyup\n",
      "Convolving features\n",
      "Out Shape  2 x 2 x 2048\n",
      "total skipped  0\n",
      "FEATURE BATCH # 0 DATA BATCH # 0  SIZE IS  1280\n",
      "FEATURE BATCH # 0 DATA BATCH # 1  SIZE IS  1280\n",
      "FEATURE BATCH # 0 DATA BATCH # 2  SIZE IS  1280\n",
      "FEATURE BATCH # 0 DATA BATCH # 3  SIZE IS  1280\n",
      "FEATURE BATCH # 0 DATA BATCH # 4  SIZE IS  1280\n",
      "FEATURE BATCH # 0 DATA BATCH # 5  SIZE IS  1280\n",
      "FEATURE BATCH # 0 DATA BATCH # 6  SIZE IS  1280\n",
      "FEATURE BATCH # 0 DATA BATCH # 7  SIZE IS  1280\n",
      "FEATURE BATCH # 0 DATA BATCH # 8  SIZE IS  1280\n",
      "FEATURE BATCH # 0 DATA BATCH # 9  SIZE IS  1280\n",
      "FEATURE BATCH # 0 DATA BATCH # 10  SIZE IS  1280\n",
      "FEATURE BATCH # 0 DATA BATCH # 11  SIZE IS  1280\n",
      "FEATURE BATCH # 0 DATA BATCH # 12  SIZE IS  1280\n",
      "FEATURE BATCH # 0 DATA BATCH # 13  SIZE IS  1280\n",
      "FEATURE BATCH # 0 DATA BATCH # 14  SIZE IS  1280\n",
      "FEATURE BATCH # 0 DATA BATCH # 15  SIZE IS  1280\n",
      "FEATURE BATCH # 0 DATA BATCH # 16  SIZE IS  1280\n",
      "FEATURE BATCH # 0 DATA BATCH # 17  SIZE IS  1280\n",
      "FEATURE BATCH # 0 DATA BATCH # 18  SIZE IS  1280\n",
      "FEATURE BATCH # 0 DATA BATCH # 19  SIZE IS  1280\n",
      "FEATURE BATCH # 0 DATA BATCH # 20  SIZE IS  1280\n",
      "FEATURE BATCH # 0 DATA BATCH # 21  SIZE IS  1280\n",
      "FEATURE BATCH # 0 DATA BATCH # 22  SIZE IS  1280\n",
      "FEATURE BATCH # 0 DATA BATCH # 23  SIZE IS  1280\n",
      "FEATURE BATCH # 0 DATA BATCH # 24  SIZE IS  1280\n",
      "FEATURE BATCH # 0 DATA BATCH # 25  SIZE IS  1280\n",
      "FEATURE BATCH # 0 DATA BATCH # 26  SIZE IS  1280\n",
      "FEATURE BATCH # 0 DATA BATCH # 27  SIZE IS  1280\n",
      "FEATURE BATCH # 0 DATA BATCH # 28  SIZE IS  1280\n",
      "FEATURE BATCH # 0 DATA BATCH # 29  SIZE IS  1280\n",
      "FEATURE BATCH # 0 DATA BATCH # 30  SIZE IS  1280\n",
      "FEATURE BATCH # 0 DATA BATCH # 31  SIZE IS  1280\n",
      "FEATURE BATCH # 0 DATA BATCH # 32  SIZE IS  1280\n",
      "FEATURE BATCH # 0 DATA BATCH # 33  SIZE IS  1280\n",
      "FEATURE BATCH # 0 DATA BATCH # 34  SIZE IS  1280\n",
      "FEATURE BATCH # 0 DATA BATCH # 35  SIZE IS  1280\n",
      "FEATURE BATCH # 0 DATA BATCH # 36  SIZE IS  1280\n",
      "FEATURE BATCH # 0 DATA BATCH # 37  SIZE IS  1280\n",
      "FEATURE BATCH # 0 DATA BATCH # 38  SIZE IS  1280\n",
      "FEATURE BATCH # 0 DATA BATCH # 39  SIZE IS  1280\n",
      "FEATURE BATCH # 0 DATA BATCH # 40  SIZE IS  1280\n",
      "FEATURE BATCH # 0 DATA BATCH # 41  SIZE IS  1280\n",
      "FEATURE BATCH # 0 DATA BATCH # 42  SIZE IS  1280\n",
      "FEATURE BATCH # 0 DATA BATCH # 43  SIZE IS  1280\n",
      "FEATURE BATCH # 0 DATA BATCH # 44  SIZE IS  1280\n",
      "FEATURE BATCH # 0 DATA BATCH # 45  SIZE IS  1280\n",
      "FEATURE BATCH # 0 DATA BATCH # 46  SIZE IS  1120\n",
      "Convolving features took 47.2623460293 seconds\n",
      "Sending features\n",
      "Receiving (ASYNC) Batch 1\n",
      "Sending features took 1.13563203812 seconds\n",
      "Convolving features\n",
      "Out Shape  2 x 2 x 2048\n",
      "total skipped  0\n",
      "FEATURE BATCH # 1 DATA BATCH # 0  SIZE IS  1280\n",
      "Receiving (ASYNC) took 0.917744159698 seconds\n",
      "XBATCH DTYPE float32\n",
      "Accumulating (ASYNC) Gram\n",
      "FEATURE BATCH # 1 DATA BATCH # 1  SIZE IS  1280\n",
      "FEATURE BATCH # 1 DATA BATCH # 2  SIZE IS  1280\n",
      "FEATURE BATCH # 1 DATA BATCH # 3  SIZE IS  1280\n",
      "FEATURE BATCH # 1 DATA BATCH # 4  SIZE IS  1280\n",
      "FEATURE BATCH # 1 DATA BATCH # 5  SIZE IS  1280\n",
      "FEATURE BATCH # 1 DATA BATCH # 6  SIZE IS  1280\n",
      "FEATURE BATCH # 1 DATA BATCH # 7  SIZE IS  1280\n",
      "FEATURE BATCH # 1 DATA BATCH # 8  SIZE IS  1280\n",
      "FEATURE BATCH # 1 DATA BATCH # 9  SIZE IS  1280\n",
      "FEATURE BATCH # 1 DATA BATCH # 10  SIZE IS  1280\n",
      "FEATURE BATCH # 1 DATA BATCH # 11  SIZE IS  1280\n",
      "FEATURE BATCH # 1 DATA BATCH # 12  SIZE IS  1280\n",
      "FEATURE BATCH # 1 DATA BATCH # 13  SIZE IS  1280\n",
      "FEATURE BATCH # 1 DATA BATCH # 14  SIZE IS  1280\n",
      "FEATURE BATCH # 1 DATA BATCH # 15  SIZE IS  1280\n",
      "FEATURE BATCH # 1 DATA BATCH # 16  SIZE IS  1280\n",
      "FEATURE BATCH # 1 DATA BATCH # 17  SIZE IS  1280\n",
      "FEATURE BATCH # 1 DATA BATCH # 18  SIZE IS  1280\n",
      "FEATURE BATCH # 1 DATA BATCH # 19  SIZE IS  1280\n",
      "FEATURE BATCH # 1 DATA BATCH # 20  SIZE IS  1280\n",
      "FEATURE BATCH # 1 DATA BATCH # 21  SIZE IS  1280\n",
      "FEATURE BATCH # 1 DATA BATCH # 22  SIZE IS  1280\n",
      "FEATURE BATCH # 1 DATA BATCH # 23  SIZE IS  1280\n",
      "FEATURE BATCH # 1 DATA BATCH # 24  SIZE IS  1280\n",
      "FEATURE BATCH # 1 DATA BATCH # 25  SIZE IS  1280\n",
      "FEATURE BATCH # 1 DATA BATCH # 26  SIZE IS  1280\n",
      "FEATURE BATCH # 1 DATA BATCH # 27  SIZE IS  1280\n",
      "FEATURE BATCH # 1 DATA BATCH # 28  SIZE IS  1280\n",
      "FEATURE BATCH # 1 DATA BATCH # 29  SIZE IS  1280\n",
      "FEATURE BATCH # 1 DATA BATCH # 30  SIZE IS  1280\n",
      "FEATURE BATCH # 1 DATA BATCH # 31  SIZE IS  1280\n",
      "FEATURE BATCH # 1 DATA BATCH # 32  SIZE IS  1280\n",
      "FEATURE BATCH # 1 DATA BATCH # 33  SIZE IS  1280\n",
      "FEATURE BATCH # 1 DATA BATCH # 34  SIZE IS  1280\n",
      "FEATURE BATCH # 1 DATA BATCH # 35  SIZE IS  1280\n",
      "FEATURE BATCH # 1 DATA BATCH # 36  SIZE IS  1280\n",
      "FEATURE BATCH # 1 DATA BATCH # 37  SIZE IS  1280\n",
      "FEATURE BATCH # 1 DATA BATCH # 38  SIZE IS  1280\n",
      "FEATURE BATCH # 1 DATA BATCH # 39  SIZE IS  1280\n",
      "FEATURE BATCH # 1 DATA BATCH # 40  SIZE IS  1280\n",
      "FEATURE BATCH # 1 DATA BATCH # 41  SIZE IS  1280\n",
      "FEATURE BATCH # 1 DATA BATCH # 42  SIZE IS  1280\n",
      "FEATURE BATCH # 1 DATA BATCH # 43  SIZE IS  1280\n",
      "Accumulating (ASYNC) Batch 1 gram took 42.1419820786 seconds\n",
      "FEATURE BATCH # 1 DATA BATCH # 44  SIZE IS  1280\n",
      "FEATURE BATCH # 1 DATA BATCH # 45  SIZE IS  1280\n",
      "FEATURE BATCH # 1 DATA BATCH # 46  SIZE IS  1120\n",
      "Convolving features took 47.2431409359 seconds\n",
      "Sending features\n",
      "Receiving (ASYNC) Batch 2\n",
      "Sending features took 0.269690990448 seconds\n",
      "Convolving features\n",
      "Out Shape  2 x 2 x 2048\n",
      "total skipped  0\n",
      "FEATURE BATCH # 2 DATA BATCH # 0  SIZE IS  1280\n",
      "Receiving (ASYNC) took 0.38932800293 seconds\n",
      "XBATCH DTYPE float32\n",
      "Accumulating (ASYNC) Gram\n",
      "FEATURE BATCH # 2 DATA BATCH # 1  SIZE IS  1280\n",
      "FEATURE BATCH # 2 DATA BATCH # 2  SIZE IS  1280\n",
      "FEATURE BATCH # 2 DATA BATCH # 3  SIZE IS  1280\n",
      "FEATURE BATCH # 2 DATA BATCH # 4  SIZE IS  1280\n",
      "FEATURE BATCH # 2 DATA BATCH # 5  SIZE IS  1280\n",
      "FEATURE BATCH # 2 DATA BATCH # 6  SIZE IS  1280\n",
      "FEATURE BATCH # 2 DATA BATCH # 7  SIZE IS  1280\n",
      "FEATURE BATCH # 2 DATA BATCH # 8  SIZE IS  1280\n",
      "FEATURE BATCH # 2 DATA BATCH # 9  SIZE IS  1280\n",
      "FEATURE BATCH # 2 DATA BATCH # 10  SIZE IS  1280\n",
      "FEATURE BATCH # 2 DATA BATCH # 11  SIZE IS  1280\n",
      "FEATURE BATCH # 2 DATA BATCH # 12  SIZE IS  1280\n",
      "FEATURE BATCH # 2 DATA BATCH # 13  SIZE IS  1280\n",
      "FEATURE BATCH # 2 DATA BATCH # 14  SIZE IS  1280\n",
      "FEATURE BATCH # 2 DATA BATCH # 15  SIZE IS  1280\n",
      "FEATURE BATCH # 2 DATA BATCH # 16  SIZE IS  1280\n",
      "FEATURE BATCH # 2 DATA BATCH # 17  SIZE IS  1280\n",
      "FEATURE BATCH # 2 DATA BATCH # 18  SIZE IS  1280\n",
      "FEATURE BATCH # 2 DATA BATCH # 19  SIZE IS  1280\n",
      "FEATURE BATCH # 2 DATA BATCH # 20  SIZE IS  1280\n",
      "FEATURE BATCH # 2 DATA BATCH # 21  SIZE IS  1280\n",
      "FEATURE BATCH # 2 DATA BATCH # 22  SIZE IS  1280\n",
      "FEATURE BATCH # 2 DATA BATCH # 23  SIZE IS  1280\n",
      "FEATURE BATCH # 2 DATA BATCH # 24  SIZE IS  1280\n",
      "FEATURE BATCH # 2 DATA BATCH # 25  SIZE IS  1280\n",
      "FEATURE BATCH # 2 DATA BATCH # 26  SIZE IS  1280\n",
      "FEATURE BATCH # 2 DATA BATCH # 27  SIZE IS  1280\n",
      "FEATURE BATCH # 2 DATA BATCH # 28  SIZE IS  1280\n",
      "FEATURE BATCH # 2 DATA BATCH # 29  SIZE IS  1280\n",
      "FEATURE BATCH # 2 DATA BATCH # 30  SIZE IS  1280\n",
      "FEATURE BATCH # 2 DATA BATCH # 31  SIZE IS  1280\n",
      "FEATURE BATCH # 2 DATA BATCH # 32  SIZE IS  1280\n",
      "FEATURE BATCH # 2 DATA BATCH # 33  SIZE IS  1280\n",
      "FEATURE BATCH # 2 DATA BATCH # 34  SIZE IS  1280\n",
      "FEATURE BATCH # 2 DATA BATCH # 35  SIZE IS  1280\n",
      "FEATURE BATCH # 2 DATA BATCH # 36  SIZE IS  1280\n",
      "FEATURE BATCH # 2 DATA BATCH # 37  SIZE IS  1280\n",
      "FEATURE BATCH # 2 DATA BATCH # 38  SIZE IS  1280\n",
      "FEATURE BATCH # 2 DATA BATCH # 39  SIZE IS  1280\n",
      "FEATURE BATCH # 2 DATA BATCH # 40  SIZE IS  1280\n",
      "Accumulating (ASYNC) Batch 2 gram took 40.0471110344 seconds\n",
      "FEATURE BATCH # 2 DATA BATCH # 41  SIZE IS  1280\n",
      "FEATURE BATCH # 2 DATA BATCH # 42  SIZE IS  1280\n",
      "FEATURE BATCH # 2 DATA BATCH # 43  SIZE IS  1280\n",
      "FEATURE BATCH # 2 DATA BATCH # 44  SIZE IS  1280\n",
      "FEATURE BATCH # 2 DATA BATCH # 45  SIZE IS  1280\n",
      "FEATURE BATCH # 2 DATA BATCH # 46  SIZE IS  1120\n",
      "Convolving features took 47.2693119049 seconds\n",
      "Sending features\n",
      "Receiving (ASYNC) Batch 3\n",
      "Sending features took 0.264942884445 seconds\n",
      "Convolving features\n",
      "Out Shape  2 x 2 x 2048\n",
      "total skipped  0\n",
      "FEATURE BATCH # 3 DATA BATCH # 0  SIZE IS  1280\n",
      "Receiving (ASYNC) took 0.408694028854 seconds\n",
      "XBATCH DTYPE float32\n",
      "Accumulating (ASYNC) Gram\n",
      "FEATURE BATCH # 3 DATA BATCH # 1  SIZE IS  1280\n",
      "FEATURE BATCH # 3 DATA BATCH # 2  SIZE IS  1280\n",
      "FEATURE BATCH # 3 DATA BATCH # 3  SIZE IS  1280\n",
      "FEATURE BATCH # 3 DATA BATCH # 4  SIZE IS  1280\n",
      "FEATURE BATCH # 3 DATA BATCH # 5  SIZE IS  1280\n",
      "FEATURE BATCH # 3 DATA BATCH # 6  SIZE IS  1280\n",
      "FEATURE BATCH # 3 DATA BATCH # 7  SIZE IS  1280\n",
      "FEATURE BATCH # 3 DATA BATCH # 8  SIZE IS  1280\n",
      "FEATURE BATCH # 3 DATA BATCH # 9  SIZE IS  1280\n",
      "FEATURE BATCH # 3 DATA BATCH # 10  SIZE IS  1280\n",
      "FEATURE BATCH # 3 DATA BATCH # 11  SIZE IS  1280\n",
      "FEATURE BATCH # 3 DATA BATCH # 12  SIZE IS  1280\n",
      "FEATURE BATCH # 3 DATA BATCH # 13  SIZE IS  1280\n",
      "FEATURE BATCH # 3 DATA BATCH # 14  SIZE IS  1280\n",
      "FEATURE BATCH # 3 DATA BATCH # 15  SIZE IS  1280\n",
      "FEATURE BATCH # 3 DATA BATCH # 16  SIZE IS  1280\n",
      "FEATURE BATCH # 3 DATA BATCH # 17  SIZE IS  1280\n",
      "FEATURE BATCH # 3 DATA BATCH # 18  SIZE IS  1280\n",
      "FEATURE BATCH # 3 DATA BATCH # 19  SIZE IS  1280\n",
      "FEATURE BATCH # 3 DATA BATCH # 20  SIZE IS  1280\n",
      "FEATURE BATCH # 3 DATA BATCH # 21  SIZE IS  1280\n",
      "FEATURE BATCH # 3 DATA BATCH # 22  SIZE IS  1280\n",
      "FEATURE BATCH # 3 DATA BATCH # 23  SIZE IS  1280\n",
      "FEATURE BATCH # 3 DATA BATCH # 24  SIZE IS  1280\n",
      "FEATURE BATCH # 3 DATA BATCH # 25  SIZE IS  1280\n",
      "FEATURE BATCH # 3 DATA BATCH # 26  SIZE IS  1280\n",
      "FEATURE BATCH # 3 DATA BATCH # 27  SIZE IS  1280\n",
      "FEATURE BATCH # 3 DATA BATCH # 28  SIZE IS  1280\n",
      "FEATURE BATCH # 3 DATA BATCH # 29  SIZE IS  1280\n",
      "FEATURE BATCH # 3 DATA BATCH # 30  SIZE IS  1280\n",
      "FEATURE BATCH # 3 DATA BATCH # 31  SIZE IS  1280\n",
      "FEATURE BATCH # 3 DATA BATCH # 32  SIZE IS  1280\n",
      "FEATURE BATCH # 3 DATA BATCH # 33  SIZE IS  1280\n",
      "FEATURE BATCH # 3 DATA BATCH # 34  SIZE IS  1280\n",
      "FEATURE BATCH # 3 DATA BATCH # 35  SIZE IS  1280\n",
      "FEATURE BATCH # 3 DATA BATCH # 36  SIZE IS  1280\n",
      "FEATURE BATCH # 3 DATA BATCH # 37  SIZE IS  1280\n",
      "FEATURE BATCH # 3 DATA BATCH # 38  SIZE IS  1280\n",
      "FEATURE BATCH # 3 DATA BATCH # 39  SIZE IS  1280\n",
      "FEATURE BATCH # 3 DATA BATCH # 40  SIZE IS  1280\n",
      "Accumulating (ASYNC) Batch 3 gram took 40.1224198341 seconds\n",
      "FEATURE BATCH # 3 DATA BATCH # 41  SIZE IS  1280\n",
      "FEATURE BATCH # 3 DATA BATCH # 42  SIZE IS  1280\n",
      "FEATURE BATCH # 3 DATA BATCH # 43  SIZE IS  1280\n",
      "FEATURE BATCH # 3 DATA BATCH # 44  SIZE IS  1280\n",
      "FEATURE BATCH # 3 DATA BATCH # 45  SIZE IS  1280\n",
      "FEATURE BATCH # 3 DATA BATCH # 46  SIZE IS  1120\n",
      "Convolving features took 47.2143311501 seconds\n",
      "Sending features\n",
      "Receiving (ASYNC) Batch 4\n",
      "Sending features took 0.264503002167 seconds\n",
      "Convolving features\n",
      "Out Shape  2 x 2 x 2048\n",
      "total skipped  0\n",
      "FEATURE BATCH # 4 DATA BATCH # 0  SIZE IS  1280\n",
      "Receiving (ASYNC) took 0.419318199158 seconds\n",
      "XBATCH DTYPE float32\n",
      "Accumulating (ASYNC) Gram\n",
      "FEATURE BATCH # 4 DATA BATCH # 1  SIZE IS  1280\n",
      "FEATURE BATCH # 4 DATA BATCH # 2  SIZE IS  1280\n",
      "FEATURE BATCH # 4 DATA BATCH # 3  SIZE IS  1280\n",
      "FEATURE BATCH # 4 DATA BATCH # 4  SIZE IS  1280\n",
      "FEATURE BATCH # 4 DATA BATCH # 5  SIZE IS  1280\n",
      "FEATURE BATCH # 4 DATA BATCH # 6  SIZE IS  1280\n",
      "FEATURE BATCH # 4 DATA BATCH # 7  SIZE IS  1280\n",
      "FEATURE BATCH # 4 DATA BATCH # 8  SIZE IS  1280\n",
      "FEATURE BATCH # 4 DATA BATCH # 9  SIZE IS  1280\n",
      "FEATURE BATCH # 4 DATA BATCH # 10  SIZE IS  1280\n",
      "FEATURE BATCH # 4 DATA BATCH # 11  SIZE IS  1280\n",
      "FEATURE BATCH # 4 DATA BATCH # 12  SIZE IS  1280\n",
      "FEATURE BATCH # 4 DATA BATCH # 13  SIZE IS  1280\n",
      "FEATURE BATCH # 4 DATA BATCH # 14  SIZE IS  1280\n",
      "FEATURE BATCH # 4 DATA BATCH # 15  SIZE IS  1280\n",
      "FEATURE BATCH # 4 DATA BATCH # 16  SIZE IS  1280\n",
      "FEATURE BATCH # 4 DATA BATCH # 17  SIZE IS  1280\n",
      "FEATURE BATCH # 4 DATA BATCH # 18  SIZE IS  1280\n",
      "FEATURE BATCH # 4 DATA BATCH # 19  SIZE IS  1280\n",
      "FEATURE BATCH # 4 DATA BATCH # 20  SIZE IS  1280\n",
      "FEATURE BATCH # 4 DATA BATCH # 21  SIZE IS  1280\n",
      "FEATURE BATCH # 4 DATA BATCH # 22  SIZE IS  1280\n",
      "FEATURE BATCH # 4 DATA BATCH # 23  SIZE IS  1280\n",
      "FEATURE BATCH # 4 DATA BATCH # 24  SIZE IS  1280\n",
      "FEATURE BATCH # 4 DATA BATCH # 25  SIZE IS  1280\n",
      "FEATURE BATCH # 4 DATA BATCH # 26  SIZE IS  1280\n",
      "FEATURE BATCH # 4 DATA BATCH # 27  SIZE IS  1280\n",
      "FEATURE BATCH # 4 DATA BATCH # 28  SIZE IS  1280\n",
      "FEATURE BATCH # 4 DATA BATCH # 29  SIZE IS  1280\n",
      "FEATURE BATCH # 4 DATA BATCH # 30  SIZE IS  1280\n",
      "FEATURE BATCH # 4 DATA BATCH # 31  SIZE IS  1280\n",
      "FEATURE BATCH # 4 DATA BATCH # 32  SIZE IS  1280\n",
      "FEATURE BATCH # 4 DATA BATCH # 33  SIZE IS  1280\n",
      "FEATURE BATCH # 4 DATA BATCH # 34  SIZE IS  1280\n",
      "FEATURE BATCH # 4 DATA BATCH # 35  SIZE IS  1280\n",
      "FEATURE BATCH # 4 DATA BATCH # 36  SIZE IS  1280\n",
      "FEATURE BATCH # 4 DATA BATCH # 37  SIZE IS  1280\n",
      "FEATURE BATCH # 4 DATA BATCH # 38  SIZE IS  1280\n",
      "FEATURE BATCH # 4 DATA BATCH # 39  SIZE IS  1280\n",
      "FEATURE BATCH # 4 DATA BATCH # 40  SIZE IS  1280\n",
      "Accumulating (ASYNC) Batch 4 gram took 40.2281529903 seconds\n",
      "FEATURE BATCH # 4 DATA BATCH # 41  SIZE IS  1280\n",
      "FEATURE BATCH # 4 DATA BATCH # 42  SIZE IS  1280\n",
      "FEATURE BATCH # 4 DATA BATCH # 43  SIZE IS  1280\n",
      "FEATURE BATCH # 4 DATA BATCH # 44  SIZE IS  1280\n",
      "FEATURE BATCH # 4 DATA BATCH # 45  SIZE IS  1280\n",
      "FEATURE BATCH # 4 DATA BATCH # 46  SIZE IS  1120\n",
      "Convolving features took 47.3631808758 seconds\n",
      "Sending features\n",
      "Receiving (ASYNC) Batch 5\n",
      "Sending features took 0.259337902069 seconds\n",
      "Convolving features\n",
      "Out Shape  2 x 2 x 2048\n",
      "total skipped  0\n",
      "FEATURE BATCH # 5 DATA BATCH # 0  SIZE IS  1280\n",
      "Receiving (ASYNC) took 0.418143987656 seconds\n",
      "XBATCH DTYPE float32\n",
      "Accumulating (ASYNC) Gram\n",
      "FEATURE BATCH # 5 DATA BATCH # 1  SIZE IS  1280\n",
      "FEATURE BATCH # 5 DATA BATCH # 2  SIZE IS  1280\n",
      "FEATURE BATCH # 5 DATA BATCH # 3  SIZE IS  1280\n",
      "FEATURE BATCH # 5 DATA BATCH # 4  SIZE IS  1280\n",
      "FEATURE BATCH # 5 DATA BATCH # 5  SIZE IS  1280\n",
      "FEATURE BATCH # 5 DATA BATCH # 6  SIZE IS  1280\n",
      "FEATURE BATCH # 5 DATA BATCH # 7  SIZE IS  1280\n",
      "FEATURE BATCH # 5 DATA BATCH # 8  SIZE IS  1280\n",
      "FEATURE BATCH # 5 DATA BATCH # 9  SIZE IS  1280\n",
      "FEATURE BATCH # 5 DATA BATCH # 10  SIZE IS  1280\n",
      "FEATURE BATCH # 5 DATA BATCH # 11  SIZE IS  1280\n",
      "FEATURE BATCH # 5 DATA BATCH # 12  SIZE IS  1280\n",
      "FEATURE BATCH # 5 DATA BATCH # 13  SIZE IS  1280\n",
      "FEATURE BATCH # 5 DATA BATCH # 14  SIZE IS  1280\n",
      "FEATURE BATCH # 5 DATA BATCH # 15  SIZE IS  1280\n",
      "FEATURE BATCH # 5 DATA BATCH # 16  SIZE IS  1280\n",
      "FEATURE BATCH # 5 DATA BATCH # 17  SIZE IS  1280\n",
      "FEATURE BATCH # 5 DATA BATCH # 18  SIZE IS  1280\n",
      "FEATURE BATCH # 5 DATA BATCH # 19  SIZE IS  1280\n",
      "FEATURE BATCH # 5 DATA BATCH # 20  SIZE IS  1280\n",
      "FEATURE BATCH # 5 DATA BATCH # 21  SIZE IS  1280\n",
      "FEATURE BATCH # 5 DATA BATCH # 22  SIZE IS  1280\n",
      "FEATURE BATCH # 5 DATA BATCH # 23  SIZE IS  1280\n",
      "FEATURE BATCH # 5 DATA BATCH # 24  SIZE IS  1280\n",
      "FEATURE BATCH # 5 DATA BATCH # 25  SIZE IS  1280\n",
      "FEATURE BATCH # 5 DATA BATCH # 26  SIZE IS  1280\n",
      "FEATURE BATCH # 5 DATA BATCH # 27  SIZE IS  1280\n",
      "FEATURE BATCH # 5 DATA BATCH # 28  SIZE IS  1280\n",
      "FEATURE BATCH # 5 DATA BATCH # 29  SIZE IS  1280\n",
      "FEATURE BATCH # 5 DATA BATCH # 30  SIZE IS  1280\n",
      "FEATURE BATCH # 5 DATA BATCH # 31  SIZE IS  1280\n",
      "FEATURE BATCH # 5 DATA BATCH # 32  SIZE IS  1280\n",
      "FEATURE BATCH # 5 DATA BATCH # 33  SIZE IS  1280\n",
      "FEATURE BATCH # 5 DATA BATCH # 34  SIZE IS  1280\n",
      "FEATURE BATCH # 5 DATA BATCH # 35  SIZE IS  1280\n",
      "FEATURE BATCH # 5 DATA BATCH # 36  SIZE IS  1280\n",
      "FEATURE BATCH # 5 DATA BATCH # 37  SIZE IS  1280\n",
      "FEATURE BATCH # 5 DATA BATCH # 38  SIZE IS  1280\n",
      "FEATURE BATCH # 5 DATA BATCH # 39  SIZE IS  1280\n",
      "FEATURE BATCH # 5 DATA BATCH # 40  SIZE IS  1280\n",
      "Accumulating (ASYNC) Batch 5 gram took 40.4322099686 seconds\n",
      "FEATURE BATCH # 5 DATA BATCH # 41  SIZE IS  1280\n",
      "FEATURE BATCH # 5 DATA BATCH # 42  SIZE IS  1280\n",
      "FEATURE BATCH # 5 DATA BATCH # 43  SIZE IS  1280\n",
      "FEATURE BATCH # 5 DATA BATCH # 44  SIZE IS  1280\n",
      "FEATURE BATCH # 5 DATA BATCH # 45  SIZE IS  1280\n",
      "FEATURE BATCH # 5 DATA BATCH # 46  SIZE IS  1120\n",
      "Convolving features took 47.1853117943 seconds\n",
      "Sending features\n",
      "Receiving (ASYNC) Batch 6\n",
      "Sending features took 0.27196097374 seconds\n",
      "Convolving features\n",
      "Out Shape  2 x 2 x 2048\n",
      "total skipped  0\n",
      "FEATURE BATCH # 6 DATA BATCH # 0  SIZE IS  1280\n",
      "Receiving (ASYNC) took 0.411977052689 seconds\n",
      "XBATCH DTYPE float32\n",
      "Accumulating (ASYNC) Gram\n",
      "FEATURE BATCH # 6 DATA BATCH # 1  SIZE IS  1280\n",
      "FEATURE BATCH # 6 DATA BATCH # 2  SIZE IS  1280\n",
      "FEATURE BATCH # 6 DATA BATCH # 3  SIZE IS  1280\n",
      "FEATURE BATCH # 6 DATA BATCH # 4  SIZE IS  1280\n",
      "FEATURE BATCH # 6 DATA BATCH # 5  SIZE IS  1280\n",
      "FEATURE BATCH # 6 DATA BATCH # 6  SIZE IS  1280\n",
      "FEATURE BATCH # 6 DATA BATCH # 7  SIZE IS  1280\n",
      "FEATURE BATCH # 6 DATA BATCH # 8  SIZE IS  1280\n",
      "FEATURE BATCH # 6 DATA BATCH # 9  SIZE IS  1280\n",
      "FEATURE BATCH # 6 DATA BATCH # 10  SIZE IS  1280\n",
      "FEATURE BATCH # 6 DATA BATCH # 11  SIZE IS  1280\n",
      "FEATURE BATCH # 6 DATA BATCH # 12  SIZE IS  1280\n",
      "FEATURE BATCH # 6 DATA BATCH # 13  SIZE IS  1280\n",
      "FEATURE BATCH # 6 DATA BATCH # 14  SIZE IS  1280\n",
      "FEATURE BATCH # 6 DATA BATCH # 15  SIZE IS  1280\n",
      "FEATURE BATCH # 6 DATA BATCH # 16  SIZE IS  1280\n",
      "FEATURE BATCH # 6 DATA BATCH # 17  SIZE IS  1280\n",
      "FEATURE BATCH # 6 DATA BATCH # 18  SIZE IS  1280\n",
      "FEATURE BATCH # 6 DATA BATCH # 19  SIZE IS  1280\n",
      "FEATURE BATCH # 6 DATA BATCH # 20  SIZE IS  1280\n",
      "FEATURE BATCH # 6 DATA BATCH # 21  SIZE IS  1280\n",
      "FEATURE BATCH # 6 DATA BATCH # 22  SIZE IS  1280\n",
      "FEATURE BATCH # 6 DATA BATCH # 23  SIZE IS  1280\n",
      "FEATURE BATCH # 6 DATA BATCH # 24  SIZE IS  1280\n",
      "FEATURE BATCH # 6 DATA BATCH # 25  SIZE IS  1280\n",
      "FEATURE BATCH # 6 DATA BATCH # 26  SIZE IS  1280\n",
      "FEATURE BATCH # 6 DATA BATCH # 27  SIZE IS  1280\n",
      "FEATURE BATCH # 6 DATA BATCH # 28  SIZE IS  1280\n",
      "FEATURE BATCH # 6 DATA BATCH # 29  SIZE IS  1280\n",
      "FEATURE BATCH # 6 DATA BATCH # 30  SIZE IS  1280\n",
      "FEATURE BATCH # 6 DATA BATCH # 31  SIZE IS  1280\n",
      "FEATURE BATCH # 6 DATA BATCH # 32  SIZE IS  1280\n",
      "FEATURE BATCH # 6 DATA BATCH # 33  SIZE IS  1280\n",
      "FEATURE BATCH # 6 DATA BATCH # 34  SIZE IS  1280\n",
      "FEATURE BATCH # 6 DATA BATCH # 35  SIZE IS  1280\n",
      "FEATURE BATCH # 6 DATA BATCH # 36  SIZE IS  1280\n",
      "FEATURE BATCH # 6 DATA BATCH # 37  SIZE IS  1280\n",
      "FEATURE BATCH # 6 DATA BATCH # 38  SIZE IS  1280\n",
      "FEATURE BATCH # 6 DATA BATCH # 39  SIZE IS  1280\n",
      "FEATURE BATCH # 6 DATA BATCH # 40  SIZE IS  1280\n",
      "Accumulating (ASYNC) Batch 6 gram took 40.4785718918 seconds\n",
      "FEATURE BATCH # 6 DATA BATCH # 41  SIZE IS  1280\n",
      "FEATURE BATCH # 6 DATA BATCH # 42  SIZE IS  1280\n",
      "FEATURE BATCH # 6 DATA BATCH # 43  SIZE IS  1280\n",
      "FEATURE BATCH # 6 DATA BATCH # 44  SIZE IS  1280\n",
      "FEATURE BATCH # 6 DATA BATCH # 45  SIZE IS  1280\n",
      "FEATURE BATCH # 6 DATA BATCH # 46  SIZE IS  1120\n",
      "Convolving features took 47.3874471188 seconds\n",
      "Sending features\n",
      "Receiving (ASYNC) Batch 7\n",
      "Sending features took 0.268576145172 seconds\n",
      "Convolving features\n",
      "Out Shape  2 x 2 x 2048\n",
      "total skipped  0\n",
      "FEATURE BATCH # 7 DATA BATCH # 0  SIZE IS  1280\n",
      "Receiving (ASYNC) took 0.410439014435 seconds\n",
      "XBATCH DTYPE float32\n",
      "Accumulating (ASYNC) Gram\n",
      "FEATURE BATCH # 7 DATA BATCH # 1  SIZE IS  1280\n",
      "FEATURE BATCH # 7 DATA BATCH # 2  SIZE IS  1280\n",
      "FEATURE BATCH # 7 DATA BATCH # 3  SIZE IS  1280\n",
      "FEATURE BATCH # 7 DATA BATCH # 4  SIZE IS  1280\n",
      "FEATURE BATCH # 7 DATA BATCH # 5  SIZE IS  1280\n",
      "FEATURE BATCH # 7 DATA BATCH # 6  SIZE IS  1280\n",
      "FEATURE BATCH # 7 DATA BATCH # 7  SIZE IS  1280\n",
      "FEATURE BATCH # 7 DATA BATCH # 8  SIZE IS  1280\n",
      "FEATURE BATCH # 7 DATA BATCH # 9  SIZE IS  1280\n",
      "FEATURE BATCH # 7 DATA BATCH # 10  SIZE IS  1280\n",
      "FEATURE BATCH # 7 DATA BATCH # 11  SIZE IS  1280\n",
      "FEATURE BATCH # 7 DATA BATCH # 12  SIZE IS  1280\n",
      "FEATURE BATCH # 7 DATA BATCH # 13  SIZE IS  1280\n",
      "FEATURE BATCH # 7 DATA BATCH # 14  SIZE IS  1280\n",
      "FEATURE BATCH # 7 DATA BATCH # 15  SIZE IS  1280\n",
      "FEATURE BATCH # 7 DATA BATCH # 16  SIZE IS  1280\n",
      "FEATURE BATCH # 7 DATA BATCH # 17  SIZE IS  1280\n",
      "FEATURE BATCH # 7 DATA BATCH # 18  SIZE IS  1280\n",
      "FEATURE BATCH # 7 DATA BATCH # 19  SIZE IS  1280\n",
      "FEATURE BATCH # 7 DATA BATCH # 20  SIZE IS  1280\n",
      "FEATURE BATCH # 7 DATA BATCH # 21  SIZE IS  1280\n",
      "FEATURE BATCH # 7 DATA BATCH # 22  SIZE IS  1280\n",
      "FEATURE BATCH # 7 DATA BATCH # 23  SIZE IS  1280\n",
      "FEATURE BATCH # 7 DATA BATCH # 24  SIZE IS  1280\n",
      "FEATURE BATCH # 7 DATA BATCH # 25  SIZE IS  1280\n",
      "FEATURE BATCH # 7 DATA BATCH # 26  SIZE IS  1280\n",
      "FEATURE BATCH # 7 DATA BATCH # 27  SIZE IS  1280\n",
      "FEATURE BATCH # 7 DATA BATCH # 28  SIZE IS  1280\n",
      "FEATURE BATCH # 7 DATA BATCH # 29  SIZE IS  1280\n",
      "FEATURE BATCH # 7 DATA BATCH # 30  SIZE IS  1280\n",
      "FEATURE BATCH # 7 DATA BATCH # 31  SIZE IS  1280\n",
      "FEATURE BATCH # 7 DATA BATCH # 32  SIZE IS  1280\n",
      "FEATURE BATCH # 7 DATA BATCH # 33  SIZE IS  1280\n",
      "FEATURE BATCH # 7 DATA BATCH # 34  SIZE IS  1280\n",
      "FEATURE BATCH # 7 DATA BATCH # 35  SIZE IS  1280\n",
      "FEATURE BATCH # 7 DATA BATCH # 36  SIZE IS  1280\n",
      "FEATURE BATCH # 7 DATA BATCH # 37  SIZE IS  1280\n",
      "FEATURE BATCH # 7 DATA BATCH # 38  SIZE IS  1280\n",
      "FEATURE BATCH # 7 DATA BATCH # 39  SIZE IS  1280\n",
      "FEATURE BATCH # 7 DATA BATCH # 40  SIZE IS  1280\n",
      "FEATURE BATCH # 7 DATA BATCH # 41  SIZE IS  1280\n",
      "FEATURE BATCH # 7 DATA BATCH # 42  SIZE IS  1280\n",
      "Accumulating (ASYNC) Batch 7 gram took 41.5268688202 seconds\n",
      "FEATURE BATCH # 7 DATA BATCH # 43  SIZE IS  1280\n",
      "FEATURE BATCH # 7 DATA BATCH # 44  SIZE IS  1280\n",
      "FEATURE BATCH # 7 DATA BATCH # 45  SIZE IS  1280\n",
      "FEATURE BATCH # 7 DATA BATCH # 46  SIZE IS  1120\n",
      "Convolving features took 46.8263208866 seconds\n",
      "Sending features\n",
      "Receiving (ASYNC) Batch 8\n",
      "Sending features took 0.266705036163 seconds\n",
      "Convolving features\n",
      "Out Shape  2 x 2 x 2048\n",
      "total skipped  0\n",
      "FEATURE BATCH # 8 DATA BATCH # 0  SIZE IS  1280\n",
      "Receiving (ASYNC) took 0.403489112854 seconds\n",
      "XBATCH DTYPE float32\n",
      "Accumulating (ASYNC) Gram\n",
      "FEATURE BATCH # 8 DATA BATCH # 1  SIZE IS  1280\n",
      "FEATURE BATCH # 8 DATA BATCH # 2  SIZE IS  1280\n",
      "FEATURE BATCH # 8 DATA BATCH # 3  SIZE IS  1280\n",
      "FEATURE BATCH # 8 DATA BATCH # 4  SIZE IS  1280\n",
      "FEATURE BATCH # 8 DATA BATCH # 5  SIZE IS  1280\n",
      "FEATURE BATCH # 8 DATA BATCH # 6  SIZE IS  1280\n",
      "FEATURE BATCH # 8 DATA BATCH # 7  SIZE IS  1280\n",
      "FEATURE BATCH # 8 DATA BATCH # 8  SIZE IS  1280\n",
      "FEATURE BATCH # 8 DATA BATCH # 9  SIZE IS  1280\n",
      "FEATURE BATCH # 8 DATA BATCH # 10  SIZE IS  1280\n",
      "FEATURE BATCH # 8 DATA BATCH # 11  SIZE IS  1280\n",
      "FEATURE BATCH # 8 DATA BATCH # 12  SIZE IS  1280\n",
      "FEATURE BATCH # 8 DATA BATCH # 13  SIZE IS  1280\n",
      "FEATURE BATCH # 8 DATA BATCH # 14  SIZE IS  1280\n",
      "FEATURE BATCH # 8 DATA BATCH # 15  SIZE IS  1280\n",
      "FEATURE BATCH # 8 DATA BATCH # 16  SIZE IS  1280\n",
      "FEATURE BATCH # 8 DATA BATCH # 17  SIZE IS  1280\n",
      "FEATURE BATCH # 8 DATA BATCH # 18  SIZE IS  1280\n",
      "FEATURE BATCH # 8 DATA BATCH # 19  SIZE IS  1280\n",
      "FEATURE BATCH # 8 DATA BATCH # 20  SIZE IS  1280\n",
      "FEATURE BATCH # 8 DATA BATCH # 21  SIZE IS  1280\n",
      "FEATURE BATCH # 8 DATA BATCH # 22  SIZE IS  1280\n",
      "FEATURE BATCH # 8 DATA BATCH # 23  SIZE IS  1280\n",
      "FEATURE BATCH # 8 DATA BATCH # 24  SIZE IS  1280\n",
      "FEATURE BATCH # 8 DATA BATCH # 25  SIZE IS  1280\n",
      "FEATURE BATCH # 8 DATA BATCH # 26  SIZE IS  1280\n",
      "FEATURE BATCH # 8 DATA BATCH # 27  SIZE IS  1280\n",
      "FEATURE BATCH # 8 DATA BATCH # 28  SIZE IS  1280\n",
      "FEATURE BATCH # 8 DATA BATCH # 29  SIZE IS  1280\n",
      "FEATURE BATCH # 8 DATA BATCH # 30  SIZE IS  1280\n",
      "FEATURE BATCH # 8 DATA BATCH # 31  SIZE IS  1280\n",
      "FEATURE BATCH # 8 DATA BATCH # 32  SIZE IS  1280\n",
      "FEATURE BATCH # 8 DATA BATCH # 33  SIZE IS  1280\n",
      "FEATURE BATCH # 8 DATA BATCH # 34  SIZE IS  1280\n",
      "FEATURE BATCH # 8 DATA BATCH # 35  SIZE IS  1280\n",
      "FEATURE BATCH # 8 DATA BATCH # 36  SIZE IS  1280\n",
      "FEATURE BATCH # 8 DATA BATCH # 37  SIZE IS  1280\n",
      "FEATURE BATCH # 8 DATA BATCH # 38  SIZE IS  1280\n",
      "FEATURE BATCH # 8 DATA BATCH # 39  SIZE IS  1280\n",
      "FEATURE BATCH # 8 DATA BATCH # 40  SIZE IS  1280\n",
      "Accumulating (ASYNC) Batch 8 gram took 40.2296159267 seconds\n",
      "FEATURE BATCH # 8 DATA BATCH # 41  SIZE IS  1280\n",
      "FEATURE BATCH # 8 DATA BATCH # 42  SIZE IS  1280\n",
      "FEATURE BATCH # 8 DATA BATCH # 43  SIZE IS  1280\n",
      "FEATURE BATCH # 8 DATA BATCH # 44  SIZE IS  1280\n",
      "FEATURE BATCH # 8 DATA BATCH # 45  SIZE IS  1280\n",
      "FEATURE BATCH # 8 DATA BATCH # 46  SIZE IS  1120\n",
      "Convolving features took 47.1778800488 seconds\n",
      "Sending features\n",
      "Receiving (ASYNC) Batch 9\n",
      "Sending features took 0.268493890762 seconds\n",
      "Convolving features\n",
      "Out Shape  2 x 2 x 2048\n",
      "total skipped  0\n",
      "FEATURE BATCH # 9 DATA BATCH # 0  SIZE IS  1280\n",
      "Receiving (ASYNC) took 0.406541109085 seconds\n",
      "XBATCH DTYPE float32\n",
      "Accumulating (ASYNC) Gram\n",
      "FEATURE BATCH # 9 DATA BATCH # 1  SIZE IS  1280\n",
      "FEATURE BATCH # 9 DATA BATCH # 2  SIZE IS  1280\n",
      "FEATURE BATCH # 9 DATA BATCH # 3  SIZE IS  1280\n",
      "FEATURE BATCH # 9 DATA BATCH # 4  SIZE IS  1280\n",
      "FEATURE BATCH # 9 DATA BATCH # 5  SIZE IS  1280\n",
      "FEATURE BATCH # 9 DATA BATCH # 6  SIZE IS  1280\n",
      "FEATURE BATCH # 9 DATA BATCH # 7  SIZE IS  1280\n",
      "FEATURE BATCH # 9 DATA BATCH # 8  SIZE IS  1280\n",
      "FEATURE BATCH # 9 DATA BATCH # 9  SIZE IS  1280\n",
      "FEATURE BATCH # 9 DATA BATCH # 10  SIZE IS  1280\n",
      "FEATURE BATCH # 9 DATA BATCH # 11  SIZE IS  1280\n",
      "FEATURE BATCH # 9 DATA BATCH # 12  SIZE IS  1280\n",
      "FEATURE BATCH # 9 DATA BATCH # 13  SIZE IS  1280\n",
      "FEATURE BATCH # 9 DATA BATCH # 14  SIZE IS  1280\n",
      "FEATURE BATCH # 9 DATA BATCH # 15  SIZE IS  1280\n",
      "FEATURE BATCH # 9 DATA BATCH # 16  SIZE IS  1280\n",
      "FEATURE BATCH # 9 DATA BATCH # 17  SIZE IS  1280\n",
      "FEATURE BATCH # 9 DATA BATCH # 18  SIZE IS  1280\n",
      "FEATURE BATCH # 9 DATA BATCH # 19  SIZE IS  1280\n",
      "FEATURE BATCH # 9 DATA BATCH # 20  SIZE IS  1280\n",
      "FEATURE BATCH # 9 DATA BATCH # 21  SIZE IS  1280\n",
      "FEATURE BATCH # 9 DATA BATCH # 22  SIZE IS  1280\n",
      "FEATURE BATCH # 9 DATA BATCH # 23  SIZE IS  1280\n",
      "FEATURE BATCH # 9 DATA BATCH # 24  SIZE IS  1280\n",
      "FEATURE BATCH # 9 DATA BATCH # 25  SIZE IS  1280\n",
      "FEATURE BATCH # 9 DATA BATCH # 26  SIZE IS  1280\n",
      "FEATURE BATCH # 9 DATA BATCH # 27  SIZE IS  1280\n",
      "FEATURE BATCH # 9 DATA BATCH # 28  SIZE IS  1280\n",
      "FEATURE BATCH # 9 DATA BATCH # 29  SIZE IS  1280\n",
      "FEATURE BATCH # 9 DATA BATCH # 30  SIZE IS  1280\n",
      "FEATURE BATCH # 9 DATA BATCH # 31  SIZE IS  1280\n",
      "FEATURE BATCH # 9 DATA BATCH # 32  SIZE IS  1280\n",
      "FEATURE BATCH # 9 DATA BATCH # 33  SIZE IS  1280\n",
      "FEATURE BATCH # 9 DATA BATCH # 34  SIZE IS  1280\n",
      "FEATURE BATCH # 9 DATA BATCH # 35  SIZE IS  1280\n",
      "FEATURE BATCH # 9 DATA BATCH # 36  SIZE IS  1280\n",
      "FEATURE BATCH # 9 DATA BATCH # 37  SIZE IS  1280\n",
      "FEATURE BATCH # 9 DATA BATCH # 38  SIZE IS  1280\n",
      "FEATURE BATCH # 9 DATA BATCH # 39  SIZE IS  1280\n",
      "FEATURE BATCH # 9 DATA BATCH # 40  SIZE IS  1280\n",
      "Accumulating (ASYNC) Batch 9 gram took 40.4636740685 seconds\n",
      "FEATURE BATCH # 9 DATA BATCH # 41  SIZE IS  1280\n",
      "FEATURE BATCH # 9 DATA BATCH # 42  SIZE IS  1280\n",
      "FEATURE BATCH # 9 DATA BATCH # 43  SIZE IS  1280\n",
      "FEATURE BATCH # 9 DATA BATCH # 44  SIZE IS  1280\n",
      "FEATURE BATCH # 9 DATA BATCH # 45  SIZE IS  1280\n",
      "FEATURE BATCH # 9 DATA BATCH # 46  SIZE IS  1120\n",
      "Convolving features took 47.1406679153 seconds\n",
      "Sending features\n",
      "Receiving (ASYNC) Batch 10\n",
      "Sending features took 0.25883102417 seconds\n",
      "Receiving (ASYNC) took 0.451154947281 seconds\n",
      "XBATCH DTYPE float32\n",
      "Accumulating (ASYNC) Gram\n",
      "Accumulating (ASYNC) Batch 10 gram took 34.8547439575 seconds\n",
      "regs are [9.765625e-05, 9.765625e-06, 9.765625e-07, 9.765625e-08, 9.765625e-09]\n",
      "learningDual (ASYNC) reg: 9.765625e-05\n",
      "Learning Dual Model\n",
      "learningDual (ASYNC) reg: 9.765625e-05 took 167.326079845 seconds\n",
      "MODEL SHAPE (50000, 10)\n",
      "KERNEL SHAPE (50000, 50000)\n",
      "pred SHAPE (50000, 10)\n",
      "MODEL SHAPE (50000, 10)\n",
      "KERNEL SHAPE (10000, 50000)\n",
      "pred SHAPE (10000, 10)\n",
      "true shape (50000,)\n",
      "pred shape (50000,)\n",
      "(async dual conv reg: 9.765625e-05) train: , 0.60736, (dual conv batch) test: 0.5959\n",
      "learningDual (ASYNC) reg: 9.765625e-06\n",
      "Learning Dual Model\n",
      "learningDual (ASYNC) reg: 9.765625e-06 took 164.134359837 seconds\n",
      "MODEL SHAPE (50000, 10)\n",
      "KERNEL SHAPE (50000, 50000)\n",
      "pred SHAPE (50000, 10)\n",
      "MODEL SHAPE (50000, 10)\n",
      "KERNEL SHAPE (10000, 50000)\n",
      "pred SHAPE (10000, 10)\n",
      "true shape (50000,)\n",
      "pred shape (50000,)\n",
      "(async dual conv reg: 9.765625e-06) train: , 0.69112, (dual conv batch) test: 0.6679\n",
      "learningDual (ASYNC) reg: 9.765625e-07\n",
      "Learning Dual Model\n",
      "learningDual (ASYNC) reg: 9.765625e-07 took 164.044370174 seconds\n",
      "MODEL SHAPE (50000, 10)\n",
      "KERNEL SHAPE (50000, 50000)\n",
      "pred SHAPE (50000, 10)\n",
      "MODEL SHAPE (50000, 10)\n",
      "KERNEL SHAPE (10000, 50000)\n",
      "pred SHAPE (10000, 10)\n",
      "true shape (50000,)\n",
      "pred shape (50000,)\n",
      "(async dual conv reg: 9.765625e-07) train: , 0.79784, (dual conv batch) test: 0.7404\n",
      "learningDual (ASYNC) reg: 9.765625e-08\n",
      "Learning Dual Model\n"
     ]
    }
   ],
   "source": [
    "# Base line no dropout 40k filters\n",
    "filter_gen = make_skip_empirical_filter_gen(patches, labelsTrain, skip_min=0, skip_max=0)\n",
    "featurizeTrainAndEvaluateDualModelAsync(XTrain, XTest, labelsTrain, labelsTest, filter_gen, 10, regs=LAMBDAS)"
   ]
  },
  {
   "cell_type": "code",
   "execution_count": null,
   "metadata": {
    "collapsed": false
   },
   "outputs": [
    {
     "name": "stdout",
     "output_type": "stream",
     "text": [
      "RELOADING MOTHER FUCKER 3\n",
      "Convolving features\n",
      "Out Shape  2 x 2 x 2048\n",
      "CHILD Process Spun yupyup\n",
      "total skipped  14001\n",
      "FEATURE BATCH # 0 DATA BATCH # 0  SIZE IS  1280\n",
      "FEATURE BATCH # 0 DATA BATCH # 1  SIZE IS  1280\n",
      "FEATURE BATCH # 0 DATA BATCH # 2  SIZE IS  1280\n",
      "FEATURE BATCH # 0 DATA BATCH # 3  SIZE IS  1280\n",
      "FEATURE BATCH # 0 DATA BATCH # 4  SIZE IS  1280\n",
      "FEATURE BATCH # 0 DATA BATCH # 5  SIZE IS  1280\n",
      "FEATURE BATCH # 0 DATA BATCH # 6  SIZE IS  1280\n",
      "FEATURE BATCH # 0 DATA BATCH # 7  SIZE IS  1280\n",
      "FEATURE BATCH # 0 DATA BATCH # 8  SIZE IS  1280\n",
      "FEATURE BATCH # 0 DATA BATCH # 9  SIZE IS  1280\n",
      "FEATURE BATCH # 0 DATA BATCH # 10  SIZE IS  1280\n",
      "FEATURE BATCH # 0 DATA BATCH # 11  SIZE IS  1280\n",
      "FEATURE BATCH # 0 DATA BATCH # 12  SIZE IS  1280\n",
      "FEATURE BATCH # 0 DATA BATCH # 13  SIZE IS  1280\n",
      "FEATURE BATCH # 0 DATA BATCH # 14  SIZE IS  1280\n",
      "FEATURE BATCH # 0 DATA BATCH # 15  SIZE IS  1280\n",
      "FEATURE BATCH # 0 DATA BATCH # 16  SIZE IS  1280\n",
      "FEATURE BATCH # 0 DATA BATCH # 17  SIZE IS  1280\n",
      "FEATURE BATCH # 0 DATA BATCH # 18  SIZE IS  1280\n",
      "FEATURE BATCH # 0 DATA BATCH # 19  SIZE IS  1280\n",
      "FEATURE BATCH # 0 DATA BATCH # 20  SIZE IS  1280\n",
      "FEATURE BATCH # 0 DATA BATCH # 21  SIZE IS  1280\n",
      "FEATURE BATCH # 0 DATA BATCH # 22  SIZE IS  1280\n",
      "FEATURE BATCH # 0 DATA BATCH # 23  SIZE IS  1280\n",
      "FEATURE BATCH # 0 DATA BATCH # 24  SIZE IS  1280\n",
      "FEATURE BATCH # 0 DATA BATCH # 25  SIZE IS  1280\n",
      "FEATURE BATCH # 0 DATA BATCH # 26  SIZE IS  1280\n",
      "FEATURE BATCH # 0 DATA BATCH # 27  SIZE IS  1280\n",
      "FEATURE BATCH # 0 DATA BATCH # 28  SIZE IS  1280\n",
      "FEATURE BATCH # 0 DATA BATCH # 29  SIZE IS  1280\n",
      "FEATURE BATCH # 0 DATA BATCH # 30  SIZE IS  1280\n",
      "FEATURE BATCH # 0 DATA BATCH # 31  SIZE IS  1280\n",
      "FEATURE BATCH # 0 DATA BATCH # 32  SIZE IS  1280\n",
      "FEATURE BATCH # 0 DATA BATCH # 33  SIZE IS  1280\n",
      "FEATURE BATCH # 0 DATA BATCH # 34  SIZE IS  1280\n",
      "FEATURE BATCH # 0 DATA BATCH # 35  SIZE IS  1280\n",
      "FEATURE BATCH # 0 DATA BATCH # 36  SIZE IS  1280\n",
      "FEATURE BATCH # 0 DATA BATCH # 37  SIZE IS  1280\n",
      "FEATURE BATCH # 0 DATA BATCH # 38  SIZE IS  1280\n",
      "FEATURE BATCH # 0 DATA BATCH # 39  SIZE IS  1280\n",
      "FEATURE BATCH # 0 DATA BATCH # 40  SIZE IS  1280\n",
      "FEATURE BATCH # 0 DATA BATCH # 41  SIZE IS  1280\n",
      "FEATURE BATCH # 0 DATA BATCH # 42  SIZE IS  1280\n",
      "FEATURE BATCH # 0 DATA BATCH # 43  SIZE IS  1280\n",
      "FEATURE BATCH # 0 DATA BATCH # 44  SIZE IS  1280\n",
      "FEATURE BATCH # 0 DATA BATCH # 45  SIZE IS  1280\n",
      "FEATURE BATCH # 0 DATA BATCH # 46  SIZE IS  1120\n",
      "Convolving features took 43.5986249447 seconds\n",
      "Sending features\n",
      "Receiving (ASYNC) Batch 1\n",
      "Sending features took 1.28694987297 seconds\n",
      "Convolving features\n",
      "Out Shape  2 x 2 x 2048\n",
      "total skipped  13824\n",
      "FEATURE BATCH # 1 DATA BATCH # 0  SIZE IS  1280\n",
      "Receiving (ASYNC) took 0.954419851303 seconds\n",
      "XBATCH DTYPE float32\n",
      "Accumulating (ASYNC) Gram\n",
      "FEATURE BATCH # 1 DATA BATCH # 1  SIZE IS  1280\n",
      "FEATURE BATCH # 1 DATA BATCH # 2  SIZE IS  1280\n",
      "FEATURE BATCH # 1 DATA BATCH # 3  SIZE IS  1280\n",
      "FEATURE BATCH # 1 DATA BATCH # 4  SIZE IS  1280\n",
      "FEATURE BATCH # 1 DATA BATCH # 5  SIZE IS  1280\n",
      "FEATURE BATCH # 1 DATA BATCH # 6  SIZE IS  1280\n",
      "FEATURE BATCH # 1 DATA BATCH # 7  SIZE IS  1280\n",
      "FEATURE BATCH # 1 DATA BATCH # 8  SIZE IS  1280\n",
      "FEATURE BATCH # 1 DATA BATCH # 9  SIZE IS  1280\n",
      "FEATURE BATCH # 1 DATA BATCH # 10  SIZE IS  1280\n",
      "FEATURE BATCH # 1 DATA BATCH # 11  SIZE IS  1280\n",
      "FEATURE BATCH # 1 DATA BATCH # 12  SIZE IS  1280\n",
      "FEATURE BATCH # 1 DATA BATCH # 13  SIZE IS  1280\n",
      "FEATURE BATCH # 1 DATA BATCH # 14  SIZE IS  1280\n",
      "FEATURE BATCH # 1 DATA BATCH # 15  SIZE IS  1280\n",
      "FEATURE BATCH # 1 DATA BATCH # 16  SIZE IS  1280\n",
      "FEATURE BATCH # 1 DATA BATCH # 17  SIZE IS  1280\n",
      "FEATURE BATCH # 1 DATA BATCH # 18  SIZE IS  1280\n",
      "FEATURE BATCH # 1 DATA BATCH # 19  SIZE IS  1280\n",
      "FEATURE BATCH # 1 DATA BATCH # 20  SIZE IS  1280\n",
      "FEATURE BATCH # 1 DATA BATCH # 21  SIZE IS  1280\n",
      "FEATURE BATCH # 1 DATA BATCH # 22  SIZE IS  1280\n",
      "FEATURE BATCH # 1 DATA BATCH # 23  SIZE IS  1280\n",
      "FEATURE BATCH # 1 DATA BATCH # 24  SIZE IS  1280\n",
      "FEATURE BATCH # 1 DATA BATCH # 25  SIZE IS  1280\n",
      "FEATURE BATCH # 1 DATA BATCH # 26  SIZE IS  1280\n",
      "FEATURE BATCH # 1 DATA BATCH # 27  SIZE IS  1280\n",
      "FEATURE BATCH # 1 DATA BATCH # 28  SIZE IS  1280\n",
      "FEATURE BATCH # 1 DATA BATCH # 29  SIZE IS  1280\n",
      "FEATURE BATCH # 1 DATA BATCH # 30  SIZE IS  1280\n",
      "FEATURE BATCH # 1 DATA BATCH # 31  SIZE IS  1280\n",
      "FEATURE BATCH # 1 DATA BATCH # 32  SIZE IS  1280\n",
      "FEATURE BATCH # 1 DATA BATCH # 33  SIZE IS  1280\n",
      "FEATURE BATCH # 1 DATA BATCH # 34  SIZE IS  1280\n",
      "FEATURE BATCH # 1 DATA BATCH # 35  SIZE IS  1280\n",
      "FEATURE BATCH # 1 DATA BATCH # 36  SIZE IS  1280\n",
      "FEATURE BATCH # 1 DATA BATCH # 37  SIZE IS  1280\n",
      "FEATURE BATCH # 1 DATA BATCH # 38  SIZE IS  1280\n",
      "FEATURE BATCH # 1 DATA BATCH # 39  SIZE IS  1280\n",
      "FEATURE BATCH # 1 DATA BATCH # 40  SIZE IS  1280\n",
      "FEATURE BATCH # 1 DATA BATCH # 41  SIZE IS  1280\n",
      "FEATURE BATCH # 1 DATA BATCH # 42  SIZE IS  1280\n",
      "FEATURE BATCH # 1 DATA BATCH # 43  SIZE IS  1280\n",
      "FEATURE BATCH # 1 DATA BATCH # 44  SIZE IS  1280\n",
      "FEATURE BATCH # 1 DATA BATCH # 45  SIZE IS  1280\n",
      "FEATURE BATCH # 1 DATA BATCH # 46  SIZE IS  1120\n",
      "Convolving features took 42.6092090607 seconds\n",
      "Sending features\n",
      "Sending features took 0.318126916885 seconds\n",
      "Convolving features\n",
      "Out Shape  2 x 2 x 2048\n",
      "total skipped  13782\n",
      "FEATURE BATCH # 2 DATA BATCH # 0  SIZE IS  1280\n",
      "Accumulating (ASYNC) Batch 1 gram took 42.9297130108 seconds\n",
      "Receiving (ASYNC) Batch 2\n",
      "Receiving (ASYNC) took 0.290929079056 seconds\n",
      "XBATCH DTYPE float32\n",
      "Accumulating (ASYNC) Gram\n",
      "FEATURE BATCH # 2 DATA BATCH # 1  SIZE IS  1280\n",
      "FEATURE BATCH # 2 DATA BATCH # 2  SIZE IS  1280\n",
      "FEATURE BATCH # 2 DATA BATCH # 3  SIZE IS  1280\n",
      "FEATURE BATCH # 2 DATA BATCH # 4  SIZE IS  1280\n",
      "FEATURE BATCH # 2 DATA BATCH # 5  SIZE IS  1280\n",
      "FEATURE BATCH # 2 DATA BATCH # 6  SIZE IS  1280\n",
      "FEATURE BATCH # 2 DATA BATCH # 7  SIZE IS  1280\n",
      "FEATURE BATCH # 2 DATA BATCH # 8  SIZE IS  1280\n",
      "FEATURE BATCH # 2 DATA BATCH # 9  SIZE IS  1280\n",
      "FEATURE BATCH # 2 DATA BATCH # 10  SIZE IS  1280\n",
      "FEATURE BATCH # 2 DATA BATCH # 11  SIZE IS  1280\n",
      "FEATURE BATCH # 2 DATA BATCH # 12  SIZE IS  1280\n",
      "FEATURE BATCH # 2 DATA BATCH # 13  SIZE IS  1280\n",
      "FEATURE BATCH # 2 DATA BATCH # 14  SIZE IS  1280\n",
      "FEATURE BATCH # 2 DATA BATCH # 15  SIZE IS  1280\n",
      "FEATURE BATCH # 2 DATA BATCH # 16  SIZE IS  1280\n",
      "FEATURE BATCH # 2 DATA BATCH # 17  SIZE IS  1280\n",
      "FEATURE BATCH # 2 DATA BATCH # 18  SIZE IS  1280\n",
      "FEATURE BATCH # 2 DATA BATCH # 19  SIZE IS  1280\n",
      "FEATURE BATCH # 2 DATA BATCH # 20  SIZE IS  1280\n",
      "FEATURE BATCH # 2 DATA BATCH # 21  SIZE IS  1280\n",
      "FEATURE BATCH # 2 DATA BATCH # 22  SIZE IS  1280\n",
      "FEATURE BATCH # 2 DATA BATCH # 23  SIZE IS  1280\n",
      "FEATURE BATCH # 2 DATA BATCH # 24  SIZE IS  1280\n",
      "FEATURE BATCH # 2 DATA BATCH # 25  SIZE IS  1280\n",
      "FEATURE BATCH # 2 DATA BATCH # 26  SIZE IS  1280\n",
      "FEATURE BATCH # 2 DATA BATCH # 27  SIZE IS  1280\n",
      "FEATURE BATCH # 2 DATA BATCH # 28  SIZE IS  1280\n",
      "FEATURE BATCH # 2 DATA BATCH # 29  SIZE IS  1280\n",
      "FEATURE BATCH # 2 DATA BATCH # 30  SIZE IS  1280\n",
      "FEATURE BATCH # 2 DATA BATCH # 31  SIZE IS  1280\n",
      "FEATURE BATCH # 2 DATA BATCH # 32  SIZE IS  1280\n",
      "FEATURE BATCH # 2 DATA BATCH # 33  SIZE IS  1280\n",
      "FEATURE BATCH # 2 DATA BATCH # 34  SIZE IS  1280\n",
      "FEATURE BATCH # 2 DATA BATCH # 35  SIZE IS  1280\n",
      "FEATURE BATCH # 2 DATA BATCH # 36  SIZE IS  1280\n",
      "FEATURE BATCH # 2 DATA BATCH # 37  SIZE IS  1280\n",
      "FEATURE BATCH # 2 DATA BATCH # 38  SIZE IS  1280\n",
      "FEATURE BATCH # 2 DATA BATCH # 39  SIZE IS  1280\n",
      "FEATURE BATCH # 2 DATA BATCH # 40  SIZE IS  1280\n",
      "FEATURE BATCH # 2 DATA BATCH # 41  SIZE IS  1280\n",
      "FEATURE BATCH # 2 DATA BATCH # 42  SIZE IS  1280\n",
      "FEATURE BATCH # 2 DATA BATCH # 43  SIZE IS  1280\n",
      "FEATURE BATCH # 2 DATA BATCH # 44  SIZE IS  1280\n",
      "FEATURE BATCH # 2 DATA BATCH # 45  SIZE IS  1280\n",
      "FEATURE BATCH # 2 DATA BATCH # 46  SIZE IS  1120\n",
      "Accumulating (ASYNC) Batch 2 gram took 40.6507780552 seconds\n",
      "Convolving features took 42.722881794 seconds\n",
      "Sending features\n",
      "Receiving (ASYNC) Batch 3\n",
      "Sending features took 0.464200019836 seconds\n",
      "Convolving features\n",
      "Out Shape  2 x 2 x 2048\n",
      "total skipped  13875\n",
      "FEATURE BATCH # 3 DATA BATCH # 0  SIZE IS  1280\n",
      "Receiving (ASYNC) took 0.38433098793 seconds\n",
      "XBATCH DTYPE float32\n",
      "Accumulating (ASYNC) Gram\n",
      "FEATURE BATCH # 3 DATA BATCH # 1  SIZE IS  1280\n",
      "FEATURE BATCH # 3 DATA BATCH # 2  SIZE IS  1280\n",
      "FEATURE BATCH # 3 DATA BATCH # 3  SIZE IS  1280\n",
      "FEATURE BATCH # 3 DATA BATCH # 4  SIZE IS  1280\n",
      "FEATURE BATCH # 3 DATA BATCH # 5  SIZE IS  1280\n",
      "FEATURE BATCH # 3 DATA BATCH # 6  SIZE IS  1280\n",
      "FEATURE BATCH # 3 DATA BATCH # 7  SIZE IS  1280\n",
      "FEATURE BATCH # 3 DATA BATCH # 8  SIZE IS  1280\n",
      "FEATURE BATCH # 3 DATA BATCH # 9  SIZE IS  1280\n",
      "FEATURE BATCH # 3 DATA BATCH # 10  SIZE IS  1280\n",
      "FEATURE BATCH # 3 DATA BATCH # 11  SIZE IS  1280\n",
      "FEATURE BATCH # 3 DATA BATCH # 12  SIZE IS  1280\n",
      "FEATURE BATCH # 3 DATA BATCH # 13  SIZE IS  1280\n",
      "FEATURE BATCH # 3 DATA BATCH # 14  SIZE IS  1280\n",
      "FEATURE BATCH # 3 DATA BATCH # 15  SIZE IS  1280\n",
      "FEATURE BATCH # 3 DATA BATCH # 16  SIZE IS  1280\n",
      "FEATURE BATCH # 3 DATA BATCH # 17  SIZE IS  1280\n",
      "FEATURE BATCH # 3 DATA BATCH # 18  SIZE IS  1280\n",
      "FEATURE BATCH # 3 DATA BATCH # 19  SIZE IS  1280\n",
      "FEATURE BATCH # 3 DATA BATCH # 20  SIZE IS  1280\n",
      "FEATURE BATCH # 3 DATA BATCH # 21  SIZE IS  1280\n",
      "FEATURE BATCH # 3 DATA BATCH # 22  SIZE IS  1280\n",
      "FEATURE BATCH # 3 DATA BATCH # 23  SIZE IS  1280\n",
      "FEATURE BATCH # 3 DATA BATCH # 24  SIZE IS  1280\n",
      "FEATURE BATCH # 3 DATA BATCH # 25  SIZE IS  1280\n",
      "FEATURE BATCH # 3 DATA BATCH # 26  SIZE IS  1280\n",
      "FEATURE BATCH # 3 DATA BATCH # 27  SIZE IS  1280\n",
      "FEATURE BATCH # 3 DATA BATCH # 28  SIZE IS  1280\n",
      "FEATURE BATCH # 3 DATA BATCH # 29  SIZE IS  1280\n",
      "FEATURE BATCH # 3 DATA BATCH # 30  SIZE IS  1280\n",
      "FEATURE BATCH # 3 DATA BATCH # 31  SIZE IS  1280\n",
      "FEATURE BATCH # 3 DATA BATCH # 32  SIZE IS  1280\n",
      "FEATURE BATCH # 3 DATA BATCH # 33  SIZE IS  1280\n",
      "FEATURE BATCH # 3 DATA BATCH # 34  SIZE IS  1280\n",
      "FEATURE BATCH # 3 DATA BATCH # 35  SIZE IS  1280\n",
      "FEATURE BATCH # 3 DATA BATCH # 36  SIZE IS  1280\n",
      "FEATURE BATCH # 3 DATA BATCH # 37  SIZE IS  1280\n",
      "FEATURE BATCH # 3 DATA BATCH # 38  SIZE IS  1280\n",
      "FEATURE BATCH # 3 DATA BATCH # 39  SIZE IS  1280\n",
      "FEATURE BATCH # 3 DATA BATCH # 40  SIZE IS  1280\n",
      "FEATURE BATCH # 3 DATA BATCH # 41  SIZE IS  1280\n",
      "FEATURE BATCH # 3 DATA BATCH # 42  SIZE IS  1280\n",
      "FEATURE BATCH # 3 DATA BATCH # 43  SIZE IS  1280\n",
      "FEATURE BATCH # 3 DATA BATCH # 44  SIZE IS  1280\n",
      "FEATURE BATCH # 3 DATA BATCH # 45  SIZE IS  1280\n",
      "Accumulating (ASYNC) Batch 3 gram took 40.7026860714 seconds\n",
      "FEATURE BATCH # 3 DATA BATCH # 46  SIZE IS  1120\n",
      "Convolving features took 42.5470070839 seconds\n",
      "Sending features\n",
      "Receiving (ASYNC) Batch 4\n",
      "Sending features took 0.265841960907 seconds\n",
      "Convolving features\n",
      "Out Shape  2 x 2 x 2048\n",
      "Receiving (ASYNC) took 0.397819042206 seconds\n",
      "Accumulating (ASYNC) Gram\n",
      "XBATCH DTYPE float32\n",
      "total skipped  14379\n",
      "FEATURE BATCH # 4 DATA BATCH # 0  SIZE IS  1280\n",
      "FEATURE BATCH # 4 DATA BATCH # 1  SIZE IS  1280\n",
      "FEATURE BATCH # 4 DATA BATCH # 2  SIZE IS  1280\n",
      "FEATURE BATCH # 4 DATA BATCH # 3  SIZE IS  1280\n",
      "FEATURE BATCH # 4 DATA BATCH # 4  SIZE IS  1280\n",
      "FEATURE BATCH # 4 DATA BATCH # 5  SIZE IS  1280\n",
      "FEATURE BATCH # 4 DATA BATCH # 6  SIZE IS  1280\n",
      "FEATURE BATCH # 4 DATA BATCH # 7  SIZE IS  1280\n",
      "FEATURE BATCH # 4 DATA BATCH # 8  SIZE IS  1280\n",
      "FEATURE BATCH # 4 DATA BATCH # 9  SIZE IS  1280\n",
      "FEATURE BATCH # 4 DATA BATCH # 10  SIZE IS  1280\n",
      "FEATURE BATCH # 4 DATA BATCH # 11  SIZE IS  1280\n",
      "FEATURE BATCH # 4 DATA BATCH # 12  SIZE IS  1280\n",
      "FEATURE BATCH # 4 DATA BATCH # 13  SIZE IS  1280\n",
      "FEATURE BATCH # 4 DATA BATCH # 14  SIZE IS  1280\n",
      "FEATURE BATCH # 4 DATA BATCH # 15  SIZE IS  1280\n",
      "FEATURE BATCH # 4 DATA BATCH # 16  SIZE IS  1280\n",
      "FEATURE BATCH # 4 DATA BATCH # 17  SIZE IS  1280\n",
      "FEATURE BATCH # 4 DATA BATCH # 18  SIZE IS  1280\n",
      "FEATURE BATCH # 4 DATA BATCH # 19  SIZE IS  1280\n",
      "FEATURE BATCH # 4 DATA BATCH # 20  SIZE IS  1280\n",
      "FEATURE BATCH # 4 DATA BATCH # 21  SIZE IS  1280\n",
      "FEATURE BATCH # 4 DATA BATCH # 22  SIZE IS  1280\n",
      "FEATURE BATCH # 4 DATA BATCH # 23  SIZE IS  1280\n",
      "FEATURE BATCH # 4 DATA BATCH # 24  SIZE IS  1280\n",
      "FEATURE BATCH # 4 DATA BATCH # 25  SIZE IS  1280\n",
      "FEATURE BATCH # 4 DATA BATCH # 26  SIZE IS  1280\n",
      "FEATURE BATCH # 4 DATA BATCH # 27  SIZE IS  1280\n",
      "FEATURE BATCH # 4 DATA BATCH # 28  SIZE IS  1280\n",
      "FEATURE BATCH # 4 DATA BATCH # 29  SIZE IS  1280\n",
      "FEATURE BATCH # 4 DATA BATCH # 30  SIZE IS  1280\n",
      "FEATURE BATCH # 4 DATA BATCH # 31  SIZE IS  1280\n",
      "FEATURE BATCH # 4 DATA BATCH # 32  SIZE IS  1280\n",
      "FEATURE BATCH # 4 DATA BATCH # 33  SIZE IS  1280\n",
      "FEATURE BATCH # 4 DATA BATCH # 34  SIZE IS  1280\n",
      "FEATURE BATCH # 4 DATA BATCH # 35  SIZE IS  1280\n",
      "FEATURE BATCH # 4 DATA BATCH # 36  SIZE IS  1280\n",
      "FEATURE BATCH # 4 DATA BATCH # 37  SIZE IS  1280\n",
      "FEATURE BATCH # 4 DATA BATCH # 38  SIZE IS  1280\n",
      "FEATURE BATCH # 4 DATA BATCH # 39  SIZE IS  1280\n",
      "FEATURE BATCH # 4 DATA BATCH # 40  SIZE IS  1280\n",
      "FEATURE BATCH # 4 DATA BATCH # 41  SIZE IS  1280\n",
      "FEATURE BATCH # 4 DATA BATCH # 42  SIZE IS  1280\n",
      "FEATURE BATCH # 4 DATA BATCH # 43  SIZE IS  1280\n",
      "FEATURE BATCH # 4 DATA BATCH # 44  SIZE IS  1280\n",
      "FEATURE BATCH # 4 DATA BATCH # 45  SIZE IS  1280\n",
      "FEATURE BATCH # 4 DATA BATCH # 46  SIZE IS  1120\n",
      "Accumulating (ASYNC) Batch 4 gram took 41.3517291546 seconds\n",
      "Convolving features took 42.8134419918 seconds\n",
      "Sending features\n",
      "Receiving (ASYNC) Batch 5\n",
      "Sending features took 0.441603899002 seconds\n",
      "Convolving features\n",
      "Out Shape  2 x 2 x 2048\n",
      "total skipped  13881\n",
      "FEATURE BATCH # 5 DATA BATCH # 0  SIZE IS  1280\n",
      "Receiving (ASYNC) took 0.354130029678 seconds\n",
      "XBATCH DTYPE float32\n",
      "Accumulating (ASYNC) Gram\n",
      "FEATURE BATCH # 5 DATA BATCH # 1  SIZE IS  1280\n",
      "FEATURE BATCH # 5 DATA BATCH # 2  SIZE IS  1280\n",
      "FEATURE BATCH # 5 DATA BATCH # 3  SIZE IS  1280\n",
      "FEATURE BATCH # 5 DATA BATCH # 4  SIZE IS  1280\n",
      "FEATURE BATCH # 5 DATA BATCH # 5  SIZE IS  1280\n",
      "FEATURE BATCH # 5 DATA BATCH # 6  SIZE IS  1280\n",
      "FEATURE BATCH # 5 DATA BATCH # 7  SIZE IS  1280\n",
      "FEATURE BATCH # 5 DATA BATCH # 8  SIZE IS  1280\n",
      "FEATURE BATCH # 5 DATA BATCH # 9  SIZE IS  1280\n",
      "FEATURE BATCH # 5 DATA BATCH # 10  SIZE IS  1280\n",
      "FEATURE BATCH # 5 DATA BATCH # 11  SIZE IS  1280\n",
      "FEATURE BATCH # 5 DATA BATCH # 12  SIZE IS  1280\n",
      "FEATURE BATCH # 5 DATA BATCH # 13  SIZE IS  1280\n",
      "FEATURE BATCH # 5 DATA BATCH # 14  SIZE IS  1280\n",
      "FEATURE BATCH # 5 DATA BATCH # 15  SIZE IS  1280\n",
      "FEATURE BATCH # 5 DATA BATCH # 16  SIZE IS  1280\n",
      "FEATURE BATCH # 5 DATA BATCH # 17  SIZE IS  1280\n",
      "FEATURE BATCH # 5 DATA BATCH # 18  SIZE IS  1280\n",
      "FEATURE BATCH # 5 DATA BATCH # 19  SIZE IS  1280\n",
      "FEATURE BATCH # 5 DATA BATCH # 20  SIZE IS  1280\n",
      "FEATURE BATCH # 5 DATA BATCH # 21  SIZE IS  1280\n",
      "FEATURE BATCH # 5 DATA BATCH # 22  SIZE IS  1280\n",
      "FEATURE BATCH # 5 DATA BATCH # 23  SIZE IS  1280\n",
      "FEATURE BATCH # 5 DATA BATCH # 24  SIZE IS  1280\n",
      "FEATURE BATCH # 5 DATA BATCH # 25  SIZE IS  1280\n",
      "FEATURE BATCH # 5 DATA BATCH # 26  SIZE IS  1280\n",
      "FEATURE BATCH # 5 DATA BATCH # 27  SIZE IS  1280\n",
      "FEATURE BATCH # 5 DATA BATCH # 28  SIZE IS  1280\n",
      "FEATURE BATCH # 5 DATA BATCH # 29  SIZE IS  1280\n",
      "FEATURE BATCH # 5 DATA BATCH # 30  SIZE IS  1280\n",
      "FEATURE BATCH # 5 DATA BATCH # 31  SIZE IS  1280\n",
      "FEATURE BATCH # 5 DATA BATCH # 32  SIZE IS  1280\n",
      "FEATURE BATCH # 5 DATA BATCH # 33  SIZE IS  1280\n",
      "FEATURE BATCH # 5 DATA BATCH # 34  SIZE IS  1280\n",
      "FEATURE BATCH # 5 DATA BATCH # 35  SIZE IS  1280\n",
      "FEATURE BATCH # 5 DATA BATCH # 36  SIZE IS  1280\n",
      "FEATURE BATCH # 5 DATA BATCH # 37  SIZE IS  1280\n",
      "FEATURE BATCH # 5 DATA BATCH # 38  SIZE IS  1280\n",
      "FEATURE BATCH # 5 DATA BATCH # 39  SIZE IS  1280\n",
      "FEATURE BATCH # 5 DATA BATCH # 40  SIZE IS  1280\n",
      "FEATURE BATCH # 5 DATA BATCH # 41  SIZE IS  1280\n",
      "FEATURE BATCH # 5 DATA BATCH # 42  SIZE IS  1280\n",
      "FEATURE BATCH # 5 DATA BATCH # 43  SIZE IS  1280\n",
      "FEATURE BATCH # 5 DATA BATCH # 44  SIZE IS  1280\n",
      "FEATURE BATCH # 5 DATA BATCH # 45  SIZE IS  1280\n",
      "Accumulating (ASYNC) Batch 5 gram took 40.6436860561 seconds\n",
      "FEATURE BATCH # 5 DATA BATCH # 46  SIZE IS  1120\n",
      "Convolving features took 42.7507269382 seconds\n",
      "Sending features\n",
      "Receiving (ASYNC) Batch 6\n",
      "Sending features took 0.26603102684 seconds\n",
      "Convolving features\n",
      "Out Shape  2 x 2 x 2048\n",
      "Receiving (ASYNC) took 0.415735960007 seconds\n",
      "Accumulating (ASYNC) Gram\n",
      "XBATCH DTYPE float32\n",
      "total skipped  13863\n",
      "FEATURE BATCH # 6 DATA BATCH # 0  SIZE IS  1280\n",
      "FEATURE BATCH # 6 DATA BATCH # 1  SIZE IS  1280\n",
      "FEATURE BATCH # 6 DATA BATCH # 2  SIZE IS  1280\n",
      "FEATURE BATCH # 6 DATA BATCH # 3  SIZE IS  1280\n",
      "FEATURE BATCH # 6 DATA BATCH # 4  SIZE IS  1280\n",
      "FEATURE BATCH # 6 DATA BATCH # 5  SIZE IS  1280\n",
      "FEATURE BATCH # 6 DATA BATCH # 6  SIZE IS  1280\n",
      "FEATURE BATCH # 6 DATA BATCH # 7  SIZE IS  1280\n",
      "FEATURE BATCH # 6 DATA BATCH # 8  SIZE IS  1280\n",
      "FEATURE BATCH # 6 DATA BATCH # 9  SIZE IS  1280\n",
      "FEATURE BATCH # 6 DATA BATCH # 10  SIZE IS  1280\n",
      "FEATURE BATCH # 6 DATA BATCH # 11  SIZE IS  1280\n",
      "FEATURE BATCH # 6 DATA BATCH # 12  SIZE IS  1280\n",
      "FEATURE BATCH # 6 DATA BATCH # 13  SIZE IS  1280\n",
      "FEATURE BATCH # 6 DATA BATCH # 14  SIZE IS  1280\n",
      "FEATURE BATCH # 6 DATA BATCH # 15  SIZE IS  1280\n",
      "FEATURE BATCH # 6 DATA BATCH # 16  SIZE IS  1280\n",
      "FEATURE BATCH # 6 DATA BATCH # 17  SIZE IS  1280\n",
      "FEATURE BATCH # 6 DATA BATCH # 18  SIZE IS  1280\n",
      "FEATURE BATCH # 6 DATA BATCH # 19  SIZE IS  1280\n",
      "FEATURE BATCH # 6 DATA BATCH # 20  SIZE IS  1280\n",
      "FEATURE BATCH # 6 DATA BATCH # 21  SIZE IS  1280\n",
      "FEATURE BATCH # 6 DATA BATCH # 22  SIZE IS  1280\n",
      "FEATURE BATCH # 6 DATA BATCH # 23  SIZE IS  1280\n",
      "FEATURE BATCH # 6 DATA BATCH # 24  SIZE IS  1280\n",
      "FEATURE BATCH # 6 DATA BATCH # 25  SIZE IS  1280\n",
      "FEATURE BATCH # 6 DATA BATCH # 26  SIZE IS  1280\n",
      "FEATURE BATCH # 6 DATA BATCH # 27  SIZE IS  1280\n",
      "FEATURE BATCH # 6 DATA BATCH # 28  SIZE IS  1280\n",
      "FEATURE BATCH # 6 DATA BATCH # 29  SIZE IS  1280\n",
      "FEATURE BATCH # 6 DATA BATCH # 30  SIZE IS  1280\n",
      "FEATURE BATCH # 6 DATA BATCH # 31  SIZE IS  1280\n",
      "FEATURE BATCH # 6 DATA BATCH # 32  SIZE IS  1280\n",
      "FEATURE BATCH # 6 DATA BATCH # 33  SIZE IS  1280\n",
      "FEATURE BATCH # 6 DATA BATCH # 34  SIZE IS  1280\n",
      "FEATURE BATCH # 6 DATA BATCH # 35  SIZE IS  1280\n",
      "FEATURE BATCH # 6 DATA BATCH # 36  SIZE IS  1280\n",
      "FEATURE BATCH # 6 DATA BATCH # 37  SIZE IS  1280\n",
      "FEATURE BATCH # 6 DATA BATCH # 38  SIZE IS  1280\n",
      "FEATURE BATCH # 6 DATA BATCH # 39  SIZE IS  1280\n",
      "FEATURE BATCH # 6 DATA BATCH # 40  SIZE IS  1280\n",
      "FEATURE BATCH # 6 DATA BATCH # 41  SIZE IS  1280\n",
      "FEATURE BATCH # 6 DATA BATCH # 42  SIZE IS  1280\n",
      "FEATURE BATCH # 6 DATA BATCH # 43  SIZE IS  1280\n",
      "FEATURE BATCH # 6 DATA BATCH # 44  SIZE IS  1280\n",
      "FEATURE BATCH # 6 DATA BATCH # 45  SIZE IS  1280\n",
      "FEATURE BATCH # 6 DATA BATCH # 46  SIZE IS  1120\n",
      "Accumulating (ASYNC) Batch 6 gram took 41.2935431004 seconds\n",
      "Convolving features took 42.9153997898 seconds\n",
      "Sending features\n",
      "Receiving (ASYNC) Batch 7\n",
      "Sending features took 0.417134046555 seconds\n",
      "Convolving features\n",
      "Out Shape  2 x 2 x 2048\n",
      "total skipped  14127\n",
      "FEATURE BATCH # 7 DATA BATCH # 0  SIZE IS  1280\n",
      "Receiving (ASYNC) took 0.371296167374 seconds\n",
      "XBATCH DTYPE float32\n",
      "Accumulating (ASYNC) Gram\n",
      "FEATURE BATCH # 7 DATA BATCH # 1  SIZE IS  1280\n",
      "FEATURE BATCH # 7 DATA BATCH # 2  SIZE IS  1280\n",
      "FEATURE BATCH # 7 DATA BATCH # 3  SIZE IS  1280\n",
      "FEATURE BATCH # 7 DATA BATCH # 4  SIZE IS  1280\n",
      "FEATURE BATCH # 7 DATA BATCH # 5  SIZE IS  1280\n",
      "FEATURE BATCH # 7 DATA BATCH # 6  SIZE IS  1280\n",
      "FEATURE BATCH # 7 DATA BATCH # 7  SIZE IS  1280\n",
      "FEATURE BATCH # 7 DATA BATCH # 8  SIZE IS  1280\n",
      "FEATURE BATCH # 7 DATA BATCH # 9  SIZE IS  1280\n",
      "FEATURE BATCH # 7 DATA BATCH # 10  SIZE IS  1280\n",
      "FEATURE BATCH # 7 DATA BATCH # 11  SIZE IS  1280\n",
      "FEATURE BATCH # 7 DATA BATCH # 12  SIZE IS  1280\n",
      "FEATURE BATCH # 7 DATA BATCH # 13  SIZE IS  1280\n",
      "FEATURE BATCH # 7 DATA BATCH # 14  SIZE IS  1280\n",
      "FEATURE BATCH # 7 DATA BATCH # 15  SIZE IS  1280\n",
      "FEATURE BATCH # 7 DATA BATCH # 16  SIZE IS  1280\n",
      "FEATURE BATCH # 7 DATA BATCH # 17  SIZE IS  1280\n",
      "FEATURE BATCH # 7 DATA BATCH # 18  SIZE IS  1280\n",
      "FEATURE BATCH # 7 DATA BATCH # 19  SIZE IS  1280\n",
      "FEATURE BATCH # 7 DATA BATCH # 20  SIZE IS  1280\n",
      "FEATURE BATCH # 7 DATA BATCH # 21  SIZE IS  1280\n",
      "FEATURE BATCH # 7 DATA BATCH # 22  SIZE IS  1280\n",
      "FEATURE BATCH # 7 DATA BATCH # 23  SIZE IS  1280\n",
      "FEATURE BATCH # 7 DATA BATCH # 24  SIZE IS  1280\n",
      "FEATURE BATCH # 7 DATA BATCH # 25  SIZE IS  1280\n",
      "FEATURE BATCH # 7 DATA BATCH # 26  SIZE IS  1280\n",
      "FEATURE BATCH # 7 DATA BATCH # 27  SIZE IS  1280\n",
      "FEATURE BATCH # 7 DATA BATCH # 28  SIZE IS  1280\n",
      "FEATURE BATCH # 7 DATA BATCH # 29  SIZE IS  1280\n",
      "FEATURE BATCH # 7 DATA BATCH # 30  SIZE IS  1280\n",
      "FEATURE BATCH # 7 DATA BATCH # 31  SIZE IS  1280\n",
      "FEATURE BATCH # 7 DATA BATCH # 32  SIZE IS  1280\n",
      "FEATURE BATCH # 7 DATA BATCH # 33  SIZE IS  1280\n",
      "FEATURE BATCH # 7 DATA BATCH # 34  SIZE IS  1280\n",
      "FEATURE BATCH # 7 DATA BATCH # 35  SIZE IS  1280\n",
      "FEATURE BATCH # 7 DATA BATCH # 36  SIZE IS  1280\n",
      "FEATURE BATCH # 7 DATA BATCH # 37  SIZE IS  1280\n",
      "FEATURE BATCH # 7 DATA BATCH # 38  SIZE IS  1280\n",
      "FEATURE BATCH # 7 DATA BATCH # 39  SIZE IS  1280\n",
      "FEATURE BATCH # 7 DATA BATCH # 40  SIZE IS  1280\n",
      "FEATURE BATCH # 7 DATA BATCH # 41  SIZE IS  1280\n",
      "FEATURE BATCH # 7 DATA BATCH # 42  SIZE IS  1280\n",
      "FEATURE BATCH # 7 DATA BATCH # 43  SIZE IS  1280\n",
      "FEATURE BATCH # 7 DATA BATCH # 44  SIZE IS  1280\n",
      "FEATURE BATCH # 7 DATA BATCH # 45  SIZE IS  1280\n",
      "Accumulating (ASYNC) Batch 7 gram took 40.5596168041 seconds\n",
      "FEATURE BATCH # 7 DATA BATCH # 46  SIZE IS  1120\n",
      "Convolving features took 42.702121973 seconds\n",
      "Sending features\n",
      "Receiving (ASYNC) Batch 8\n",
      "Sending features took 0.266522169113 seconds\n",
      "Convolving features\n",
      "Out Shape  2 x 2 x 2048\n",
      "Receiving (ASYNC) took 0.379961013794 seconds\n",
      "XBATCH DTYPE float32\n",
      "Accumulating (ASYNC) Gram\n",
      "total skipped  13935\n",
      "FEATURE BATCH # 8 DATA BATCH # 0  SIZE IS  1280\n",
      "FEATURE BATCH # 8 DATA BATCH # 1  SIZE IS  1280\n",
      "FEATURE BATCH # 8 DATA BATCH # 2  SIZE IS  1280\n",
      "FEATURE BATCH # 8 DATA BATCH # 3  SIZE IS  1280\n",
      "FEATURE BATCH # 8 DATA BATCH # 4  SIZE IS  1280\n",
      "FEATURE BATCH # 8 DATA BATCH # 5  SIZE IS  1280\n",
      "FEATURE BATCH # 8 DATA BATCH # 6  SIZE IS  1280\n",
      "FEATURE BATCH # 8 DATA BATCH # 7  SIZE IS  1280\n",
      "FEATURE BATCH # 8 DATA BATCH # 8  SIZE IS  1280\n",
      "FEATURE BATCH # 8 DATA BATCH # 9  SIZE IS  1280\n",
      "FEATURE BATCH # 8 DATA BATCH # 10  SIZE IS  1280\n",
      "FEATURE BATCH # 8 DATA BATCH # 11  SIZE IS  1280\n",
      "FEATURE BATCH # 8 DATA BATCH # 12  SIZE IS  1280\n",
      "FEATURE BATCH # 8 DATA BATCH # 13  SIZE IS  1280\n",
      "FEATURE BATCH # 8 DATA BATCH # 14  SIZE IS  1280\n",
      "FEATURE BATCH # 8 DATA BATCH # 15  SIZE IS  1280\n",
      "FEATURE BATCH # 8 DATA BATCH # 16  SIZE IS  1280\n",
      "FEATURE BATCH # 8 DATA BATCH # 17  SIZE IS  1280\n",
      "FEATURE BATCH # 8 DATA BATCH # 18  SIZE IS  1280\n",
      "FEATURE BATCH # 8 DATA BATCH # 19  SIZE IS  1280\n",
      "FEATURE BATCH # 8 DATA BATCH # 20  SIZE IS  1280\n",
      "FEATURE BATCH # 8 DATA BATCH # 21  SIZE IS  1280\n",
      "FEATURE BATCH # 8 DATA BATCH # 22  SIZE IS  1280\n",
      "FEATURE BATCH # 8 DATA BATCH # 23  SIZE IS  1280\n",
      "FEATURE BATCH # 8 DATA BATCH # 24  SIZE IS  1280\n",
      "FEATURE BATCH # 8 DATA BATCH # 25  SIZE IS  1280\n",
      "FEATURE BATCH # 8 DATA BATCH # 26  SIZE IS  1280\n",
      "FEATURE BATCH # 8 DATA BATCH # 27  SIZE IS  1280\n",
      "FEATURE BATCH # 8 DATA BATCH # 28  SIZE IS  1280\n",
      "FEATURE BATCH # 8 DATA BATCH # 29  SIZE IS  1280\n",
      "FEATURE BATCH # 8 DATA BATCH # 30  SIZE IS  1280\n",
      "FEATURE BATCH # 8 DATA BATCH # 31  SIZE IS  1280\n",
      "FEATURE BATCH # 8 DATA BATCH # 32  SIZE IS  1280\n",
      "FEATURE BATCH # 8 DATA BATCH # 33  SIZE IS  1280\n",
      "FEATURE BATCH # 8 DATA BATCH # 34  SIZE IS  1280\n",
      "FEATURE BATCH # 8 DATA BATCH # 35  SIZE IS  1280\n",
      "FEATURE BATCH # 8 DATA BATCH # 36  SIZE IS  1280\n",
      "FEATURE BATCH # 8 DATA BATCH # 37  SIZE IS  1280\n",
      "FEATURE BATCH # 8 DATA BATCH # 38  SIZE IS  1280\n",
      "FEATURE BATCH # 8 DATA BATCH # 39  SIZE IS  1280\n",
      "FEATURE BATCH # 8 DATA BATCH # 40  SIZE IS  1280\n",
      "FEATURE BATCH # 8 DATA BATCH # 41  SIZE IS  1280\n",
      "FEATURE BATCH # 8 DATA BATCH # 42  SIZE IS  1280\n",
      "FEATURE BATCH # 8 DATA BATCH # 43  SIZE IS  1280\n",
      "FEATURE BATCH # 8 DATA BATCH # 44  SIZE IS  1280\n",
      "FEATURE BATCH # 8 DATA BATCH # 45  SIZE IS  1280\n",
      "Accumulating (ASYNC) Batch 8 gram took 41.1442649364 seconds\n",
      "FEATURE BATCH # 8 DATA BATCH # 46  SIZE IS  1120\n",
      "Convolving features took 43.178976059 seconds\n",
      "Sending features\n",
      "Receiving (ASYNC) Batch 9\n",
      "Sending features took 0.416384935379 seconds\n",
      "Convolving features\n",
      "Out Shape  2 x 2 x 2048\n",
      "total skipped  14175\n",
      "FEATURE BATCH # 9 DATA BATCH # 0  SIZE IS  1280\n",
      "Receiving (ASYNC) took 0.353424072266 seconds\n",
      "XBATCH DTYPE float32\n",
      "Accumulating (ASYNC) Gram\n",
      "FEATURE BATCH # 9 DATA BATCH # 1  SIZE IS  1280\n",
      "FEATURE BATCH # 9 DATA BATCH # 2  SIZE IS  1280\n",
      "FEATURE BATCH # 9 DATA BATCH # 3  SIZE IS  1280\n",
      "FEATURE BATCH # 9 DATA BATCH # 4  SIZE IS  1280\n",
      "FEATURE BATCH # 9 DATA BATCH # 5  SIZE IS  1280\n",
      "FEATURE BATCH # 9 DATA BATCH # 6  SIZE IS  1280\n",
      "FEATURE BATCH # 9 DATA BATCH # 7  SIZE IS  1280\n",
      "FEATURE BATCH # 9 DATA BATCH # 8  SIZE IS  1280\n",
      "FEATURE BATCH # 9 DATA BATCH # 9  SIZE IS  1280\n",
      "FEATURE BATCH # 9 DATA BATCH # 10  SIZE IS  1280\n",
      "FEATURE BATCH # 9 DATA BATCH # 11  SIZE IS  1280\n",
      "FEATURE BATCH # 9 DATA BATCH # 12  SIZE IS  1280\n",
      "FEATURE BATCH # 9 DATA BATCH # 13  SIZE IS  1280\n",
      "FEATURE BATCH # 9 DATA BATCH # 14  SIZE IS  1280\n",
      "FEATURE BATCH # 9 DATA BATCH # 15  SIZE IS  1280\n",
      "FEATURE BATCH # 9 DATA BATCH # 16  SIZE IS  1280\n",
      "FEATURE BATCH # 9 DATA BATCH # 17  SIZE IS  1280\n",
      "FEATURE BATCH # 9 DATA BATCH # 18  SIZE IS  1280\n",
      "FEATURE BATCH # 9 DATA BATCH # 19  SIZE IS  1280\n",
      "FEATURE BATCH # 9 DATA BATCH # 20  SIZE IS  1280\n",
      "FEATURE BATCH # 9 DATA BATCH # 21  SIZE IS  1280\n",
      "FEATURE BATCH # 9 DATA BATCH # 22  SIZE IS  1280\n",
      "FEATURE BATCH # 9 DATA BATCH # 23  SIZE IS  1280\n",
      "FEATURE BATCH # 9 DATA BATCH # 24  SIZE IS  1280\n",
      "FEATURE BATCH # 9 DATA BATCH # 25  SIZE IS  1280\n",
      "FEATURE BATCH # 9 DATA BATCH # 26  SIZE IS  1280\n",
      "FEATURE BATCH # 9 DATA BATCH # 27  SIZE IS  1280\n",
      "FEATURE BATCH # 9 DATA BATCH # 28  SIZE IS  1280\n",
      "FEATURE BATCH # 9 DATA BATCH # 29  SIZE IS  1280\n",
      "FEATURE BATCH # 9 DATA BATCH # 30  SIZE IS  1280\n",
      "FEATURE BATCH # 9 DATA BATCH # 31  SIZE IS  1280\n",
      "FEATURE BATCH # 9 DATA BATCH # 32  SIZE IS  1280\n",
      "FEATURE BATCH # 9 DATA BATCH # 33  SIZE IS  1280\n",
      "FEATURE BATCH # 9 DATA BATCH # 34  SIZE IS  1280\n",
      "FEATURE BATCH # 9 DATA BATCH # 35  SIZE IS  1280\n",
      "FEATURE BATCH # 9 DATA BATCH # 36  SIZE IS  1280\n",
      "FEATURE BATCH # 9 DATA BATCH # 37  SIZE IS  1280\n",
      "FEATURE BATCH # 9 DATA BATCH # 38  SIZE IS  1280\n",
      "FEATURE BATCH # 9 DATA BATCH # 39  SIZE IS  1280\n",
      "FEATURE BATCH # 9 DATA BATCH # 40  SIZE IS  1280\n",
      "FEATURE BATCH # 9 DATA BATCH # 41  SIZE IS  1280\n",
      "FEATURE BATCH # 9 DATA BATCH # 42  SIZE IS  1280\n",
      "FEATURE BATCH # 9 DATA BATCH # 43  SIZE IS  1280\n"
     ]
    }
   ],
   "source": [
    "# dropout small (max 0.25) little 40k filters\n",
    "filter_gen = make_skip_empirical_filter_gen(patches, labelsTrain, skip_min=0, skip_max=9)\n",
    "featurizeTrainAndEvaluateDualModelAsync(XTrain, XTest, labelsTrain, labelsTest, filter_gen, 10, regs=LAMBDAS)"
   ]
  },
  {
   "cell_type": "code",
   "execution_count": 63,
   "metadata": {
    "collapsed": false
   },
   "outputs": [
    {
     "name": "stdout",
     "output_type": "stream",
     "text": [
      "Output train data shape  (50000, 32768)\n",
      "Output test data shape  (10000, 32768)\n",
      "Output filters shape  (12, 6, 6, 1024)\n",
      "X SHAPE  (50000, 32768)\n",
      "Computing XTX\n",
      "Done Computing XTX\n",
      "REG is 100\n",
      "Learning Primal Model\n",
      "CONFUSION MATRIX\n",
      "[[828  12  29  16   9   7   5   9  57  28]\n",
      " [  6 905   5   4   2   5   6   4  18  45]\n",
      " [ 56   9 687  42  57  44  64  28   7   6]\n",
      " [ 27  14  44 607  38 152  52  24  18  24]\n",
      " [ 10   2  33  42 756  19  64  59   8   7]\n",
      " [ 11   5  36 127  35 713  24  32  12   5]\n",
      " [  3   6  31  30  35  12 869   6   6   2]\n",
      " [ 15   5  19  27  38  52  11 815   6  12]\n",
      " [ 38  18   4   7   4   4   7   3 892  23]\n",
      " [ 21  51   6   4   7   2   8   7  23 871]]\n",
      "(conv) train:  0.95004 (conv) test:  0.7943\n"
     ]
    }
   ],
   "source": [
    "XFinal = Xlevel1\n",
    "XFinalTrain = XFinal[:50000,:,:,:].reshape(NUM_TRAIN,-1)\n",
    "XFinalTest = XFinal[50000:,:,:,:].reshape(NUM_TEST,-1)\n",
    "print \"Output train data shape \", XFinalTrain.shape\n",
    "print \"Output test data shape \", XFinalTest.shape\n",
    "print \"Output filters shape \", filters.shape\n",
    "convTrainAcc, convTestAcc = trainAndEvaluatePrimalModel(XFinalTrain, XFinalTest, labelsTrain, labelsTest, reg=100)\n",
    "print \"(conv) train: \", convTrainAcc, \"(conv) test: \", convTestAcc"
   ]
  },
  {
   "cell_type": "code",
   "execution_count": 47,
   "metadata": {
    "collapsed": false
   },
   "outputs": [
    {
     "data": {
      "text/plain": [
       "3"
      ]
     },
     "execution_count": 47,
     "metadata": {},
     "output_type": "execute_result"
    }
   ],
   "source": [
    "random.choice(5)"
   ]
  },
  {
   "cell_type": "code",
   "execution_count": 49,
   "metadata": {
    "collapsed": false
   },
   "outputs": [
    {
     "name": "stdout",
     "output_type": "stream",
     "text": [
      "(3, 6, 6, 1024)\n"
     ]
    }
   ],
   "source": [
    "print filters.shape"
   ]
  },
  {
   "cell_type": "code",
   "execution_count": 50,
   "metadata": {
    "collapsed": false
   },
   "outputs": [
    {
     "data": {
      "text/plain": [
       "6"
      ]
     },
     "execution_count": 50,
     "metadata": {},
     "output_type": "execute_result"
    }
   ],
   "source": [
    "filters[0].shape[0]"
   ]
  },
  {
   "cell_type": "code",
   "execution_count": 74,
   "metadata": {
    "collapsed": false
   },
   "outputs": [
    {
     "ename": "ValueError",
     "evalue": "a must be 1-dimensional",
     "output_type": "error",
     "traceback": [
      "\u001b[1;31m---------------------------------------------------------------------------\u001b[0m",
      "\u001b[1;31mValueError\u001b[0m                                Traceback (most recent call last)",
      "\u001b[1;32m<ipython-input-74-5d0763ac0949>\u001b[0m in \u001b[0;36m<module>\u001b[1;34m()\u001b[0m\n\u001b[1;32m----> 1\u001b[1;33m \u001b[0mnp\u001b[0m\u001b[1;33m.\u001b[0m\u001b[0mrandom\u001b[0m\u001b[1;33m.\u001b[0m\u001b[0mchoice\u001b[0m\u001b[1;33m(\u001b[0m\u001b[0mnp\u001b[0m\u001b[1;33m.\u001b[0m\u001b[0mindices\u001b[0m\u001b[1;33m(\u001b[0m\u001b[1;33m(\u001b[0m\u001b[1;36m5\u001b[0m\u001b[1;33m,\u001b[0m\u001b[1;36m5\u001b[0m\u001b[1;33m)\u001b[0m\u001b[1;33m)\u001b[0m\u001b[1;33m,\u001b[0m \u001b[1;36m5\u001b[0m\u001b[1;33m)\u001b[0m\u001b[1;33m\u001b[0m\u001b[0m\n\u001b[0m",
      "\u001b[1;32mmtrand.pyx\u001b[0m in \u001b[0;36mmtrand.RandomState.choice (numpy/random/mtrand/mtrand.c:15428)\u001b[1;34m()\u001b[0m\n",
      "\u001b[1;31mValueError\u001b[0m: a must be 1-dimensional"
     ]
    }
   ],
   "source": [
    "np.random.choice(np.indices((5,5)), 5)"
   ]
  },
  {
   "cell_type": "code",
   "execution_count": 73,
   "metadata": {
    "collapsed": false
   },
   "outputs": [
    {
     "data": {
      "text/plain": [
       "array([[[0, 0, 0, 0, 0],\n",
       "        [1, 1, 1, 1, 1],\n",
       "        [2, 2, 2, 2, 2],\n",
       "        [3, 3, 3, 3, 3],\n",
       "        [4, 4, 4, 4, 4]],\n",
       "\n",
       "       [[0, 1, 2, 3, 4],\n",
       "        [0, 1, 2, 3, 4],\n",
       "        [0, 1, 2, 3, 4],\n",
       "        [0, 1, 2, 3, 4],\n",
       "        [0, 1, 2, 3, 4]]])"
      ]
     },
     "execution_count": 73,
     "metadata": {},
     "output_type": "execute_result"
    }
   ],
   "source": [
    "np.indices((5,5))"
   ]
  },
  {
   "cell_type": "code",
   "execution_count": 83,
   "metadata": {
    "collapsed": false
   },
   "outputs": [
    {
     "data": {
      "text/plain": [
       "array([[ -1.70444816e-01,  -3.03272426e-01,   1.37171626e+00, ...,\n",
       "          2.57786006e-01,   1.57815561e-01,  -7.87950829e-02],\n",
       "       [ -2.30296880e-01,   1.00283340e-01,   8.26390460e-04, ...,\n",
       "          6.49847388e-01,   2.98254907e-01,  -5.19101731e-02],\n",
       "       [ -1.28035054e-01,  -5.01830280e-01,  -3.27049404e-01, ...,\n",
       "         -2.60016918e-01,  -2.30987780e-02,   2.18990356e-01],\n",
       "       ..., \n",
       "       [  1.08705595e-01,   3.59030426e-01,  -2.79859453e-01, ...,\n",
       "         -5.16299069e-01,  -1.59351379e-01,   1.81258261e-01],\n",
       "       [ -2.88475901e-02,  -6.36781305e-02,  -3.80711228e-01, ...,\n",
       "         -1.62647545e-01,  -6.82331622e-02,  -4.47625145e-02],\n",
       "       [  8.55591744e-02,   3.60014886e-01,   4.05569851e-01, ...,\n",
       "          1.30979732e-01,   2.63492167e-01,   1.32874295e-01]], dtype=float32)"
      ]
     },
     "execution_count": 83,
     "metadata": {},
     "output_type": "execute_result"
    }
   ],
   "source": [
    "filters[0].reshape(-1,1024)"
   ]
  },
  {
   "cell_type": "code",
   "execution_count": 92,
   "metadata": {
    "collapsed": false
   },
   "outputs": [
    {
     "data": {
      "text/plain": [
       "(1024,)"
      ]
     },
     "execution_count": 92,
     "metadata": {},
     "output_type": "execute_result"
    }
   ],
   "source": [
    "filters[2].reshape(-1,1024)[4].shape"
   ]
  },
  {
   "cell_type": "code",
   "execution_count": 97,
   "metadata": {
    "collapsed": false
   },
   "outputs": [
    {
     "data": {
      "text/plain": [
       "array([-0.19360606,  0.0720751 ,  0.86537236, ..., -0.28129727,\n",
       "       -0.35387492,  0.00216588], dtype=float32)"
      ]
     },
     "execution_count": 97,
     "metadata": {},
     "output_type": "execute_result"
    }
   ],
   "source": [
    "filters[2][0,3]"
   ]
  },
  {
   "cell_type": "code",
   "execution_count": 17,
   "metadata": {
    "collapsed": false
   },
   "outputs": [
    {
     "data": {
      "text/plain": [
       "110592"
      ]
     },
     "execution_count": 17,
     "metadata": {},
     "output_type": "execute_result"
    }
   ],
   "source": [
    "1024 * 6 * 6 * 3"
   ]
  },
  {
   "cell_type": "code",
   "execution_count": 54,
   "metadata": {
    "collapsed": false
   },
   "outputs": [
    {
     "data": {
      "text/plain": [
       "0.24698893229166666"
      ]
     },
     "execution_count": 54,
     "metadata": {},
     "output_type": "execute_result"
    }
   ],
   "source": [
    "np.sum(filters == 0)/float(1024*6*6*3)"
   ]
  },
  {
   "cell_type": "code",
   "execution_count": 53,
   "metadata": {
    "collapsed": false
   },
   "outputs": [
    {
     "data": {
      "text/plain": [
       "array([[[[  2.84768231e-02,   0.00000000e+00,  -8.43683630e-02, ...,\n",
       "            0.00000000e+00,   0.00000000e+00,   1.89050585e-02],\n",
       "         [ -6.45961344e-01,   5.97532749e-01,   0.00000000e+00, ...,\n",
       "            0.00000000e+00,   0.00000000e+00,  -4.08615619e-02],\n",
       "         [  0.00000000e+00,   0.00000000e+00,  -1.11592785e-01, ...,\n",
       "           -1.87280342e-01,   0.00000000e+00,   0.00000000e+00],\n",
       "         [  1.61094427e-01,  -3.57057154e-01,   1.64380819e-02, ...,\n",
       "           -1.55086964e-02,   0.00000000e+00,   0.00000000e+00],\n",
       "         [  0.00000000e+00,  -2.11659282e-01,   0.00000000e+00, ...,\n",
       "            0.00000000e+00,   0.00000000e+00,   0.00000000e+00],\n",
       "         [ -1.10665016e-01,  -5.48072755e-01,   7.75905848e-02, ...,\n",
       "           -8.37250650e-02,   0.00000000e+00,  -4.54986989e-02]],\n",
       "\n",
       "        [[  3.52274895e-01,   0.00000000e+00,  -5.16699553e-02, ...,\n",
       "            0.00000000e+00,  -5.00086546e-01,   0.00000000e+00],\n",
       "         [  0.00000000e+00,   0.00000000e+00,   0.00000000e+00, ...,\n",
       "            0.00000000e+00,   0.00000000e+00,  -4.18405086e-02],\n",
       "         [  6.29489124e-02,   0.00000000e+00,   0.00000000e+00, ...,\n",
       "            4.99863386e-01,   0.00000000e+00,   0.00000000e+00],\n",
       "         [  2.82602236e-02,   0.00000000e+00,   0.00000000e+00, ...,\n",
       "            1.07464820e-01,   3.39272618e-01,  -2.52232730e-01],\n",
       "         [  1.74602196e-01,   0.00000000e+00,   0.00000000e+00, ...,\n",
       "           -5.05347252e-02,   0.00000000e+00,  -2.27020904e-01],\n",
       "         [  0.00000000e+00,   0.00000000e+00,   3.72828096e-02, ...,\n",
       "           -1.00807026e-01,  -2.78645486e-01,  -1.57647789e-01]],\n",
       "\n",
       "        [[  1.73844412e-01,   2.73833662e-01,   0.00000000e+00, ...,\n",
       "            0.00000000e+00,   0.00000000e+00,   0.00000000e+00],\n",
       "         [ -3.53773206e-01,   0.00000000e+00,  -3.57275605e-02, ...,\n",
       "           -5.78891158e-01,  -7.24621177e-01,   0.00000000e+00],\n",
       "         [  3.71738344e-01,  -3.66284639e-01,   0.00000000e+00, ...,\n",
       "            2.91945636e-01,   0.00000000e+00,   0.00000000e+00],\n",
       "         [  0.00000000e+00,  -1.53061199e+00,  -1.63206756e-01, ...,\n",
       "           -1.09904855e-02,   6.70491606e-02,  -3.86160523e-01],\n",
       "         [  8.54178146e-03,  -2.62339056e-01,   0.00000000e+00, ...,\n",
       "           -3.49835902e-02,  -5.71416140e-01,   0.00000000e+00],\n",
       "         [ -3.97205427e-02,   0.00000000e+00,  -1.62949860e-02, ...,\n",
       "           -1.01393163e-01,  -7.34903216e-01,   0.00000000e+00]],\n",
       "\n",
       "        [[  0.00000000e+00,   0.00000000e+00,  -3.97990197e-02, ...,\n",
       "            0.00000000e+00,  -5.38748860e-01,   0.00000000e+00],\n",
       "         [  0.00000000e+00,   1.61756188e-01,  -2.46523190e-02, ...,\n",
       "            0.00000000e+00,  -2.24622369e-01,  -4.16913629e-02],\n",
       "         [  4.24703091e-01,   5.59838638e-02,   0.00000000e+00, ...,\n",
       "            3.48478347e-01,   0.00000000e+00,  -2.56696433e-01],\n",
       "         [  0.00000000e+00,   0.00000000e+00,   1.10255048e-01, ...,\n",
       "            5.56989014e-03,   6.91792071e-02,  -1.63874522e-01],\n",
       "         [  8.88296366e-02,   4.69065160e-02,   8.26308429e-02, ...,\n",
       "            0.00000000e+00,   0.00000000e+00,   0.00000000e+00],\n",
       "         [ -7.66017288e-02,   8.05639565e-01,   0.00000000e+00, ...,\n",
       "           -9.31143761e-02,   2.25843042e-01,   0.00000000e+00]],\n",
       "\n",
       "        [[ -4.38658595e-01,   2.60818079e-02,  -8.99971053e-02, ...,\n",
       "            0.00000000e+00,   0.00000000e+00,  -5.18587530e-02],\n",
       "         [  0.00000000e+00,   0.00000000e+00,   0.00000000e+00, ...,\n",
       "            0.00000000e+00,  -3.75181556e-01,  -1.88330308e-01],\n",
       "         [  0.00000000e+00,   6.20391816e-02,   2.77000740e-02, ...,\n",
       "            0.00000000e+00,   0.00000000e+00,  -5.43117464e-01],\n",
       "         [  0.00000000e+00,  -2.28342295e-01,   0.00000000e+00, ...,\n",
       "            9.09737796e-02,   6.06760204e-01,  -2.99142301e-01],\n",
       "         [  1.20720871e-01,   2.86341786e-01,   1.90361694e-01, ...,\n",
       "           -2.88469940e-02,   5.41151762e-01,   0.00000000e+00],\n",
       "         [  0.00000000e+00,   6.32068217e-01,  -3.10790092e-02, ...,\n",
       "           -1.11119263e-01,   0.00000000e+00,  -1.24818683e-01]],\n",
       "\n",
       "        [[ -2.39339396e-01,   0.00000000e+00,  -1.52828097e-02, ...,\n",
       "           -1.06991328e-01,   5.56047916e-01,  -8.18175972e-02],\n",
       "         [  0.00000000e+00,   0.00000000e+00,   0.00000000e+00, ...,\n",
       "            0.00000000e+00,   7.01020360e-01,  -2.38264233e-01],\n",
       "         [  0.00000000e+00,  -7.13384598e-02,   4.36662138e-02, ...,\n",
       "            0.00000000e+00,   2.97586083e-01,  -6.13948584e-01],\n",
       "         [  0.00000000e+00,   5.71069792e-02,   5.13459146e-02, ...,\n",
       "            0.00000000e+00,   3.10606062e-01,   0.00000000e+00],\n",
       "         [ -1.88542833e-03,   1.48370564e-01,  -4.90426719e-02, ...,\n",
       "            0.00000000e+00,   1.38924912e-01,   0.00000000e+00],\n",
       "         [  0.00000000e+00,   1.86791629e-01,   0.00000000e+00, ...,\n",
       "           -1.34430289e-01,  -1.95724845e-01,  -4.42083389e-01]]],\n",
       "\n",
       "\n",
       "       [[[ -1.13208130e-01,   2.26693422e-01,   6.22377247e-02, ...,\n",
       "           -1.16505221e-01,   1.30160451e+00,   9.06668603e-03],\n",
       "         [ -5.84973216e-01,  -7.65607134e-02,   4.81936783e-02, ...,\n",
       "           -5.45400023e-01,   1.01736999e+00,  -9.62543041e-02],\n",
       "         [  3.60548273e-02,  -8.57822478e-01,   4.11582738e-02, ...,\n",
       "           -1.39582843e-01,   2.33779430e-01,  -2.57939249e-02],\n",
       "         [  6.30218163e-02,  -1.82034113e-02,   2.65211314e-02, ...,\n",
       "            8.91580433e-02,  -1.63816661e-01,  -7.09845126e-02],\n",
       "         [ -1.30442962e-01,   6.89723194e-02,   1.40941888e-02, ...,\n",
       "           -7.10402280e-02,   6.62351966e-01,  -2.87123322e-02],\n",
       "         [ -1.17904469e-01,  -4.83985394e-01,  -2.61369944e-02, ...,\n",
       "           -6.54076040e-02,   5.80299497e-01,   7.47080147e-03]],\n",
       "\n",
       "        [[  1.82396948e-01,   7.04355463e-02,   8.71877670e-02, ...,\n",
       "           -2.09080055e-01,   7.34698594e-01,  -8.15230608e-03],\n",
       "         [ -2.69629270e-01,  -2.47828990e-01,   3.92891467e-02, ...,\n",
       "           -4.44956541e-01,   5.25430322e-01,  -7.07684904e-02],\n",
       "         [  5.39283827e-03,  -6.12743318e-01,  -6.00421429e-03, ...,\n",
       "            4.65115458e-01,  -1.32270604e-01,   1.41198337e-02],\n",
       "         [ -4.40794490e-02,  -1.94588393e-01,   1.24135256e-01, ...,\n",
       "            7.40347803e-02,  -6.91156983e-02,   9.04996246e-02],\n",
       "         [  8.29910487e-02,  -3.38043869e-02,   2.04417139e-01, ...,\n",
       "           -4.83555198e-02,   5.25963187e-01,   1.23381913e-01],\n",
       "         [ -7.17828125e-02,  -2.86791325e-02,   1.16291299e-01, ...,\n",
       "            3.57418358e-02,   7.94379652e-01,   1.06610596e-01]],\n",
       "\n",
       "        [[  4.99046892e-02,  -2.84904361e-01,   1.40348539e-01, ...,\n",
       "           -2.24965408e-01,   5.79194069e-01,  -8.15781653e-02],\n",
       "         [ -3.14470857e-01,   1.19605191e-01,   4.10285890e-02, ...,\n",
       "           -4.74599719e-01,   4.52791572e-01,  -7.41409510e-02],\n",
       "         [  2.15534896e-01,  -8.00274760e-02,  -9.65844989e-02, ...,\n",
       "            2.76329905e-01,  -4.52374220e-02,   5.80296814e-02],\n",
       "         [ -1.50411531e-01,  -8.98764431e-01,  -4.41905856e-03, ...,\n",
       "           -1.08898893e-01,  -4.13318157e-01,   2.86968887e-01],\n",
       "         [ -1.01229258e-01,  -2.48329550e-01,   9.17758048e-02, ...,\n",
       "           -2.92681009e-02,   1.44270062e-03,   1.78372458e-01],\n",
       "         [ -6.02448322e-02,   2.07024664e-01,   1.49796396e-01, ...,\n",
       "            6.85870647e-02,  -1.60384774e-02,   1.98352933e-01]],\n",
       "\n",
       "        [[  3.31535041e-01,  -2.06124380e-01,   7.21731186e-02, ...,\n",
       "            1.06829122e-01,   4.63816136e-01,  -2.17128992e-02],\n",
       "         [ -2.96817213e-01,  -1.75428689e-02,  -4.76524234e-04, ...,\n",
       "           -2.30366483e-01,   3.25668305e-01,  -1.28499687e-01],\n",
       "         [  2.96515614e-01,   4.49634671e-01,  -7.94020519e-02, ...,\n",
       "            3.03975880e-01,  -6.82531297e-01,  -9.30407643e-03],\n",
       "         [  2.20755488e-01,  -4.06469226e-01,  -3.76572758e-02, ...,\n",
       "           -3.01364213e-02,  -7.77705431e-01,   2.47409835e-01],\n",
       "         [  8.53793398e-02,   1.02711841e-03,   5.59134856e-02, ...,\n",
       "           -5.78855425e-02,  -9.38249528e-02,   3.66072953e-02],\n",
       "         [ -1.57488789e-02,   1.09453991e-01,   1.02073550e-01, ...,\n",
       "            5.58223575e-02,   3.62449467e-01,   4.95386124e-02]],\n",
       "\n",
       "        [[ -3.52534503e-01,  -1.51114225e-01,   7.60911778e-02, ...,\n",
       "           -1.80440843e-02,  -5.07945061e-01,  -7.73737431e-02],\n",
       "         [  1.54109612e-01,   2.51554221e-01,  -1.69560388e-02, ...,\n",
       "           -1.91540927e-01,  -3.99157673e-01,  -2.19065338e-01],\n",
       "         [ -3.09678465e-02,   4.88185257e-01,  -6.67500943e-02, ...,\n",
       "           -1.06128648e-01,  -7.57698596e-01,  -3.43725234e-02],\n",
       "         [ -1.46269381e-01,   1.34205312e-01,  -1.98395923e-02, ...,\n",
       "            3.51463556e-02,  -9.40605521e-01,   2.18234301e-01],\n",
       "         [  1.36542901e-01,   1.04501322e-01,   8.72674733e-02, ...,\n",
       "           -3.27773541e-02,  -1.06224015e-01,  -3.63549292e-02],\n",
       "         [  4.43566293e-02,  -4.74678874e-02,   2.48089060e-02, ...,\n",
       "            2.87649632e-02,   3.76254916e-01,   3.70264649e-02]],\n",
       "\n",
       "        [[ -2.40752235e-01,  -1.25055090e-02,  -5.44508323e-02, ...,\n",
       "           -4.40189242e-03,   4.71336365e-01,  -3.55540216e-03],\n",
       "         [ -3.55786160e-02,   1.91645816e-01,   5.33796288e-02, ...,\n",
       "           -1.25524551e-02,   3.10050011e-01,  -8.61614943e-03],\n",
       "         [  1.30255073e-01,   8.27920362e-02,  -1.50059909e-02, ...,\n",
       "            4.69884425e-02,  -3.68135780e-01,   1.48488581e-01],\n",
       "         [  2.19750792e-01,   1.07867001e-02,  -2.06599571e-02, ...,\n",
       "            8.68021548e-02,  -2.85625488e-01,   4.26066965e-02],\n",
       "         [  5.61548816e-03,  -1.89832672e-01,  -2.20637582e-03, ...,\n",
       "            3.86200547e-02,  -4.15598303e-02,  -2.07405090e-01],\n",
       "         [ -7.21725076e-02,  -2.81681716e-01,   1.40942529e-01, ...,\n",
       "           -2.31871903e-02,   9.07336622e-02,  -5.82234114e-02]]],\n",
       "\n",
       "\n",
       "       [[[ -6.15706295e-02,  -2.72008598e-01,   9.98546332e-02, ...,\n",
       "           -2.60399789e-01,  -6.84995532e-01,   1.62122101e-02],\n",
       "         [ -6.25066876e-01,  -2.09102780e-02,   1.24875121e-01, ...,\n",
       "           -7.46481478e-01,  -1.00779819e+00,  -5.30222058e-02],\n",
       "         [  4.11311202e-02,  -5.39174378e-01,   1.74828172e-01, ...,\n",
       "           -2.46020079e-01,   4.47405696e-01,   7.19073117e-02],\n",
       "         [  9.65050012e-02,   4.35946763e-01,   1.21363416e-01, ...,\n",
       "            1.24662861e-01,   2.49963418e-01,   5.44423461e-02],\n",
       "         [ -3.23635712e-02,   1.91467360e-01,  -1.84702128e-02, ...,\n",
       "            2.28035688e-01,  -1.17931378e+00,   7.10250139e-02],\n",
       "         [ -3.44759300e-02,  -6.28216147e-01,  -1.03574470e-02, ...,\n",
       "            4.04223859e-01,  -1.15944242e+00,   1.03105694e-01]],\n",
       "\n",
       "        [[  2.26630583e-01,  -3.85711908e-01,   9.06036571e-02, ...,\n",
       "           -2.69228518e-01,  -9.81748521e-01,   7.10295290e-02],\n",
       "         [ -3.93826485e-01,  -3.88835549e-01,   1.17708795e-01, ...,\n",
       "           -6.83435917e-01,  -1.42247605e+00,   1.38106748e-01],\n",
       "         [ -3.04773822e-02,  -4.85251009e-01,   1.79417491e-01, ...,\n",
       "            2.67579883e-01,   7.36579001e-02,   1.49158001e-01],\n",
       "         [  2.50267684e-02,   4.67152148e-02,   1.23528898e-01, ...,\n",
       "            2.84035683e-01,   7.66979814e-01,   4.72141653e-02],\n",
       "         [  1.69568002e-01,   4.48975116e-02,   5.04593998e-02, ...,\n",
       "            1.80962577e-01,  -1.05249453e+00,   2.47868970e-01],\n",
       "         [ -2.63426788e-02,  -7.14418590e-02,   1.30894676e-01, ...,\n",
       "            3.79562080e-02,  -9.17540371e-01,   1.44166619e-01]],\n",
       "\n",
       "        [[  7.30555803e-02,  -5.04272759e-01,   2.39602923e-02, ...,\n",
       "           -2.10197553e-01,  -1.13389182e+00,   1.75138414e-01],\n",
       "         [ -3.69523585e-01,  -1.47097319e-01,   1.66145265e-01, ...,\n",
       "           -6.27108693e-01,  -1.00036383e+00,   2.00412691e-01],\n",
       "         [  2.79676378e-01,  -5.63812032e-02,   7.90150762e-02, ...,\n",
       "            5.10654598e-02,   6.00484848e-01,   2.55300641e-01],\n",
       "         [ -2.83826943e-02,  -7.94464231e-01,  -1.07072592e-02, ...,\n",
       "            1.39595658e-01,   8.14633667e-01,  -4.31012213e-02],\n",
       "         [  4.69379872e-02,  -2.18516976e-01,   6.24235272e-02, ...,\n",
       "            1.93718702e-01,  -8.19579720e-01,   2.77801543e-01],\n",
       "         [  7.57222576e-03,   1.95961595e-01,   1.00901008e-01, ...,\n",
       "           -4.31423336e-02,  -1.07230830e+00,   1.00230038e-01]],\n",
       "\n",
       "        [[  3.00944418e-01,  -2.92212844e-01,   1.03821874e-01, ...,\n",
       "            1.24440596e-01,  -8.74179363e-01,   1.62657201e-01],\n",
       "         [ -3.43431830e-01,  -1.79219171e-01,   8.34288597e-02, ...,\n",
       "           -4.15454626e-01,  -2.57942855e-01,   1.59262627e-01],\n",
       "         [  2.95174420e-01,   5.80209792e-01,   1.01627111e-02, ...,\n",
       "            1.80900693e-02,   9.75379407e-01,   2.59939909e-01],\n",
       "         [  2.78092563e-01,  -2.79663712e-01,   2.38057375e-02, ...,\n",
       "            2.08696127e-01,   9.20440555e-01,  -7.05864727e-02],\n",
       "         [  7.57442862e-02,   4.34802249e-02,  -5.74935675e-02, ...,\n",
       "            1.82965517e-01,  -1.10178739e-01,   2.15323731e-01],\n",
       "         [ -6.25787601e-02,   4.98398989e-02,  -2.10084915e-02, ...,\n",
       "            8.30543041e-03,   9.28111374e-02,  -1.89538151e-02]],\n",
       "\n",
       "        [[ -4.29490060e-01,  -1.79412588e-01,   7.88248181e-02, ...,\n",
       "           -2.08391175e-02,  -9.04828787e-01,   1.13101870e-01],\n",
       "         [  4.37972285e-02,   2.54801750e-01,   1.41992539e-01, ...,\n",
       "           -4.32833910e-01,  -2.15513647e-01,   1.92935824e-01],\n",
       "         [ -2.14172062e-02,   6.47103846e-01,  -4.13306952e-02, ...,\n",
       "           -4.56876695e-01,   1.33663619e+00,   7.56802082e-01],\n",
       "         [ -1.24235898e-01,   2.55282551e-01,  -2.66024470e-02, ...,\n",
       "            2.36553401e-01,   7.88393974e-01,   3.30878466e-01],\n",
       "         [  5.74974865e-02,   1.49760276e-01,   7.39455819e-02, ...,\n",
       "            1.97208777e-01,   6.53658360e-02,   4.36826855e-01],\n",
       "         [  2.13252604e-02,  -2.62613773e-01,   6.10607564e-02, ...,\n",
       "           -1.82336122e-02,   4.37754512e-01,   3.89910012e-01]],\n",
       "\n",
       "        [[ -3.00920695e-01,  -4.63633239e-02,   1.20589316e-01, ...,\n",
       "           -9.82713699e-03,   6.32800043e-01,   1.86118588e-01],\n",
       "         [ -1.13090590e-01,   2.47659504e-01,   1.01920813e-01, ...,\n",
       "           -9.75425690e-02,   1.06853831e+00,   4.69533145e-01],\n",
       "         [  1.20023936e-01,   1.56370297e-01,   6.76393509e-03, ...,\n",
       "            3.65068167e-02,   5.18025577e-01,   1.05292606e+00],\n",
       "         [  2.57379323e-01,   1.13546580e-01,   7.88328052e-03, ...,\n",
       "            2.45461404e-01,   2.28255734e-01,   2.28833765e-01],\n",
       "         [ -3.14069726e-02,  -2.39691854e-01,   1.58371150e-01, ...,\n",
       "            2.17500806e-01,  -1.35425121e-01,   2.27613375e-01],\n",
       "         [ -6.72250837e-02,  -5.50422788e-01,   1.82177991e-01, ...,\n",
       "            5.57168424e-02,  -9.54123318e-01,   4.40314382e-01]]],\n",
       "\n",
       "\n",
       "       ..., \n",
       "       [[[ -9.40474421e-02,   0.00000000e+00,   1.66110843e-02, ...,\n",
       "            0.00000000e+00,  -1.41473711e-01,   1.07017420e-01],\n",
       "         [ -1.25705227e-01,   0.00000000e+00,  -1.34119511e-01, ...,\n",
       "            0.00000000e+00,  -3.61881256e-02,  -3.17629546e-01],\n",
       "         [  0.00000000e+00,   2.43436158e-01,   0.00000000e+00, ...,\n",
       "            0.00000000e+00,   0.00000000e+00,  -6.50255263e-01],\n",
       "         [ -1.98002607e-02,   1.14413887e-01,  -2.59356976e-01, ...,\n",
       "            1.84625536e-01,   0.00000000e+00,   8.00649524e-01],\n",
       "         [ -3.05646658e-03,   2.40959674e-01,   4.96359825e-01, ...,\n",
       "            4.23553288e-01,  -5.06091893e-01,   0.00000000e+00],\n",
       "         [ -4.83748168e-02,   0.00000000e+00,   8.23450923e-01, ...,\n",
       "            5.20660281e-01,  -4.40969288e-01,   0.00000000e+00]],\n",
       "\n",
       "        [[  0.00000000e+00,   0.00000000e+00,  -1.51439577e-01, ...,\n",
       "            0.00000000e+00,   0.00000000e+00,   0.00000000e+00],\n",
       "         [  0.00000000e+00,   0.00000000e+00,   0.00000000e+00, ...,\n",
       "           -2.94285834e-01,   0.00000000e+00,   0.00000000e+00],\n",
       "         [  4.71576899e-02,  -1.07173353e-01,   0.00000000e+00, ...,\n",
       "            0.00000000e+00,  -2.27691829e-02,  -1.96704820e-01],\n",
       "         [  0.00000000e+00,  -1.90713316e-01,   0.00000000e+00, ...,\n",
       "           -5.80481827e-01,  -5.25847226e-02,   0.00000000e+00],\n",
       "         [  0.00000000e+00,  -2.26371527e-01,   2.72439897e-01, ...,\n",
       "           -4.66231555e-01,  -2.89588600e-01,  -1.02960348e+00],\n",
       "         [ -7.59144314e-03,  -2.26325780e-01,   1.56697243e-01, ...,\n",
       "            0.00000000e+00,   0.00000000e+00,  -1.38234234e+00]],\n",
       "\n",
       "        [[  0.00000000e+00,   0.00000000e+00,  -3.99608791e-01, ...,\n",
       "            0.00000000e+00,   7.41250068e-02,  -2.56219089e-01],\n",
       "         [ -2.85350829e-02,  -2.93663621e-01,   2.92159766e-01, ...,\n",
       "            0.00000000e+00,   5.24522513e-02,   5.82533181e-01],\n",
       "         [ -5.71625680e-03,   0.00000000e+00,   0.00000000e+00, ...,\n",
       "            0.00000000e+00,   5.26534766e-02,   0.00000000e+00],\n",
       "         [  0.00000000e+00,  -1.57681346e-01,   0.00000000e+00, ...,\n",
       "            3.73813137e-02,   0.00000000e+00,   0.00000000e+00],\n",
       "         [  0.00000000e+00,  -2.79675633e-01,  -6.37061656e-01, ...,\n",
       "            5.16969681e-01,  -2.36125588e-02,  -8.85528684e-01],\n",
       "         [  0.00000000e+00,  -4.21146959e-01,  -8.25722277e-01, ...,\n",
       "           -2.07162499e-01,   0.00000000e+00,  -7.54755199e-01]],\n",
       "\n",
       "        [[ -1.51867628e-01,   0.00000000e+00,   0.00000000e+00, ...,\n",
       "            0.00000000e+00,   1.00921199e-01,  -5.56691289e-01],\n",
       "         [ -1.80421665e-01,   0.00000000e+00,   0.00000000e+00, ...,\n",
       "            0.00000000e+00,   0.00000000e+00,   1.57563746e+00],\n",
       "         [ -9.15185064e-02,   0.00000000e+00,  -2.31363773e-01, ...,\n",
       "            3.23970109e-01,   0.00000000e+00,   0.00000000e+00],\n",
       "         [  0.00000000e+00,   7.03449488e-01,  -3.56118441e-01, ...,\n",
       "            1.03700244e+00,   0.00000000e+00,  -3.69852155e-01],\n",
       "         [  0.00000000e+00,   0.00000000e+00,  -2.17317373e-01, ...,\n",
       "            8.14894319e-01,   2.85395682e-01,   0.00000000e+00],\n",
       "         [ -5.96153960e-02,   0.00000000e+00,   0.00000000e+00, ...,\n",
       "            0.00000000e+00,  -4.10242826e-01,  -7.94021010e-01]],\n",
       "\n",
       "        [[ -5.92120215e-02,   0.00000000e+00,  -1.91094428e-02, ...,\n",
       "            1.88653678e-01,   8.95155892e-02,  -9.74674225e-01],\n",
       "         [  0.00000000e+00,   4.27368358e-02,   4.24917042e-03, ...,\n",
       "            9.47446227e-02,   8.35198313e-02,   0.00000000e+00],\n",
       "         [ -7.97085166e-02,   0.00000000e+00,   0.00000000e+00, ...,\n",
       "            1.21847302e-01,   0.00000000e+00,  -3.86043251e-01],\n",
       "         [ -1.69543371e-01,  -2.86170468e-02,  -7.73404837e-02, ...,\n",
       "            1.33773756e+00,   0.00000000e+00,   9.87322479e-02],\n",
       "         [ -1.01387963e-01,  -6.16264250e-03,   0.00000000e+00, ...,\n",
       "            6.01698518e-01,   2.77864218e-01,   0.00000000e+00],\n",
       "         [  0.00000000e+00,  -5.13249412e-02,   0.00000000e+00, ...,\n",
       "           -3.68900485e-02,   2.64988244e-01,   0.00000000e+00]],\n",
       "\n",
       "        [[  0.00000000e+00,   0.00000000e+00,   0.00000000e+00, ...,\n",
       "            0.00000000e+00,   0.00000000e+00,  -1.12853587e+00],\n",
       "         [  0.00000000e+00,   8.66276324e-02,  -6.98431730e-02, ...,\n",
       "            9.26194310e-01,   0.00000000e+00,   7.07695723e-01],\n",
       "         [ -1.18509188e-01,   4.96083796e-02,   0.00000000e+00, ...,\n",
       "            0.00000000e+00,   0.00000000e+00,   0.00000000e+00],\n",
       "         [ -5.79675883e-02,   4.41548377e-02,   0.00000000e+00, ...,\n",
       "           -5.33740297e-02,   2.08417475e-02,   0.00000000e+00],\n",
       "         [ -1.63569987e-01,   1.04600981e-01,   8.99398476e-02, ...,\n",
       "            0.00000000e+00,  -1.31209195e-01,   8.33177865e-01],\n",
       "         [ -2.23694682e-01,   1.00058571e-01,   5.69596514e-02, ...,\n",
       "           -3.35636765e-01,   3.26748103e-01,   0.00000000e+00]]],\n",
       "\n",
       "\n",
       "       [[[ -3.71288508e-02,   3.43767136e-01,   6.31813526e-01, ...,\n",
       "           -2.09535837e-01,   4.23459411e-02,   4.51414436e-01],\n",
       "         [ -6.69346750e-02,   2.93575257e-01,  -3.56018066e-01, ...,\n",
       "            7.24662900e-01,   3.61149609e-02,   1.29787147e-01],\n",
       "         [ -6.93604052e-02,   1.49267942e-01,  -1.76970184e+00, ...,\n",
       "            1.30416900e-01,   1.34881884e-01,  -5.18200278e-01],\n",
       "         [  2.49234438e-02,  -1.51198149e-01,  -9.99953747e-01, ...,\n",
       "            5.07904947e-01,   2.77971327e-02,   7.46154130e-01],\n",
       "         [  3.78981233e-02,   3.62715721e-02,  -1.74524188e-01, ...,\n",
       "            5.48248231e-01,   1.01473771e-01,  -8.88942719e-01],\n",
       "         [ -1.27792358e-02,  -9.03952122e-02,   1.59874320e-01, ...,\n",
       "            5.23768067e-01,   1.03626087e-01,  -6.15081131e-01]],\n",
       "\n",
       "        [[  1.65702403e-01,   2.45863318e-01,   5.23937762e-01, ...,\n",
       "           -1.11563730e+00,  -9.70587134e-04,   2.79039472e-01],\n",
       "         [  1.23797566e-01,   6.17650151e-02,  -2.48736709e-01, ...,\n",
       "           -5.18447578e-01,  -1.80648118e-02,   5.35345972e-01],\n",
       "         [  7.21471310e-02,  -1.01787388e-01,  -1.34078717e+00, ...,\n",
       "            4.37270939e-01,   6.76076859e-02,  -1.62575319e-01],\n",
       "         [  7.65121728e-03,  -5.05307734e-01,   1.07017264e-01, ...,\n",
       "           -6.95144571e-03,   1.78385258e-01,  -1.23937011e+00],\n",
       "         [  4.93981726e-02,  -4.49730873e-01,   5.54219544e-01, ...,\n",
       "            8.70024711e-02,   1.43762633e-01,  -8.95158708e-01],\n",
       "         [  1.93066560e-02,  -2.25205958e-01,   5.87132335e-01, ...,\n",
       "           -1.26276523e-01,  -8.87072682e-02,  -8.57000828e-01]],\n",
       "\n",
       "        [[  1.28945075e-02,  -3.39953482e-01,   1.51871309e-01, ...,\n",
       "            7.21665695e-02,  -8.75952840e-02,   1.83313992e-03],\n",
       "         [  3.15035321e-02,  -2.46320248e-01,   3.08962077e-01, ...,\n",
       "           -1.51721692e+00,  -7.50987232e-02,   8.75031412e-01],\n",
       "         [ -2.40074843e-02,  -2.18098000e-01,   4.36377615e-01, ...,\n",
       "            4.98358548e-01,  -2.73597538e-02,  -6.75352633e-01],\n",
       "         [ -6.37059584e-02,  -3.00719798e-01,   5.71306109e-01, ...,\n",
       "           -1.95370942e-01,   5.33851981e-02,  -9.13372487e-02],\n",
       "         [ -2.06818227e-02,  -2.89924830e-01,   2.68936932e-01, ...,\n",
       "            2.18657494e-01,   5.02628386e-02,  -8.04877818e-01],\n",
       "         [ -5.35330288e-02,  -8.70197415e-02,   2.07582697e-01, ...,\n",
       "            2.63319135e-01,  -4.88878042e-01,  -4.94100481e-01]],\n",
       "\n",
       "        [[ -5.15570119e-02,   3.93664986e-01,   1.35365382e-01, ...,\n",
       "            6.49338245e-01,  -1.93397731e-01,  -7.81376898e-01],\n",
       "         [ -1.13228098e-01,   5.08948684e-01,   8.73595476e-02, ...,\n",
       "            9.68410254e-01,  -1.32311568e-01,   1.36559379e+00],\n",
       "         [ -5.92012741e-02,   5.85987091e-01,   3.41243148e-02, ...,\n",
       "            8.01498234e-01,  -9.52356160e-02,  -5.83729625e-01],\n",
       "         [ -6.56835586e-02,   6.53856874e-01,   1.30435735e-01, ...,\n",
       "           -1.40130103e+00,  -4.23864871e-02,  -3.68437827e-01],\n",
       "         [ -3.50400805e-02,   8.93143296e-01,   1.89741656e-01, ...,\n",
       "           -7.25769460e-01,   1.22433580e-01,  -4.06600147e-01],\n",
       "         [ -9.73932259e-03,   1.12768924e+00,   6.63045421e-02, ...,\n",
       "            4.17861193e-01,  -1.42757922e-01,  -1.19884111e-01]],\n",
       "\n",
       "        [[  1.22521417e-02,   1.03583604e-01,   1.28681034e-01, ...,\n",
       "            3.01500529e-01,  -1.28943786e-01,  -8.85128200e-01],\n",
       "         [ -4.37904075e-02,   9.37100351e-02,   1.49604291e-01, ...,\n",
       "            1.48673400e-01,  -1.22161478e-01,   2.16382742e+00],\n",
       "         [  2.48716660e-02,   1.16509497e-02,   2.17797115e-01, ...,\n",
       "            6.67798638e-01,  -6.97098970e-02,  -5.72135568e-01],\n",
       "         [ -4.48277779e-02,  -1.71000659e-02,   2.84861565e-01, ...,\n",
       "           -1.27623725e+00,  -1.82294101e-02,  -2.64252841e-01],\n",
       "         [  6.22948259e-02,   1.64298415e-02,   2.11441919e-01, ...,\n",
       "           -4.45687175e-01,   2.62848735e-02,  -2.57207960e-01],\n",
       "         [  1.50828306e-02,   5.60141802e-02,  -6.56735152e-03, ...,\n",
       "            1.04321933e+00,   3.64014834e-01,  -1.33105934e+00]],\n",
       "\n",
       "        [[ -3.21851373e-02,   1.18428543e-01,   1.44319534e-01, ...,\n",
       "            1.12594450e+00,  -8.59866291e-02,  -1.07220244e+00],\n",
       "         [ -7.76504651e-02,   1.55186132e-01,   1.65034771e-01, ...,\n",
       "            9.54031825e-01,  -3.47563624e-03,   3.14986438e-01],\n",
       "         [ -2.82787792e-02,   1.15200013e-01,   1.68508649e-01, ...,\n",
       "            3.25457931e-01,   8.08492303e-03,   1.44281065e+00],\n",
       "         [  4.46487777e-02,   1.04078844e-01,   2.88152158e-01, ...,\n",
       "           -8.35458040e-01,  -6.39799237e-02,  -9.67461407e-01],\n",
       "         [  3.34868804e-02,   1.36512175e-01,   2.61907876e-01, ...,\n",
       "           -4.83893335e-01,  -2.43238315e-01,   6.51820540e-01],\n",
       "         [ -9.36319157e-02,   7.46987462e-02,   2.06002042e-01, ...,\n",
       "            7.86723197e-02,   4.12693590e-01,  -1.70201087e+00]]],\n",
       "\n",
       "\n",
       "       [[[ -7.53286481e-02,   6.15471780e-01,   4.93503869e-01, ...,\n",
       "           -3.12140077e-01,   5.17490804e-02,   6.39440954e-01],\n",
       "         [ -8.67644250e-02,   4.26714242e-01,  -1.48603588e-01, ...,\n",
       "            5.13766229e-01,   3.42176914e-01,   4.23017204e-01],\n",
       "         [ -7.67622590e-02,   2.36715019e-01,  -1.57183087e+00, ...,\n",
       "           -7.68711492e-02,   4.13759291e-01,  -4.91547734e-01],\n",
       "         [ -1.06014907e-02,   9.66516882e-02,  -1.16056812e+00, ...,\n",
       "            6.95071459e-01,  -1.22001678e-01,   8.96716237e-01],\n",
       "         [  9.00626183e-05,  -6.11892156e-03,  -2.89113671e-01, ...,\n",
       "            6.87990308e-01,  -4.95749265e-01,  -5.00624597e-01],\n",
       "         [ -6.00250959e-02,  -4.15600836e-01,   8.97193104e-02, ...,\n",
       "            6.65592194e-01,  -4.33322370e-01,   8.02064836e-02]],\n",
       "\n",
       "        [[  7.81252384e-02,   2.59948254e-01,   4.89110053e-01, ...,\n",
       "           -1.36780632e+00,   8.89595747e-02,   8.17962229e-01],\n",
       "         [  7.96834230e-02,  -1.04435325e-01,   3.07874456e-02, ...,\n",
       "           -6.03412628e-01,   3.07386756e-01,   1.00049329e+00],\n",
       "         [  4.03090119e-02,  -2.40756392e-01,  -1.01472390e+00, ...,\n",
       "            5.51439703e-01,   3.65957499e-01,  -1.63910627e-01],\n",
       "         [ -3.17108333e-02,  -3.84840608e-01,   1.28594220e-01, ...,\n",
       "            4.98424202e-01,   1.21032588e-01,  -1.13198519e+00],\n",
       "         [ -4.01455164e-02,  -4.78255361e-01,   5.62190890e-01, ...,\n",
       "            4.53545541e-01,  -2.72736669e-01,  -5.35035431e-01],\n",
       "         [ -1.61544085e-02,  -4.16893959e-01,   5.59024036e-01, ...,\n",
       "            1.85258165e-01,  -4.55268264e-01,  -4.57576960e-02]],\n",
       "\n",
       "        [[ -4.08912301e-02,  -3.79963279e-01,   2.14978576e-01, ...,\n",
       "            1.28954649e-04,   1.95935339e-01,   5.50945941e-03],\n",
       "         [  2.00337768e-02,  -2.95829475e-01,   5.18079817e-01, ...,\n",
       "           -1.51389349e+00,   1.77851260e-01,   1.22361290e+00],\n",
       "         [ -4.25901264e-02,  -1.94436431e-01,   7.81628370e-01, ...,\n",
       "            6.67905807e-01,   1.73639879e-01,  -9.23668146e-01],\n",
       "         [ -8.24397355e-02,  -1.51707798e-01,   7.76914775e-01, ...,\n",
       "           -1.15441263e-01,   2.53267735e-01,  -1.97575286e-01],\n",
       "         [ -5.16255498e-02,  -5.56337833e-02,   4.43010807e-01, ...,\n",
       "            5.09661019e-01,   1.83294088e-01,  -5.63426971e-01],\n",
       "         [ -8.65299702e-02,   4.65793014e-02,   3.78977001e-01, ...,\n",
       "            6.66570544e-01,  -6.68956161e-01,   1.16596343e-02]],\n",
       "\n",
       "        [[ -1.02214545e-01,   4.31307554e-01,   2.72516489e-01, ...,\n",
       "            8.53910983e-01,   1.23927541e-01,  -8.68247211e-01],\n",
       "         [ -1.06703103e-01,   5.33877015e-01,   2.01338917e-01, ...,\n",
       "            1.28791380e+00,   1.58627182e-01,   1.49189126e+00],\n",
       "         [ -5.03628850e-02,   6.80885792e-01,   1.87911257e-01, ...,\n",
       "            1.26151299e+00,   1.49041250e-01,  -4.71321553e-01],\n",
       "         [ -5.19660115e-02,   8.23269963e-01,   2.74226367e-01, ...,\n",
       "           -2.13648558e+00,   2.53101557e-01,  -4.75612909e-01],\n",
       "         [ -7.54815340e-02,   1.12550795e+00,   2.78841853e-01, ...,\n",
       "           -2.27106476e+00,   6.38270676e-01,  -7.04320073e-01],\n",
       "         [ -9.48143005e-03,   1.33214700e+00,   2.29197949e-01, ...,\n",
       "            9.34897542e-01,  -7.95378536e-02,   2.11926196e-02]],\n",
       "\n",
       "        [[ -2.38839090e-02,   2.05129147e-01,   2.17232361e-01, ...,\n",
       "            6.74550593e-01,   1.97878629e-02,  -7.72672832e-01],\n",
       "         [ -6.64559305e-02,   1.81103468e-01,   2.37888634e-01, ...,\n",
       "            7.63858736e-01,   1.22183539e-01,   2.21427846e+00],\n",
       "         [  1.28671527e-03,   1.73176169e-01,   2.81955391e-01, ...,\n",
       "            9.78506267e-01,   1.94508284e-01,  -4.09197658e-01],\n",
       "         [ -8.29202533e-02,   1.68263316e-01,   2.21388713e-01, ...,\n",
       "           -1.71159911e+00,   3.08643371e-01,  -4.77002859e-01],\n",
       "         [  3.50986123e-02,   1.99545741e-01,   2.16450736e-01, ...,\n",
       "           -1.46835566e+00,   5.53984523e-01,  -1.59064472e-01],\n",
       "         [  2.97793150e-02,   2.25746512e-01,   7.71718770e-02, ...,\n",
       "            1.49466145e+00,   8.69094968e-01,  -5.07781029e-01]],\n",
       "\n",
       "        [[ -4.44564223e-02,   2.05530941e-01,   2.12107882e-01, ...,\n",
       "            1.25659800e+00,   5.42408824e-02,  -9.36356306e-01],\n",
       "         [ -8.53838325e-02,   2.43360937e-01,   2.59366333e-01, ...,\n",
       "            1.09602022e+00,   1.77746803e-01,  -4.35415506e-01],\n",
       "         [ -3.46614718e-02,   2.21577406e-01,   1.76793128e-01, ...,\n",
       "            4.86367673e-01,   1.56395078e-01,   1.42513990e+00],\n",
       "         [  1.91310048e-02,   1.26697302e-01,   2.21374556e-01, ...,\n",
       "           -8.63361955e-01,   1.83970645e-01,  -1.41352904e+00],\n",
       "         [ -5.12422621e-02,   1.61937356e-01,   2.40883827e-01, ...,\n",
       "           -6.40255213e-02,   2.35268608e-01,   3.48071575e-01],\n",
       "         [ -1.07309580e-01,   2.33341515e-01,   2.33216479e-01, ...,\n",
       "            2.62835264e-01,   9.85539496e-01,  -1.55758548e+00]]]], dtype=float32)"
      ]
     },
     "execution_count": 53,
     "metadata": {},
     "output_type": "execute_result"
    }
   ],
   "source": [
    "filters"
   ]
  },
  {
   "cell_type": "code",
   "execution_count": 17,
   "metadata": {
    "collapsed": false
   },
   "outputs": [],
   "source": [
    "XFinal = Xlevel1\n",
    "XFinalTrain = XFinal[:50000,:,:,:].reshape(NUM_TRAIN,-1)\n",
    "XFinalTest = XFinal[50000:,:,:,:].reshape(NUM_TEST,-1)"
   ]
  },
  {
   "cell_type": "code",
   "execution_count": 310,
   "metadata": {
    "collapsed": false
   },
   "outputs": [
    {
     "name": "stdout",
     "output_type": "stream",
     "text": [
      "X SHAPE  (50000, 8192)\n",
      "Computing XTX\n",
      "Done Computing XTX\n",
      "REG is 100\n",
      "Learning Primal Model\n",
      "CONFUSION MATRIX\n",
      "[[751  37  38  13  11   5  12  14  88  31]\n",
      " [ 21 821  13  10   6   8  14   4  31  72]\n",
      " [ 63  19 540  50  74  70  92  53  24  15]\n",
      " [ 28  31  58 500  54 170  71  31  19  38]\n",
      " [ 34   8  44  50 606  33  93  92  21  19]\n",
      " [ 15   6  46 133  37 648  43  43  13  16]\n",
      " [ 13  15  39  39  28  18 831   6   7   4]\n",
      " [ 10  13  31  39  47  72  17 730  12  29]\n",
      " [ 48  43  12  12   3   9   6   3 828  36]\n",
      " [ 32  86   7  10   8   7  12   8  36 794]]\n"
     ]
    },
    {
     "data": {
      "text/plain": [
       "(0.81813999999999998, 0.70489999999999997)"
      ]
     },
     "execution_count": 310,
     "metadata": {},
     "output_type": "execute_result"
    }
   ],
   "source": [
    "trainAndEvaluatePrimalModel(XFinalTrain, XFinalTest, labelsTrain, labelsTest, reg=100)"
   ]
  },
  {
   "cell_type": "code",
   "execution_count": null,
   "metadata": {
    "collapsed": false
   },
   "outputs": [],
   "source": [
    "nearest_neighbors(XFinalTrain, XFinalTest, labelsTrain, labelsTest)"
   ]
  },
  {
   "cell_type": "code",
   "execution_count": 302,
   "metadata": {
    "collapsed": true
   },
   "outputs": [],
   "source": [
    "XFinal = Xlevel1\n",
    "XFinalTrain = XFinal[:50000,:,:,:].reshape(NUM_TRAIN,-1)\n",
    "XFinalTest = XFinal[50000:,:,:,:].reshape(NUM_TEST,-1)"
   ]
  },
  {
   "cell_type": "code",
   "execution_count": 306,
   "metadata": {
    "collapsed": false
   },
   "outputs": [],
   "source": [
    "v = np.var(XFinalTrain)"
   ]
  },
  {
   "cell_type": "code",
   "execution_count": 307,
   "metadata": {
    "collapsed": false
   },
   "outputs": [
    {
     "data": {
      "text/plain": [
       "1.0000005"
      ]
     },
     "execution_count": 307,
     "metadata": {},
     "output_type": "execute_result"
    }
   ],
   "source": [
    "np.var(XFinalTrain/np.sqrt(v))"
   ]
  },
  {
   "cell_type": "code",
   "execution_count": null,
   "metadata": {
    "collapsed": true
   },
   "outputs": [],
   "source": [
    "predTrain = neigh.predict(XFinalTrain)"
   ]
  },
  {
   "cell_type": "code",
   "execution_count": null,
   "metadata": {
    "collapsed": true
   },
   "outputs": [],
   "source": [
    "predTest = neigh.predict(XFinalTest)"
   ]
  },
  {
   "cell_type": "code",
   "execution_count": 16,
   "metadata": {
    "collapsed": true
   },
   "outputs": [],
   "source": [
    "XFinal"
   ]
  },
  {
   "cell_type": "code",
   "execution_count": null,
   "metadata": {
    "collapsed": true
   },
   "outputs": [],
   "source": [
    "a = 4"
   ]
  },
  {
   "cell_type": "code",
   "execution_count": 14,
   "metadata": {
    "collapsed": false
   },
   "outputs": [],
   "source": [
    "def nearest_neighbor_mt(XTrain, XTest, YTrain):\n",
    "        length = XTrain.shape[0]\n",
    "        args = (result,) + args        \n",
    "        chunklen = (length + 1) // numthreads\n",
    "        distances = np.zeros(numthreads, 2)\n",
    "        train_pieces = [XTrain[i * chunklen:(i + 1) * chunklen] for i in range(numthreads)] \n",
    "        # You should make sure inner_func is compiled at this point, because\n",
    "        # the compilation must happen on the main thread. This is the case\n",
    "        # in this example because we use jit().\n",
    "        threads = [threading.Thread(target=nearest_test_pt, args=(results[i], train_pieces))\n",
    "                 for (i,chunk) in enumerate(chunks)]\n",
    "        for thread in threads:\n",
    "            thread.start()\n",
    "        for thread in threads:\n",
    "            thread.join()\n",
    "        np.argmin(results)\n",
    "        return result\n",
    " \n",
    "def nearest_test_pt(distances, train_chunk, XTest):\n",
    "    threadstate = savethread()\n",
    "    test_sq = np.dot(test, test)\n",
    "    for j in range(XTest.shape[0]):\n",
    "        test = XTest[j]\n",
    "        test_sq = np.dot(test, test)\n",
    "        for i in range(len(distances)):\n",
    "            distances[j,i] = np.dot(train[i],train[i]) - np.dot(train[i], test) + test_sq \n",
    "    restorethread(threadstate)"
   ]
  },
  {
   "cell_type": "code",
   "execution_count": 16,
   "metadata": {
    "collapsed": false
   },
   "outputs": [
    {
     "data": {
      "text/plain": [
       "array([[[[ -5.10418832e-01,  -1.01881993e+00,  -9.80770111e-01, ...,\n",
       "            4.35284883e-01,   3.80423725e-01,   3.36174905e-01],\n",
       "         [ -1.54031408e+00,  -1.76911223e+00,  -1.38737571e+00, ...,\n",
       "           -2.19702348e-02,   5.17911911e-02,   3.91262650e-01],\n",
       "         [ -1.03158832e+00,  -1.17598438e+00,  -4.64248747e-01, ...,\n",
       "           -1.01428725e-01,   3.60241950e-01,   1.24517724e-01],\n",
       "         ..., \n",
       "         [  5.42089581e-01,   9.48075712e-01,   8.21981907e-01, ...,\n",
       "            1.09862840e+00,  -1.94312882e+00,  -1.17045438e+00],\n",
       "         [ -3.03322822e-01,  -2.62524784e-02,   4.93870586e-01, ...,\n",
       "            2.04208612e+00,  -8.28551054e-01,  -5.97108960e-01],\n",
       "         [ -5.56365848e-01,  -6.62063479e-01,  -3.15669805e-01, ...,\n",
       "            2.41413355e+00,   2.46650010e-01,  -2.15903595e-01]],\n",
       "\n",
       "        [[  2.85353452e-01,  -9.17974561e-02,  -1.77091539e-01, ...,\n",
       "            4.87997353e-01,   3.14463258e-01,   3.14590663e-01],\n",
       "         [ -5.89557648e-01,  -8.74870062e-01,  -8.47093821e-01, ...,\n",
       "           -2.57161677e-01,  -3.20523441e-01,  -9.80960652e-02],\n",
       "         [ -2.74671853e-01,  -6.23533547e-01,  -3.64576846e-01, ...,\n",
       "           -2.10367203e-01,   4.67290133e-02,  -3.35072696e-01],\n",
       "         ..., \n",
       "         [  7.36091137e-01,   8.16237569e-01,   1.36694813e+00, ...,\n",
       "            1.28815913e+00,  -1.73276258e+00,  -7.81707823e-01],\n",
       "         [ -4.81409073e-01,  -4.62801367e-01,   6.27638817e-01, ...,\n",
       "            1.70441329e+00,  -1.17894828e+00,  -7.90712476e-01],\n",
       "         [ -5.23986936e-01,  -7.63401508e-01,  -1.90154314e-01, ...,\n",
       "            2.19898176e+00,  -9.09105539e-02,  -5.51240325e-01]],\n",
       "\n",
       "        [[  9.86248493e-01,   5.95853746e-01,   4.18346226e-01, ...,\n",
       "            7.04680502e-01,   5.49947977e-01,   5.44226825e-01],\n",
       "         [  1.57265574e-01,   7.37403110e-02,  -1.40231445e-01, ...,\n",
       "           -3.15658987e-01,  -4.41163540e-01,  -2.41475895e-01],\n",
       "         [  4.59299862e-01,   6.78419322e-02,  -1.20830834e-01, ...,\n",
       "           -1.97726816e-01,  -1.70680806e-02,  -4.85338658e-01],\n",
       "         ..., \n",
       "         [  6.73651040e-01,  -1.36719787e+00,  -1.49027562e+00, ...,\n",
       "            2.06906289e-01,  -8.25295687e-01,   3.62417698e-01],\n",
       "         [  9.75035191e-01,  -7.74968147e-01,  -1.28321135e+00, ...,\n",
       "            9.97179985e-01,  -5.60765922e-01,   6.91803694e-02],\n",
       "         [  1.34533274e+00,   1.02029586e+00,   7.41401672e-01, ...,\n",
       "            1.83300197e+00,   1.03149712e-02,   2.23481268e-01]]],\n",
       "\n",
       "\n",
       "       [[[  2.41503432e-01,  -2.43495464e-01,  -2.39380851e-01, ...,\n",
       "            1.19366772e-01,   2.18293577e-01,  -1.54988393e-01],\n",
       "         [ -4.53386158e-01,   4.30153698e-01,   2.71135986e-01, ...,\n",
       "            3.23921025e-01,  -1.70183450e-01,  -2.82126158e-01],\n",
       "         [ -1.73760623e-01,   1.76364347e-01,  -4.25172746e-01, ...,\n",
       "           -1.62705064e-01,  -3.00760686e-01,  -2.57867098e-01],\n",
       "         ..., \n",
       "         [  6.37033463e-01,  -5.33399880e-02,   9.61138904e-02, ...,\n",
       "           -6.46393478e-01,  -6.16958916e-01,  -1.36906251e-01],\n",
       "         [  4.26630497e-01,   1.41284108e-01,   4.05099243e-01, ...,\n",
       "            4.75576818e-01,   7.40136623e-01,   5.49567640e-01],\n",
       "         [  8.81825209e-01,   7.46221423e-01,   1.11622834e+00, ...,\n",
       "            7.76115775e-01,   5.29292345e-01,   2.98846662e-01]],\n",
       "\n",
       "        [[  9.90581274e-01,  -7.05997124e-02,  -6.37515426e-01, ...,\n",
       "            1.81155160e-01,   1.93292618e-01,  -2.36090109e-01],\n",
       "         [  1.18347548e-01,   4.17367607e-01,  -1.00073762e-01, ...,\n",
       "            3.05037886e-01,  -2.38033846e-01,  -3.70917559e-01],\n",
       "         [  1.77140698e-01,   1.25531286e-01,  -7.95849025e-01, ...,\n",
       "           -1.31316066e-01,  -3.78963977e-01,  -3.33521485e-01],\n",
       "         ..., \n",
       "         [  4.49785054e-01,  -4.45665121e-02,   4.95446324e-01, ...,\n",
       "           -9.20551896e-01,  -8.57229114e-01,  -4.26149249e-01],\n",
       "         [  1.77464962e-01,   1.74621880e-01,   6.56654716e-01, ...,\n",
       "            1.60641328e-01,   4.86926973e-01,   2.55156398e-01],\n",
       "         [  4.81479764e-01,   5.59352160e-01,   1.01854992e+00, ...,\n",
       "            4.56976235e-01,   2.59075522e-01,   3.97115946e-03]],\n",
       "\n",
       "        [[  1.29922318e+00,  -2.81221598e-01,  -1.22682881e+00, ...,\n",
       "           -4.84847933e-01,  -1.98611885e-01,  -1.95411459e-01],\n",
       "         [  3.48292738e-01,   2.60455340e-01,  -6.19461656e-01, ...,\n",
       "           -1.13058314e-01,  -5.02524257e-01,  -3.25843602e-01],\n",
       "         [  4.13341939e-01,   4.34342623e-02,  -1.13719988e+00, ...,\n",
       "           -3.83626610e-01,  -4.48433101e-01,  -3.69313508e-01],\n",
       "         ..., \n",
       "         [  3.88390183e-01,   1.91957951e-01,   8.75954747e-01, ...,\n",
       "           -1.12060654e+00,  -9.16683257e-01,  -1.64717615e-01],\n",
       "         [ -9.62583005e-01,  -7.62565494e-01,  -1.54424250e-01, ...,\n",
       "            7.65610337e-02,   5.91111064e-01,   6.56757891e-01],\n",
       "         [ -5.66044450e-01,  -3.22871357e-01,   2.39483953e-01, ...,\n",
       "            7.30722547e-01,   6.31199539e-01,   5.83056986e-01]]],\n",
       "\n",
       "\n",
       "       [[[  1.61734343e-01,   1.48569465e-01,   9.26040113e-02, ...,\n",
       "            1.44128352e-01,   1.27747059e-01,   2.22404286e-01],\n",
       "         [  1.06596820e-01,   1.10561140e-01,   7.04447255e-02, ...,\n",
       "            1.17615581e-01,   1.46249548e-01,   2.20132798e-01],\n",
       "         [  8.46542343e-02,   8.68232772e-02,   5.65301031e-02, ...,\n",
       "            7.39504993e-02,   1.33510962e-01,   1.45118505e-01],\n",
       "         ..., \n",
       "         [  5.80075085e-02,   1.12776250e-01,   6.92213178e-02, ...,\n",
       "            3.05335224e-02,  -3.13808806e-02,  -1.23900920e-01],\n",
       "         [  8.63473788e-02,   7.43446872e-02,   1.04811497e-01, ...,\n",
       "           -6.00921474e-02,  -6.15546666e-02,   9.16166008e-02],\n",
       "         [  1.58399791e-02,   2.34334171e-03,   3.02375667e-02, ...,\n",
       "            1.23322964e-01,   7.69701898e-02,   3.81922312e-02]],\n",
       "\n",
       "        [[  5.04856110e-02,   5.28393313e-02,   1.37560815e-02, ...,\n",
       "            3.97050604e-02,   1.52499005e-02,   1.01660177e-01],\n",
       "         [  9.01127607e-03,   4.91042212e-02,   2.51207873e-02, ...,\n",
       "            2.83957198e-02,   4.10394743e-02,   1.08484603e-01],\n",
       "         [ -6.37286901e-03,   3.17557305e-02,   1.63444728e-02, ...,\n",
       "            2.32972205e-04,   3.43884602e-02,   3.88055965e-02],\n",
       "         ..., \n",
       "         [  3.89685631e-02,   7.15872198e-02,   9.55903530e-03, ...,\n",
       "           -1.25845382e-02,  -9.12986621e-02,  -1.94293842e-01],\n",
       "         [  7.53712952e-02,   2.97047868e-02,   4.00629267e-02, ...,\n",
       "           -1.67672008e-01,  -1.84452295e-01,  -2.96714287e-02],\n",
       "         [  1.12627298e-02,  -2.45223641e-02,  -1.20443106e-02, ...,\n",
       "            3.28517780e-02,  -2.89113391e-02,  -6.77052662e-02]],\n",
       "\n",
       "        [[  2.57519111e-02,   2.28298083e-02,   9.68264043e-03, ...,\n",
       "            3.10344398e-02,   5.66091388e-03,   8.08844119e-02],\n",
       "         [  2.44886279e-02,   4.93891910e-02,   5.00029847e-02, ...,\n",
       "            5.29269613e-02,   8.08910131e-02,   1.31102353e-01],\n",
       "         [  1.84032246e-02,   3.31379063e-02,   2.97143683e-02, ...,\n",
       "            2.70186178e-02,   7.42726773e-02,   6.54536486e-02],\n",
       "         ..., \n",
       "         [  4.10086215e-02,   7.76438862e-02,   1.67975351e-02, ...,\n",
       "           -1.35997012e-02,  -6.45824522e-02,  -1.33740693e-01],\n",
       "         [  5.54001033e-02,   2.48561017e-02,  -9.45036113e-03, ...,\n",
       "           -1.86330587e-01,  -1.53938681e-01,   6.00689650e-03],\n",
       "         [ -2.81654038e-02,  -8.38324502e-02,  -6.02892861e-02, ...,\n",
       "            3.56433839e-02,  -1.21751726e-02,  -1.05143487e-02]]],\n",
       "\n",
       "\n",
       "       ..., \n",
       "       [[[ -1.44342434e+00,  -9.95365798e-01,  -8.48929107e-01, ...,\n",
       "           -1.54593837e+00,  -1.42148721e+00,  -4.13556039e-01],\n",
       "         [ -9.61360812e-01,  -1.16436958e+00,  -7.87615120e-01, ...,\n",
       "           -1.95038214e-03,   6.69218600e-01,   6.67512953e-01],\n",
       "         [ -1.48558736e-01,  -1.03192937e+00,  -5.97315192e-01, ...,\n",
       "            1.19821155e+00,   5.36681950e-01,  -2.58611381e-01],\n",
       "         ..., \n",
       "         [  7.37254620e-01,  -1.11401994e-02,  -3.72264395e-03, ...,\n",
       "           -3.96571904e-01,  -1.91080332e-01,   4.45015848e-01],\n",
       "         [  3.21595162e-01,   7.59676397e-02,  -5.82995266e-03, ...,\n",
       "           -1.56579182e-01,  -1.97619677e-01,  -3.34885836e-01],\n",
       "         [ -8.04038346e-02,  -1.68216661e-01,  -2.42795065e-01, ...,\n",
       "           -2.12097585e-01,  -1.61855474e-01,  -2.34045416e-01]],\n",
       "\n",
       "        [[  3.78435612e-01,   3.38695496e-01,   2.70312876e-01, ...,\n",
       "           -7.89406151e-02,  -4.84769613e-01,   1.57760382e-01],\n",
       "         [  1.73632756e-01,   3.53583038e-01,   2.81985432e-01, ...,\n",
       "           -3.49638730e-01,   6.11239195e-01,   4.44196671e-01],\n",
       "         [  1.94932103e-01,   1.45830497e-01,   3.16189408e-01, ...,\n",
       "            3.80557179e-01,  -5.42218983e-03,  -7.90380836e-01],\n",
       "         ..., \n",
       "         [  3.49012315e-01,  -2.70877004e-01,  -1.56544536e-01, ...,\n",
       "           -2.99870133e-01,  -3.52088243e-01,   3.30080628e-01],\n",
       "         [ -1.13946579e-01,  -4.93043102e-02,   8.82401317e-02, ...,\n",
       "           -7.63935819e-02,  -2.92561829e-01,  -4.44236338e-01],\n",
       "         [ -3.94048125e-01,  -1.53393716e-01,   6.15638345e-02, ...,\n",
       "           -1.14755601e-01,  -1.37436435e-01,  -2.77547926e-01]],\n",
       "\n",
       "        [[  4.66567814e-01,   5.68782926e-01,   5.41077375e-01, ...,\n",
       "            6.39792740e-01,   4.52773988e-01,   7.26154447e-01],\n",
       "         [  2.07000300e-01,   8.16039085e-01,   2.95194775e-01, ...,\n",
       "           -3.60610873e-01,   9.42454934e-01,   6.63913131e-01],\n",
       "         [ -2.81264931e-02,   6.84643090e-01,   3.21151763e-01, ...,\n",
       "            3.11589271e-01,  -1.01254426e-01,  -9.08491075e-01],\n",
       "         ..., \n",
       "         [  1.04720518e-01,  -3.17609489e-01,  -8.01013261e-02, ...,\n",
       "            7.30220973e-02,  -1.65002733e-01,   6.50091469e-02],\n",
       "         [ -1.20556876e-01,   1.86737984e-01,   5.26952326e-01, ...,\n",
       "            2.25797474e-01,  -1.18708372e-01,  -5.19070983e-01],\n",
       "         [ -9.41851139e-02,   2.47188210e-01,   5.99478662e-01, ...,\n",
       "            2.48693287e-01,   2.31378317e-01,   2.48637795e-02]]],\n",
       "\n",
       "\n",
       "       [[[ -1.38950065e-01,  -1.74869329e-01,  -2.14631781e-01, ...,\n",
       "           -6.62223399e-02,  -1.18148997e-01,  -2.38775164e-01],\n",
       "         [ -8.95765424e-02,  -7.57162347e-02,  -1.10338733e-01, ...,\n",
       "           -2.65806913e-02,  -5.38396537e-02,  -3.06048572e-01],\n",
       "         [  8.81432593e-02,   7.73672760e-03,   1.94814801e-03, ...,\n",
       "           -2.56901532e-02,  -1.28148884e-01,  -3.06331903e-01],\n",
       "         ..., \n",
       "         [  5.84172010e-01,   5.59449434e-01,   1.45589900e+00, ...,\n",
       "            9.62847173e-02,   2.18756169e-01,  -1.16142392e-01],\n",
       "         [  4.45524156e-01,   3.87962967e-01,   5.79123139e-01, ...,\n",
       "            4.26579863e-01,   1.39413834e-01,  -1.03521675e-01],\n",
       "         [  1.45492911e-01,   1.35895222e-01,   1.67629778e-01, ...,\n",
       "            3.49724382e-01,   3.34303886e-01,   2.32797891e-01]],\n",
       "\n",
       "        [[  2.58842111e-03,   3.85990739e-03,  -3.62548083e-02, ...,\n",
       "           -3.12866867e-02,   1.23493075e-02,   3.29411924e-02],\n",
       "         [ -1.73658133e-01,  -1.13410778e-01,  -1.52115732e-01, ...,\n",
       "           -1.13287568e-03,   4.55829501e-03,  -9.54705030e-02],\n",
       "         [ -1.23603672e-01,  -1.39550969e-01,  -1.45880848e-01, ...,\n",
       "           -7.99708068e-02,  -1.19870722e-01,  -9.22569484e-02],\n",
       "         ..., \n",
       "         [  5.58815956e-01,   5.13832867e-01,   1.45793366e+00, ...,\n",
       "            9.13832635e-02,   2.24318802e-01,  -9.63470042e-02],\n",
       "         [  4.22020257e-01,   3.16064835e-01,   5.23795247e-01, ...,\n",
       "            2.88437605e-01,   8.27337503e-02,  -1.18343055e-01],\n",
       "         [  1.14674091e-01,   1.19173706e-01,   1.54267430e-01, ...,\n",
       "            5.37195802e-02,   2.67249644e-01,   3.14942002e-01]],\n",
       "\n",
       "        [[  2.08905131e-01,   1.52239352e-01,   1.27491951e-01, ...,\n",
       "            1.76515117e-01,   1.65074229e-01,   1.21927887e-01],\n",
       "         [  1.16074055e-01,   1.84201047e-01,   1.52937531e-01, ...,\n",
       "            1.62204415e-01,   1.26986980e-01,   3.90594006e-02],\n",
       "         [  1.15563393e-01,   3.76432687e-02,   2.55631059e-02, ...,\n",
       "            4.71341163e-02,   2.03031152e-02,  -1.06701702e-02],\n",
       "         ..., \n",
       "         [  4.80180144e-01,   3.21673214e-01,   1.07922506e+00, ...,\n",
       "            2.87115335e-01,   4.34410602e-01,   5.58945984e-02],\n",
       "         [  1.97811246e-01,   2.73559690e-02,   7.50833154e-02, ...,\n",
       "            3.49067688e-01,   1.11283541e-01,  -7.40115941e-02],\n",
       "         [  9.37979221e-02,  -1.65962577e-02,  -8.96417797e-02, ...,\n",
       "           -1.88373327e-02,   6.91353083e-02,   1.45989984e-01]]],\n",
       "\n",
       "\n",
       "       [[[  2.89087296e-01,   1.75481856e-01,   5.36535829e-02, ...,\n",
       "           -7.46720731e-02,   4.60105464e-02,   2.52148211e-01],\n",
       "         [  4.46274653e-02,   2.34971389e-01,  -1.34801805e-01, ...,\n",
       "            4.25892994e-02,   3.05738181e-01,  -1.76587105e-01],\n",
       "         [  6.23602211e-01,   7.68045902e-01,   2.25289717e-01, ...,\n",
       "            4.93264571e-02,   1.20417178e-01,  -3.69449317e-01],\n",
       "         ..., \n",
       "         [  3.63383591e-01,   1.56294759e-02,  -1.22705713e-01, ...,\n",
       "            5.76270044e-01,   1.41883969e-01,   6.39289379e-01],\n",
       "         [  1.26793608e-01,  -1.09861672e-01,  -1.62992999e-01, ...,\n",
       "           -4.01904941e-01,   2.03410655e-01,   4.84616935e-01],\n",
       "         [ -2.52480209e-01,  -3.12543929e-01,  -1.72567099e-01, ...,\n",
       "            2.66646951e-01,  -4.98828471e-01,  -6.33318067e-01]],\n",
       "\n",
       "        [[  3.68714780e-01,   3.01725656e-01,   1.85967386e-01, ...,\n",
       "            1.08700722e-01,   2.25998744e-01,   4.14036363e-01],\n",
       "         [  1.72786474e-01,   3.80723029e-01,   1.42586343e-02, ...,\n",
       "            1.63228303e-01,   4.64689255e-01,  -3.97451967e-03],\n",
       "         [  6.40563071e-01,   1.01389706e+00,   6.10902190e-01, ...,\n",
       "            2.71514982e-01,   2.81977236e-01,  -9.88814682e-02],\n",
       "         ..., \n",
       "         [  2.43550524e-01,   4.12058048e-02,  -9.69376191e-02, ...,\n",
       "            5.67678452e-01,   1.75621092e-01,   8.21642578e-01],\n",
       "         [  6.18325621e-02,  -3.05638276e-02,  -1.37219355e-01, ...,\n",
       "           -3.38843137e-01,   2.77444512e-01,   6.10778570e-01],\n",
       "         [ -2.30872810e-01,  -2.32389450e-01,  -2.00582817e-01, ...,\n",
       "            3.02615672e-01,  -3.63612205e-01,  -5.01134157e-01]],\n",
       "\n",
       "        [[  4.83185083e-01,   3.69064957e-01,   2.80637085e-01, ...,\n",
       "            2.28277177e-01,   2.34241381e-01,   4.06351656e-01],\n",
       "         [  2.39648521e-01,   5.22272527e-01,   1.98759586e-01, ...,\n",
       "            2.16126949e-01,   4.22959387e-01,  -5.08968532e-02],\n",
       "         [  6.44595563e-01,   1.08978009e+00,   8.39338720e-01, ...,\n",
       "            2.75413960e-01,   4.06522095e-01,   4.20462713e-02],\n",
       "         ..., \n",
       "         [  2.43587658e-01,  -7.48634338e-04,  -6.57482371e-02, ...,\n",
       "            6.15199566e-01,   2.60756254e-01,   9.62778926e-01],\n",
       "         [  1.63226247e-01,  -2.45621614e-02,  -5.56455404e-02, ...,\n",
       "           -1.91148683e-01,   3.58097017e-01,   6.62184894e-01],\n",
       "         [ -1.38134852e-01,  -1.81264803e-01,  -5.16311973e-02, ...,\n",
       "            3.94247800e-01,  -2.00580537e-01,  -3.29158008e-01]]]], dtype=float32)"
      ]
     },
     "execution_count": 16,
     "metadata": {},
     "output_type": "execute_result"
    }
   ],
   "source": [
    "XTrain"
   ]
  },
  {
   "cell_type": "code",
   "execution_count": 19,
   "metadata": {
    "collapsed": false
   },
   "outputs": [],
   "source": [
    "train_test_dist = XFinalTrain.dot(XFinalTest.T)"
   ]
  },
  {
   "cell_type": "code",
   "execution_count": 97,
   "metadata": {
    "collapsed": true
   },
   "outputs": [],
   "source": [
    "train_train_dist = XFinalTrain.dot(XFinalTrain.T)"
   ]
  },
  {
   "cell_type": "code",
   "execution_count": 123,
   "metadata": {
    "collapsed": true
   },
   "outputs": [],
   "source": [
    "train_norms_sq = (np.linalg.norm(XFinalTrain, axis=1) ** 2)[:,np.newaxis]"
   ]
  },
  {
   "cell_type": "code",
   "execution_count": 120,
   "metadata": {
    "collapsed": false
   },
   "outputs": [],
   "source": [
    "test_norms_sq = (np.linalg.norm(XFinalTest, axis=1) ** 2)[:,np.newaxis]"
   ]
  },
  {
   "cell_type": "code",
   "execution_count": 124,
   "metadata": {
    "collapsed": false
   },
   "outputs": [
    {
     "data": {
      "text/plain": [
       "(50000, 1)"
      ]
     },
     "execution_count": 124,
     "metadata": {},
     "output_type": "execute_result"
    }
   ],
   "source": [
    "train_norms_sq.shape\n"
   ]
  },
  {
   "cell_type": "code",
   "execution_count": 99,
   "metadata": {
    "collapsed": false
   },
   "outputs": [],
   "source": [
    "train_train_dist /= 2"
   ]
  },
  {
   "cell_type": "code",
   "execution_count": 91,
   "metadata": {
    "collapsed": true
   },
   "outputs": [],
   "source": [
    "train_train_dist -= train_norms_sq"
   ]
  },
  {
   "cell_type": "code",
   "execution_count": 84,
   "metadata": {
    "collapsed": true
   },
   "outputs": [],
   "source": [
    "train_train_dist -= train_norms_sq.T"
   ]
  },
  {
   "cell_type": "code",
   "execution_count": 90,
   "metadata": {
    "collapsed": false
   },
   "outputs": [
    {
     "data": {
      "text/plain": [
       "3621.2958971540356"
      ]
     },
     "execution_count": 90,
     "metadata": {},
     "output_type": "execute_result"
    }
   ],
   "source": [
    "np.linalg.norm(XFinalTrain[0] - XFinalTrain[1])**2"
   ]
  },
  {
   "cell_type": "code",
   "execution_count": 101,
   "metadata": {
    "collapsed": false
   },
   "outputs": [],
   "source": [
    "K = train_train_dist.copy()"
   ]
  },
  {
   "cell_type": "code",
   "execution_count": 103,
   "metadata": {
    "collapsed": false
   },
   "outputs": [],
   "source": [
    "K *= -2 "
   ]
  },
  {
   "cell_type": "code",
   "execution_count": 104,
   "metadata": {
    "collapsed": false
   },
   "outputs": [
    {
     "data": {
      "text/plain": [
       "array([[-24300.1640625 , -29931.20117188,  -9470.80859375, ...,\n",
       "        -12752.40136719, -21442.97460938, -24526.4140625 ],\n",
       "       [-29931.20117188, -42804.8203125 , -12632.74316406, ...,\n",
       "        -16961.09570312, -29546.22851562, -32361.77929688],\n",
       "       [ -9470.80859375, -12632.74316406,  -6112.72070312, ...,\n",
       "         -7355.99707031,  -6765.23876953, -11156.56640625],\n",
       "       ..., \n",
       "       [-12752.40136719, -16961.09570312,  -7355.99707031, ...,\n",
       "        -10689.33007812,  -9238.86523438, -14999.42675781],\n",
       "       [-21442.97460938, -29546.22851562,  -6765.23876953, ...,\n",
       "         -9238.86523438, -25836.16992188, -22174.78320312],\n",
       "       [-24526.4140625 , -32361.77929688, -11156.56640625, ...,\n",
       "        -14999.42675781, -22174.78320312, -30062.06054688]], dtype=float32)"
      ]
     },
     "execution_count": 104,
     "metadata": {},
     "output_type": "execute_result"
    }
   ],
   "source": [
    "K"
   ]
  },
  {
   "cell_type": "code",
   "execution_count": 198,
   "metadata": {
    "collapsed": false
   },
   "outputs": [],
   "source": [
    "XTestFlat = XTest.reshape(10000, -1)"
   ]
  },
  {
   "cell_type": "code",
   "execution_count": 200,
   "metadata": {
    "collapsed": false
   },
   "outputs": [],
   "source": [
    "K = XTestFlat.dot(XTestFlat.T)"
   ]
  },
  {
   "cell_type": "code",
   "execution_count": 202,
   "metadata": {
    "collapsed": false
   },
   "outputs": [],
   "source": [
    "Kmax = np.maximum(K, 0)"
   ]
  },
  {
   "cell_type": "code",
   "execution_count": 207,
   "metadata": {
    "collapsed": false
   },
   "outputs": [],
   "source": [
    "for i in range(1000):\n",
    "    v = np.random.randn(K.shape[0], 1)\n",
    "    k1 = v.T.dot(K).dot(v)\n",
    "    k2 = v.T.dot(Kmax).dot(v)\n",
    "    assert(k2 >= 0)\n"
   ]
  },
  {
   "cell_type": "code",
   "execution_count": 118,
   "metadata": {
    "collapsed": false
   },
   "outputs": [
    {
     "data": {
      "text/plain": [
       "(50000,)"
      ]
     },
     "execution_count": 118,
     "metadata": {},
     "output_type": "execute_result"
    }
   ],
   "source": [
    "train_norms_sq.shape"
   ]
  },
  {
   "cell_type": "code",
   "execution_count": 141,
   "metadata": {
    "collapsed": true
   },
   "outputs": [],
   "source": [
    "def knn(dmatrix, labels, k=1):\n",
    "    nearest = np.argmin(dmatrix, axis=1)\n",
    "    return labels[nearest]\n"
   ]
  },
  {
   "cell_type": "code",
   "execution_count": 142,
   "metadata": {
    "collapsed": false
   },
   "outputs": [
    {
     "data": {
      "text/plain": [
       "True"
      ]
     },
     "execution_count": 142,
     "metadata": {},
     "output_type": "execute_result"
    }
   ],
   "source": [
    "np.all(knn(K, labelsTrain) == labelsTrain)"
   ]
  },
  {
   "cell_type": "code",
   "execution_count": 133,
   "metadata": {
    "collapsed": false
   },
   "outputs": [
    {
     "data": {
      "text/plain": [
       "array([-8528.78515625], dtype=float32)"
      ]
     },
     "execution_count": 133,
     "metadata": {},
     "output_type": "execute_result"
    }
   ],
   "source": [
    "train_norms_sq[1] + -2 * XFinalTrain[0].dot(XFinalTrain[1]) "
   ]
  },
  {
   "cell_type": "code",
   "execution_count": 136,
   "metadata": {
    "collapsed": false
   },
   "outputs": [
    {
     "data": {
      "text/plain": [
       "<numpy.broadcast at 0x7f43897ea860>"
      ]
     },
     "execution_count": 136,
     "metadata": {},
     "output_type": "execute_result"
    }
   ],
   "source": [
    "np.broadcast(train_norms_sq, K)"
   ]
  },
  {
   "cell_type": "code",
   "execution_count": 139,
   "metadata": {
    "collapsed": false
   },
   "outputs": [],
   "source": [
    "K += train_norms_sq"
   ]
  },
  {
   "cell_type": "code",
   "execution_count": 183,
   "metadata": {
    "collapsed": false
   },
   "outputs": [],
   "source": [
    "def knn(dmatrix, labels, num_classes = 10, k=1):\n",
    "    labelsTest = np.zeros((dmatrix.shape[1], k))\n",
    "    out = np.zeros((dmatrix.shape[1], num_classes))\n",
    "    for i in range(k): \n",
    "        nearest = np.argmin(dmatrix, axis=0)\n",
    "        dmatrix[nearest] = float('inf')\n",
    "        labelsTest[:, i] = labels[nearest]\n",
    "        \n",
    "    print labelsTest\n",
    "    for c in range(num_classes):\n",
    "        out[:,c] = np.sum(labelsTest == c, axis=1)\n",
    "    print \"OUT \", out\n",
    "    return np.argmax(out, axis=1)\n",
    "        \n",
    "\n",
    "def simple_knn_from_kernel(K, normsTrain, normsTest, labels, k=1):\n",
    "    D = K.copy()\n",
    "    D *= -2\n",
    "    D += normsTrain\n",
    "    D += normsTest.T\n",
    "    return knn(D, labels, k=k)\n",
    "    \n",
    "    "
   ]
  },
  {
   "cell_type": "code",
   "execution_count": 157,
   "metadata": {
    "collapsed": false
   },
   "outputs": [
    {
     "name": "stdout",
     "output_type": "stream",
     "text": [
      "(50000,)\n"
     ]
    }
   ],
   "source": [
    "predLabels = simple_knn_from_kernel(train_train_dist, train_norms_sq, train_norms_sq, labelsTrain)\n",
    "metrics.accuracy_score(predLabels, labelsTrain)"
   ]
  },
  {
   "cell_type": "code",
   "execution_count": 186,
   "metadata": {
    "collapsed": false
   },
   "outputs": [
    {
     "name": "stdout",
     "output_type": "stream",
     "text": [
      "[[ 6.  0.  6. ...,  7.  0.  2.]\n",
      " [ 0.  8.  8. ...,  8.  8.  8.]\n",
      " [ 9.  8.  8. ...,  3.  0.  0.]\n",
      " ..., \n",
      " [ 5.  7.  5. ...,  3.  2.  3.]\n",
      " [ 4.  4.  1. ...,  7.  4.  2.]\n",
      " [ 7.  7.  7. ...,  4.  7.  2.]]\n",
      "OUT  [[ 3.  0.  1. ...,  1.  0.  0.]\n",
      " [ 1.  1.  0. ...,  0.  8.  0.]\n",
      " [ 3.  1.  1. ...,  0.  3.  1.]\n",
      " ..., \n",
      " [ 0.  0.  2. ...,  1.  0.  0.]\n",
      " [ 1.  1.  1. ...,  3.  0.  0.]\n",
      " [ 0.  0.  1. ...,  7.  0.  0.]]\n"
     ]
    },
    {
     "data": {
      "text/plain": [
       "0.48680000000000001"
      ]
     },
     "execution_count": 186,
     "metadata": {},
     "output_type": "execute_result"
    }
   ],
   "source": [
    "predLabels = simple_knn_from_kernel(train_test_dist, train_norms_sq, test_norms_sq, labelsTrain, k=10)\n",
    "metrics.accuracy_score(predLabels, labelsTest)"
   ]
  },
  {
   "cell_type": "code",
   "execution_count": 188,
   "metadata": {
    "collapsed": false
   },
   "outputs": [],
   "source": [
    "raw_train_test_dist = XTrain.reshape(50000, -1).dot(XTest.reshape(10000, -1).T)"
   ]
  },
  {
   "cell_type": "code",
   "execution_count": 194,
   "metadata": {
    "collapsed": false
   },
   "outputs": [],
   "source": [
    "raw_train_norms_sq = np.linalg.norm(XTrain.reshape(50000, -1), axis=1)[:,np.newaxis]\n",
    "raw_test_norms_sq = np.linalg.norm(XTest.reshape(10000, -1), axis=1)[:, np.newaxis]\n"
   ]
  },
  {
   "cell_type": "code",
   "execution_count": 196,
   "metadata": {
    "collapsed": false
   },
   "outputs": [
    {
     "name": "stdout",
     "output_type": "stream",
     "text": [
      "[[ 8.  6.  4. ...,  6.  6.  6.]\n",
      " [ 0.  8.  0. ...,  6.  6.  6.]\n",
      " [ 0.  1.  3. ...,  6.  6.  6.]\n",
      " ..., \n",
      " [ 0.  7.  5. ...,  6.  6.  6.]\n",
      " [ 7.  3.  1. ...,  6.  6.  6.]\n",
      " [ 4.  4.  7. ...,  6.  6.  6.]]\n",
      "OUT  [[ 1.  0.  0. ...,  1.  3.  0.]\n",
      " [ 2.  0.  0. ...,  0.  4.  3.]\n",
      " [ 2.  1.  0. ...,  1.  3.  1.]\n",
      " ..., \n",
      " [ 1.  0.  1. ...,  1.  1.  0.]\n",
      " [ 1.  3.  1. ...,  1.  1.  0.]\n",
      " [ 1.  0.  0. ...,  3.  1.  0.]]\n"
     ]
    },
    {
     "data": {
      "text/plain": [
       "0.10000000000000001"
      ]
     },
     "execution_count": 196,
     "metadata": {},
     "output_type": "execute_result"
    }
   ],
   "source": [
    "predLabels = simple_knn_from_kernel(raw_train_test_dist, raw_train_norms_sq, raw_test_norms_sq, labelsTrain, k=100)\n",
    "metrics.accuracy_score(predLabels, labelsTest)"
   ]
  },
  {
   "cell_type": "code",
   "execution_count": 215,
   "metadata": {
    "collapsed": false
   },
   "outputs": [
    {
     "data": {
      "text/plain": [
       "array([ 3633.36889648,   298.77212524,  2607.00732422, ..., -2323.57128906,\n",
       "       -2273.80957031, -2596.22314453], dtype=float32)"
      ]
     },
     "execution_count": 215,
     "metadata": {},
     "output_type": "execute_result"
    }
   ],
   "source": [
    "np.sum(K - diag(diag(K)), axis=0)"
   ]
  },
  {
   "cell_type": "code",
   "execution_count": 216,
   "metadata": {
    "collapsed": true
   },
   "outputs": [],
   "source": []
  },
  {
   "cell_type": "code",
   "execution_count": 238,
   "metadata": {
    "collapsed": false
   },
   "outputs": [
    {
     "ename": "TypeError",
     "evalue": "beta() takes at most 3 positional arguments (4 given)",
     "output_type": "error",
     "traceback": [
      "\u001b[1;31m---------------------------------------------------------------------------\u001b[0m",
      "\u001b[1;31mTypeError\u001b[0m                                 Traceback (most recent call last)",
      "\u001b[1;32m<ipython-input-238-bc8659c620b3>\u001b[0m in \u001b[0;36m<module>\u001b[1;34m()\u001b[0m\n\u001b[1;32m----> 1\u001b[1;33m \u001b[0mX\u001b[0m \u001b[1;33m=\u001b[0m \u001b[0mnp\u001b[0m\u001b[1;33m.\u001b[0m\u001b[0mrandom\u001b[0m\u001b[1;33m.\u001b[0m\u001b[0mbeta\u001b[0m\u001b[1;33m(\u001b[0m\u001b[1;36m1\u001b[0m\u001b[1;33m,\u001b[0m\u001b[1;36m2\u001b[0m\u001b[1;33m,\u001b[0m\u001b[1;36m1000\u001b[0m\u001b[1;33m,\u001b[0m\u001b[1;36m1000\u001b[0m\u001b[1;33m)\u001b[0m\u001b[1;33m\u001b[0m\u001b[0m\n\u001b[0m\u001b[0;32m      2\u001b[0m \u001b[1;32mprint\u001b[0m \u001b[0mmin\u001b[0m\u001b[1;33m(\u001b[0m\u001b[0mnp\u001b[0m\u001b[1;33m.\u001b[0m\u001b[0mlinalg\u001b[0m\u001b[1;33m.\u001b[0m\u001b[0meigvals\u001b[0m\u001b[1;33m(\u001b[0m\u001b[0mnp\u001b[0m\u001b[1;33m.\u001b[0m\u001b[0mmaximum\u001b[0m\u001b[1;33m(\u001b[0m\u001b[0mX\u001b[0m\u001b[1;33m.\u001b[0m\u001b[0mT\u001b[0m\u001b[1;33m.\u001b[0m\u001b[0mdot\u001b[0m\u001b[1;33m(\u001b[0m\u001b[0mX\u001b[0m\u001b[1;33m)\u001b[0m\u001b[1;33m,\u001b[0m \u001b[1;36m0\u001b[0m\u001b[1;33m)\u001b[0m\u001b[1;33m)\u001b[0m\u001b[1;33m)\u001b[0m\u001b[1;33m\u001b[0m\u001b[0m\n\u001b[0;32m      3\u001b[0m \u001b[1;32mprint\u001b[0m \u001b[0mmin\u001b[0m\u001b[1;33m(\u001b[0m\u001b[0mnp\u001b[0m\u001b[1;33m.\u001b[0m\u001b[0mlinalg\u001b[0m\u001b[1;33m.\u001b[0m\u001b[0meigvals\u001b[0m\u001b[1;33m(\u001b[0m\u001b[0mnp\u001b[0m\u001b[1;33m.\u001b[0m\u001b[0mabs\u001b[0m\u001b[1;33m(\u001b[0m\u001b[0mX\u001b[0m\u001b[1;33m.\u001b[0m\u001b[0mT\u001b[0m\u001b[1;33m.\u001b[0m\u001b[0mdot\u001b[0m\u001b[1;33m(\u001b[0m\u001b[0mX\u001b[0m\u001b[1;33m)\u001b[0m\u001b[1;33m)\u001b[0m\u001b[1;33m)\u001b[0m\u001b[1;33m)\u001b[0m\u001b[1;33m\u001b[0m\u001b[0m\n",
      "\u001b[1;32mmtrand.pyx\u001b[0m in \u001b[0;36mmtrand.RandomState.beta (numpy/random/mtrand/mtrand.c:18758)\u001b[1;34m()\u001b[0m\n",
      "\u001b[1;31mTypeError\u001b[0m: beta() takes at most 3 positional arguments (4 given)"
     ]
    }
   ],
   "source": [
    "X = np.random.beta(1,2,1000,1000)\n",
    "print min(np.linalg.eigvals(np.maximum(X.T.dot(X), 0)))\n",
    "print min(np.linalg.eigvals(np.abs(X.T.dot(X))))"
   ]
  },
  {
   "cell_type": "code",
   "execution_count": 298,
   "metadata": {
    "collapsed": false
   },
   "outputs": [
    {
     "name": "stdout",
     "output_type": "stream",
     "text": [
      "EIGEN VALUE  49.6079445502\n",
      "4.1986637752e-10\n",
      "0\n"
     ]
    }
   ],
   "source": [
    "control = []\n",
    "relu = []\n",
    "for i in range(50000):\n",
    "    X = np.random.randn(4, 4)\n",
    "    control.append(min(np.linalg.eigvals(X.T.dot(X))))\n",
    "    relu.append(min(np.linalg.eigvals(np.maximum(X.T.dot(X) + np.eye(4)*50, 0))))\n",
    "control = np.array(control)\n",
    "relu = np.array(relu)\n",
    "print \"EIGEN VALUE \", min(relu)\n",
    "print min(control)\n",
    "print np.sum(control > relu)"
   ]
  },
  {
   "cell_type": "code",
   "execution_count": 274,
   "metadata": {
    "collapsed": false
   },
   "outputs": [],
   "source": [
    "a = np.array([[-1, -1, -2, -1], [0, -1, -2, 1], [0, 1, 0, 0], [1, -1, 0, 2]])"
   ]
  },
  {
   "cell_type": "code",
   "execution_count": 285,
   "metadata": {
    "collapsed": false
   },
   "outputs": [
    {
     "data": {
      "text/plain": [
       "array([  1.08580277e+01,   8.19834091e+00,  -1.94807043e-17,\n",
       "         9.43631361e-01])"
      ]
     },
     "execution_count": 285,
     "metadata": {},
     "output_type": "execute_result"
    }
   ],
   "source": [
    "np.linalg.eigvals(a.dot(a.T))"
   ]
  },
  {
   "cell_type": "code",
   "execution_count": 284,
   "metadata": {
    "collapsed": false
   },
   "outputs": [
    {
     "data": {
      "text/plain": [
       "array([[7, 4, 0, 0],\n",
       "       [4, 6, 0, 3],\n",
       "       [0, 0, 1, 0],\n",
       "       [0, 3, 0, 6]])"
      ]
     },
     "execution_count": 284,
     "metadata": {},
     "output_type": "execute_result"
    }
   ],
   "source": [
    "np.maximum(a.dot(a.T), 0)"
   ]
  },
  {
   "cell_type": "code",
   "execution_count": 288,
   "metadata": {
    "collapsed": true
   },
   "outputs": [],
   "source": [
    "a = np.array([[1,1,-1,0],[0,1,1,1],[0,0,0,0],[0,0,0,0]])"
   ]
  },
  {
   "cell_type": "code",
   "execution_count": 290,
   "metadata": {
    "collapsed": false
   },
   "outputs": [
    {
     "data": {
      "text/plain": [
       "array([[1, 2, 0, 1],\n",
       "       [0, 1, 1, 1],\n",
       "       [0, 0, 0, 0],\n",
       "       [0, 0, 0, 0]])"
      ]
     },
     "execution_count": 290,
     "metadata": {},
     "output_type": "execute_result"
    }
   ],
   "source": [
    "a.dot(a)"
   ]
  },
  {
   "cell_type": "code",
   "execution_count": null,
   "metadata": {
    "collapsed": true
   },
   "outputs": [],
   "source": [
    "X"
   ]
  }
 ],
 "metadata": {
  "kernelspec": {
   "display_name": "Python [Root]",
   "language": "python",
   "name": "Python [Root]"
  },
  "language_info": {
   "codemirror_mode": {
    "name": "ipython",
    "version": 2
   },
   "file_extension": ".py",
   "mimetype": "text/x-python",
   "name": "python",
   "nbconvert_exporter": "python",
   "pygments_lexer": "ipython2",
   "version": "2.7.12"
  },
  "nbpresent": {
   "slides": {
    "691889e3-b7c6-4914-802f-c045471bb148": {
     "id": "691889e3-b7c6-4914-802f-c045471bb148",
     "prev": null,
     "regions": {
      "d473ec79-b583-4b90-8f0c-ca04540a8b42": {
       "attrs": {
        "height": 1,
        "width": 1,
        "x": 0,
        "y": 0
       },
       "id": "d473ec79-b583-4b90-8f0c-ca04540a8b42"
      }
     }
    }
   },
   "themes": {}
  }
 },
 "nbformat": 4,
 "nbformat_minor": 0
}

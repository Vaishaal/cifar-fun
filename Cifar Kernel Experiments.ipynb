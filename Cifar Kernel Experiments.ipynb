{
 "cells": [
  {
   "cell_type": "code",
   "execution_count": 2,
   "metadata": {
    "collapsed": false,
    "nbpresent": {
     "id": "5167988e-f347-496e-abe3-310656310669"
    }
   },
   "outputs": [
    {
     "name": "stderr",
     "output_type": "stream",
     "text": [
      "Using gpu device 0: Tesla K20c (CNMeM is enabled with initial size: 95.0% of memory, cuDNN 5103)\n",
      "/data/vaishaal/anaconda2/lib/python2.7/site-packages/matplotlib/font_manager.py:273: UserWarning: Matplotlib is building the font cache using fc-list. This may take a moment.\n",
      "  warnings.warn('Matplotlib is building the font cache using fc-list. This may take a moment.')\n"
     ]
    },
    {
     "name": "stdout",
     "output_type": "stream",
     "text": [
      "Populating the interactive namespace from numpy and matplotlib\n"
     ]
    }
   ],
   "source": [
    "import cifar_gpu_fun\n",
    "reload(cifar_gpu_fun)\n",
    "from cifar_gpu_fun import *\n",
    "from numba import jit\n",
    "import bcd\n",
    "import sys\n",
    "%pylab inline"
   ]
  },
  {
   "cell_type": "markdown",
   "metadata": {
    "nbpresent": {
     "id": "c640590a-a864-4de1-bdac-8f04d9c8def4"
    }
   },
   "source": [
    "#### Define Some Constants "
   ]
  },
  {
   "cell_type": "code",
   "execution_count": 7,
   "metadata": {
    "collapsed": true,
    "nbpresent": {
     "id": "5ee9705d-3093-4d0f-bd82-0e3dfcd14555"
    }
   },
   "outputs": [],
   "source": [
    "NUM_FEATURE_BATCHES=16\n",
    "DATA_BATCH_SIZE=(1280)\n",
    "FEATURE_BATCH_SIZE=(1024)\n",
    "NUM_TRAIN = 50000\n",
    "NUM_TEST = 10000\n",
    "NUM_CLASSES = 10\n",
    "NUM_FEATURES = FEATURE_BATCH_SIZE * NUM_FEATURE_BATCHES * 8\n",
    "POOL_TYPE ='avg'\n",
    "FILTER_GEN ='empirical'\n",
    "BANDWIDTH = 1.0\n",
    "LAMBDAS = [0.01, 0.1, 1.0, 0.001]\n",
    "#LAMBDAS = [0.01]\n",
    "CUDA_CONVNET = True\n",
    "SCALE = 55.0\n",
    "BIAS = 1.25\n",
    "MIN_VAR_TOL = 1e-4\n",
    "TOT_FEAT = FEATURE_BATCH_SIZE*NUM_FEATURE_BATCHES\n",
    "NAN = float('nan')\n",
    "saved = 0"
   ]
  },
  {
   "cell_type": "code",
   "execution_count": 4,
   "metadata": {
    "collapsed": false
   },
   "outputs": [
    {
     "name": "stdout",
     "output_type": "stream",
     "text": [
      "(50000, 3, 32, 32)\n"
     ]
    }
   ],
   "source": [
    "np.random.seed(10)                                                                                                                                                                   \n",
    "(XTrain, labelsTrain), (XTest, labelsTest) = load_cifar_processed()\n",
    "patches = patchify_all_imgs(XTrain, (6,6), pad=False)"
   ]
  },
  {
   "cell_type": "code",
   "execution_count": 5,
   "metadata": {
    "collapsed": false,
    "nbpresent": {
     "id": "d4e10ddf-1e84-46e6-827c-649e44ec1642"
    }
   },
   "outputs": [],
   "source": [
    "@jit(nopython=True)\n",
    "def rbf(K, gamma):\n",
    "    for x in range(K.shape[0]):\n",
    "        for y in range(K.shape[1]):\n",
    "            K[x,y] = math.exp(gamma*K[x,y])\n",
    "            \n",
    "    return K\n",
    "\n",
    "@jit(nopython=True)\n",
    "def arccos(K, XTrainNorms, XTestNorms):\n",
    "    for x in range(K.shape[0]):\n",
    "        for y in range(K.shape[1]):\n",
    "            testNorm = np.sqrt(XTestNorms[x])\n",
    "            trainNorm = np.sqrt(XTrainNorms[y]) \n",
    "            if (trainNorm == 0):\n",
    "                trainNorm = 1\n",
    "            if (testNorm == 0):\n",
    "                testNorm = 1 \n",
    "            cos = min(K[x,y]/(testNorm*trainNorm), 1)\n",
    "            theta = np.arccos(cos)\n",
    "            J = math.sin(theta) - (math.pi - theta)*math.cos(theta)\n",
    "            K[x,y] = 1.0/math.pi * J\n",
    "    return K\n",
    "    \n",
    "\n",
    "\n",
    "def computeRBFGramMatrix(K, XTrainNorms, XTestNorms, gamma=1, gamma_sample=10000):\n",
    "    \n",
    "    XTrainNorms = XTrainNorms.reshape(XTrainNorms.shape[0], 1)\n",
    "    XTestNorms = XTestNorms.reshape(XTestNorms.shape[0], 1)\n",
    "    print \"TURNING K -> DISTANCE\"\n",
    "    K *= -2\n",
    "    K += XTrainNorms.T\n",
    "    K += XTestNorms \n",
    "    if (gamma == None):\n",
    "        print \"Calculating gamma\"\n",
    "        samples = numpy.random.choice(K.shape[0], gamma_sample*2, replace=False)\n",
    "        x1 = samples[:gamma_sample]\n",
    "        x2 = samples[gamma_sample:]\n",
    "        sample_d = K[x1, x2]\n",
    "        print \"Sample d shape \", sample_d.shape\n",
    "        median = numpy.median(sample_d)\n",
    "        gamma = 2.0/median\n",
    "        print gamma\n",
    "    gamma = -1.0 * gamma\n",
    "\n",
    "    print \"Computing RBF\"\n",
    "    return rbf(K, gamma), -1.0*gamma\n",
    "\n",
    "def saveGramMatrix(KTrain, KTest, save_id=saved):\n",
    "    global saved\n",
    "    KFile = open(\"/data/vaishaal/cifar_kernels/cifar_kernel_{0}\".format(save_id), \"w+\")\n",
    "    np.savez(KFile, train=KTrain, test=KTest)\n",
    "    KFile.close()\n",
    "    saved += 1\n",
    "    \n",
    "def computeDistanceMatrix(XTest, XTrain):\n",
    "    XTrain = XTrain.reshape(XTrain.shape[0], -1)\n",
    "    XTest = XTest.reshape(XTest.shape[0], -1)\n",
    "    XTrain_norms = (np.linalg.norm(XTrain, axis=1) ** 2)[:, np.newaxis]\n",
    "    XTest_norms = (np.linalg.norm(XTest, axis=1) ** 2)[:, np.newaxis]\n",
    "    K = XTest.dot(XTrain.T)\n",
    "    K *= -2\n",
    "    K += XTrain_norms.T\n",
    "    K += XTest_norms  \n",
    "    return K\n",
    "    \n",
    "notebook_stdout = sys.stdout\n",
    "notebook_stderr = sys.stderr\n",
    "terminal_stdout = open('/dev/stdout', 'w')\n",
    "terminal_stderr = open('/dev/stderr', 'w')"
   ]
  },
  {
   "cell_type": "code",
   "execution_count": 34,
   "metadata": {
    "collapsed": true
   },
   "outputs": [],
   "source": [
    "VALID_3_POOLS = [(15,6)]"
   ]
  },
  {
   "cell_type": "code",
   "execution_count": 6,
   "metadata": {
    "collapsed": true
   },
   "outputs": [],
   "source": [
    "results = {}"
   ]
  },
  {
   "cell_type": "code",
   "execution_count": 1,
   "metadata": {
    "collapsed": false
   },
   "outputs": [
    {
     "ename": "NameError",
     "evalue": "name 'terminal_stdout' is not defined",
     "output_type": "error",
     "traceback": [
      "\u001b[1;31m---------------------------------------------------------------------------\u001b[0m",
      "\u001b[1;31mNameError\u001b[0m                                 Traceback (most recent call last)",
      "\u001b[1;32m<ipython-input-1-63468c294082>\u001b[0m in \u001b[0;36m<module>\u001b[1;34m()\u001b[0m\n\u001b[1;32m----> 1\u001b[1;33m \u001b[0msys\u001b[0m\u001b[1;33m.\u001b[0m\u001b[0mstdout\u001b[0m \u001b[1;33m=\u001b[0m \u001b[0mterminal_stdout\u001b[0m\u001b[1;33m\u001b[0m\u001b[0m\n\u001b[0m\u001b[0;32m      2\u001b[0m \u001b[0msys\u001b[0m\u001b[1;33m.\u001b[0m\u001b[0mstderr\u001b[0m \u001b[1;33m=\u001b[0m \u001b[0mterminal_stderr\u001b[0m\u001b[1;33m\u001b[0m\u001b[0m\n\u001b[0;32m      3\u001b[0m \u001b[1;31m#sys.stdout = notebook_stdout\u001b[0m\u001b[1;33m\u001b[0m\u001b[1;33m\u001b[0m\u001b[0m\n\u001b[0;32m      4\u001b[0m \u001b[1;31m#sys.stderr = notebook_stderr\u001b[0m\u001b[1;33m\u001b[0m\u001b[1;33m\u001b[0m\u001b[0m\n\u001b[0;32m      5\u001b[0m \u001b[0maccs\u001b[0m \u001b[1;33m=\u001b[0m \u001b[1;33m[\u001b[0m\u001b[1;33m]\u001b[0m\u001b[1;33m\u001b[0m\u001b[0m\n",
      "\u001b[1;31mNameError\u001b[0m: name 'terminal_stdout' is not defined"
     ]
    }
   ],
   "source": [
    "sys.stdout = terminal_stdout\n",
    "sys.stderr = terminal_stderr\n",
    "#sys.stdout = notebook_stdout\n",
    "#sys.stderr = notebook_stderr\n",
    "accs = []\n",
    "results = {}\n",
    "for param in VALID_3_POOLS:\n",
    "    pool_size, pool_stride = param\n",
    "    filter_gen = make_empirical_filter_gen(patches, labelsTrain, MIN_VAR_TOL, seed=3)\n",
    "    KTrain, KTest, normsTrain, normsTest, filters = convolveAndAccumulateGramAsync(XTrain, XTest, \n",
    "                                                                     labelsTrain, labelsTest, filter_gen,\n",
    "                                                                     num_feature_batches=NUM_FEATURE_BATCHES, pool_size=pool_size, pool_stride=pool_stride, sync=40)\n",
    "    \n",
    "    result = {}\n",
    "    for reg in LAMBDAS:\n",
    "        acc = trainAndEvaluateDualModel(KTrain, KTest, labelsTrain, labelsTest, reg=reg)\n",
    "        print \"RESULT \", pool_size,pool_stride, reg, acc\n",
    "        result[reg] = acc\n",
    "    results[param] = result\n"
   ]
  },
  {
   "cell_type": "code",
   "execution_count": 10,
   "metadata": {
    "collapsed": true
   },
   "outputs": [],
   "source": [
    "print results"
   ]
  },
  {
   "cell_type": "code",
   "execution_count": 46,
   "metadata": {
    "collapsed": false
   },
   "outputs": [
    {
     "ename": "KeyboardInterrupt",
     "evalue": "",
     "output_type": "error",
     "traceback": [
      "\u001b[1;31m\u001b[0m",
      "\u001b[1;31mKeyboardInterrupt\u001b[0mTraceback (most recent call last)",
      "\u001b[1;32m<ipython-input-46-f3fd9bcdf3c6>\u001b[0m in \u001b[0;36m<module>\u001b[1;34m()\u001b[0m\n\u001b[0;32m      2\u001b[0m \u001b[0mresult\u001b[0m \u001b[1;33m=\u001b[0m \u001b[1;33m{\u001b[0m\u001b[1;33m}\u001b[0m\u001b[1;33m\u001b[0m\u001b[0m\n\u001b[0;32m      3\u001b[0m \u001b[1;32mfor\u001b[0m \u001b[0mreg\u001b[0m \u001b[1;32min\u001b[0m \u001b[0mLAMBDAS\u001b[0m\u001b[1;33m:\u001b[0m\u001b[1;33m\u001b[0m\u001b[0m\n\u001b[1;32m----> 4\u001b[1;33m     \u001b[0macc\u001b[0m \u001b[1;33m=\u001b[0m \u001b[0mtrainAndEvaluateDualModel\u001b[0m\u001b[1;33m(\u001b[0m\u001b[0mKTrain\u001b[0m\u001b[1;33m,\u001b[0m \u001b[0mKTest\u001b[0m\u001b[1;33m,\u001b[0m \u001b[0mlabelsTrain\u001b[0m\u001b[1;33m,\u001b[0m \u001b[0mlabelsTest\u001b[0m\u001b[1;33m,\u001b[0m \u001b[0mreg\u001b[0m\u001b[1;33m=\u001b[0m\u001b[0mreg\u001b[0m\u001b[1;33m)\u001b[0m\u001b[1;33m\u001b[0m\u001b[0m\n\u001b[0m\u001b[0;32m      5\u001b[0m     \u001b[1;32mprint\u001b[0m \u001b[1;34m\"RESULT \"\u001b[0m\u001b[1;33m,\u001b[0m \u001b[0mpool_size\u001b[0m\u001b[1;33m,\u001b[0m\u001b[0mpool_stride\u001b[0m\u001b[1;33m,\u001b[0m \u001b[0mreg\u001b[0m\u001b[1;33m,\u001b[0m \u001b[0macc\u001b[0m\u001b[1;33m\u001b[0m\u001b[0m\n\u001b[0;32m      6\u001b[0m     \u001b[0mresult\u001b[0m\u001b[1;33m[\u001b[0m\u001b[0mreg\u001b[0m\u001b[1;33m]\u001b[0m \u001b[1;33m=\u001b[0m \u001b[0macc\u001b[0m\u001b[1;33m\u001b[0m\u001b[0m\n",
      "\u001b[1;32m/data/vaishaal/cifar_fun/cifar_gpu_fun/cifar_gpu_fun.pyc\u001b[0m in \u001b[0;36mtrainAndEvaluateDualModel\u001b[1;34m(KTrain, KTest, labelsTrain, labelsTest, reg, TOT_FEAT, W)\u001b[0m\n\u001b[0;32m    266\u001b[0m \u001b[1;33m\u001b[0m\u001b[0m\n\u001b[0;32m    267\u001b[0m \u001b[1;32mdef\u001b[0m \u001b[0mtrainAndEvaluateDualModel\u001b[0m\u001b[1;33m(\u001b[0m\u001b[0mKTrain\u001b[0m\u001b[1;33m,\u001b[0m \u001b[0mKTest\u001b[0m\u001b[1;33m,\u001b[0m \u001b[0mlabelsTrain\u001b[0m\u001b[1;33m,\u001b[0m \u001b[0mlabelsTest\u001b[0m\u001b[1;33m,\u001b[0m \u001b[0mreg\u001b[0m\u001b[1;33m=\u001b[0m\u001b[1;36m0.1\u001b[0m\u001b[1;33m,\u001b[0m \u001b[0mTOT_FEAT\u001b[0m\u001b[1;33m=\u001b[0m\u001b[1;36m1\u001b[0m\u001b[1;33m,\u001b[0m \u001b[0mW\u001b[0m\u001b[1;33m=\u001b[0m\u001b[0mNone\u001b[0m\u001b[1;33m)\u001b[0m\u001b[1;33m:\u001b[0m\u001b[1;33m\u001b[0m\u001b[0m\n\u001b[1;32m--> 268\u001b[1;33m     \u001b[0mmodel\u001b[0m \u001b[1;33m=\u001b[0m \u001b[0mlearnDual\u001b[0m\u001b[1;33m(\u001b[0m\u001b[0mKTrain\u001b[0m\u001b[1;33m,\u001b[0m\u001b[0mlabelsTrain\u001b[0m\u001b[1;33m,\u001b[0m \u001b[0mreg\u001b[0m\u001b[1;33m=\u001b[0m\u001b[0mreg\u001b[0m\u001b[1;33m,\u001b[0m \u001b[0mTOT_FEAT\u001b[0m\u001b[1;33m=\u001b[0m\u001b[0mTOT_FEAT\u001b[0m\u001b[1;33m,\u001b[0m \u001b[0mW\u001b[0m\u001b[1;33m=\u001b[0m\u001b[0mW\u001b[0m\u001b[1;33m)\u001b[0m\u001b[1;33m\u001b[0m\u001b[0m\n\u001b[0m\u001b[0;32m    269\u001b[0m     \u001b[0mpredTrainLabels\u001b[0m \u001b[1;33m=\u001b[0m \u001b[0mevaluateDualModel\u001b[0m\u001b[1;33m(\u001b[0m\u001b[0mKTrain\u001b[0m\u001b[1;33m,\u001b[0m \u001b[0mmodel\u001b[0m\u001b[1;33m,\u001b[0m \u001b[0mTOT_FEAT\u001b[0m\u001b[1;33m=\u001b[0m\u001b[0mTOT_FEAT\u001b[0m\u001b[1;33m)\u001b[0m\u001b[1;33m\u001b[0m\u001b[0m\n\u001b[0;32m    270\u001b[0m     \u001b[0mpredTestLabels\u001b[0m \u001b[1;33m=\u001b[0m \u001b[0mevaluateDualModel\u001b[0m\u001b[1;33m(\u001b[0m\u001b[0mKTest\u001b[0m\u001b[1;33m,\u001b[0m \u001b[0mmodel\u001b[0m\u001b[1;33m,\u001b[0m \u001b[0mTOT_FEAT\u001b[0m\u001b[1;33m=\u001b[0m\u001b[0mTOT_FEAT\u001b[0m\u001b[1;33m)\u001b[0m\u001b[1;33m\u001b[0m\u001b[0m\n",
      "\u001b[1;32m/data/vaishaal/cifar_fun/cifar_gpu_fun/cifar_gpu_fun.pyc\u001b[0m in \u001b[0;36mlearnDual\u001b[1;34m(gramMatrix, labels, reg, W, TOT_FEAT, NUM_TRAIN)\u001b[0m\n\u001b[0;32m    246\u001b[0m     \u001b[0mdiag_indices\u001b[0m\u001b[1;33m=\u001b[0m \u001b[0mnp\u001b[0m\u001b[1;33m.\u001b[0m\u001b[0mdiag_indices\u001b[0m\u001b[1;33m(\u001b[0m\u001b[0mgramMatrix\u001b[0m\u001b[1;33m.\u001b[0m\u001b[0mshape\u001b[0m\u001b[1;33m[\u001b[0m\u001b[1;36m0\u001b[0m\u001b[1;33m]\u001b[0m\u001b[1;33m)\u001b[0m\u001b[1;33m\u001b[0m\u001b[0m\n\u001b[0;32m    247\u001b[0m     \u001b[0mgramMatrix\u001b[0m\u001b[1;33m[\u001b[0m\u001b[0mdiag_indices\u001b[0m\u001b[1;33m]\u001b[0m \u001b[1;33m+=\u001b[0m \u001b[0mreg\u001b[0m\u001b[1;33m*\u001b[0m\u001b[0mW_inv\u001b[0m\u001b[1;33m\u001b[0m\u001b[0m\n\u001b[1;32m--> 248\u001b[1;33m     \u001b[0mmodel\u001b[0m \u001b[1;33m=\u001b[0m \u001b[0mscipy\u001b[0m\u001b[1;33m.\u001b[0m\u001b[0mlinalg\u001b[0m\u001b[1;33m.\u001b[0m\u001b[0msolve\u001b[0m\u001b[1;33m(\u001b[0m\u001b[0mgramMatrix\u001b[0m\u001b[1;33m,\u001b[0m \u001b[0my\u001b[0m\u001b[1;33m,\u001b[0m \u001b[0msym_pos\u001b[0m\u001b[1;33m=\u001b[0m\u001b[0mTrue\u001b[0m\u001b[1;33m)\u001b[0m\u001b[1;33m\u001b[0m\u001b[0m\n\u001b[0m\u001b[0;32m    249\u001b[0m     \u001b[0mgramMatrix\u001b[0m\u001b[1;33m[\u001b[0m\u001b[0mdiag_indices\u001b[0m\u001b[1;33m]\u001b[0m \u001b[1;33m-=\u001b[0m \u001b[0mreg\u001b[0m\u001b[1;33m*\u001b[0m\u001b[0mW_inv\u001b[0m\u001b[1;33m\u001b[0m\u001b[0m\n\u001b[0;32m    250\u001b[0m \u001b[1;33m\u001b[0m\u001b[0m\n",
      "\u001b[1;32m/data/vaishaal/anaconda2/lib/python2.7/site-packages/scipy/linalg/basic.pyc\u001b[0m in \u001b[0;36msolve\u001b[1;34m(a, b, sym_pos, lower, overwrite_a, overwrite_b, debug, check_finite)\u001b[0m\n\u001b[0;32m     92\u001b[0m         c, x, info = posv(a1, b1, lower=lower,\n\u001b[0;32m     93\u001b[0m                           \u001b[0moverwrite_a\u001b[0m\u001b[1;33m=\u001b[0m\u001b[0moverwrite_a\u001b[0m\u001b[1;33m,\u001b[0m\u001b[1;33m\u001b[0m\u001b[0m\n\u001b[1;32m---> 94\u001b[1;33m                           overwrite_b=overwrite_b)\n\u001b[0m\u001b[0;32m     95\u001b[0m     \u001b[1;32melse\u001b[0m\u001b[1;33m:\u001b[0m\u001b[1;33m\u001b[0m\u001b[0m\n\u001b[0;32m     96\u001b[0m         \u001b[0mgesv\u001b[0m\u001b[1;33m,\u001b[0m \u001b[1;33m=\u001b[0m \u001b[0mget_lapack_funcs\u001b[0m\u001b[1;33m(\u001b[0m\u001b[1;33m(\u001b[0m\u001b[1;34m'gesv'\u001b[0m\u001b[1;33m,\u001b[0m\u001b[1;33m)\u001b[0m\u001b[1;33m,\u001b[0m \u001b[1;33m(\u001b[0m\u001b[0ma1\u001b[0m\u001b[1;33m,\u001b[0m \u001b[0mb1\u001b[0m\u001b[1;33m)\u001b[0m\u001b[1;33m)\u001b[0m\u001b[1;33m\u001b[0m\u001b[0m\n",
      "\u001b[1;31mKeyboardInterrupt\u001b[0m: "
     ]
    }
   ],
   "source": [
    "\n",
    "result = {}\n",
    "for reg in LAMBDAS:\n",
    "    acc = trainAndEvaluateDualModel(KTrain, KTest, labelsTrain, labelsTest, reg=reg)\n",
    "    print \"RESULT \", pool_size,pool_stride, reg, acc\n",
    "    result[reg] = acc\n"
   ]
  },
  {
   "cell_type": "code",
   "execution_count": 56,
   "metadata": {
    "collapsed": false
   },
   "outputs": [
    {
     "name": "stdout",
     "output_type": "stream",
     "text": [
      "15 6 9 0.84086 0.7699 0 1.0\n",
      "15 6 9 1.0 0.812 0 0.001\n",
      "15 6 9 0.963 0.8233 0 0.1\n",
      "15 6 9 0.99974 0.8353 0 0.01\n"
     ]
    }
   ],
   "source": [
    "sys.stdout = notebook_stdout\n",
    "sys.stderr = notebook_stderr\n",
    "for param in results.keys():\n",
    "    pool_size, pool_stride = param\n",
    "    for reg in results[param].keys():\n",
    "        train, test = results[param][reg]\n",
    "        print pool_size,pool_stride,pool_size - pool_stride,train,test,\"0\",reg\n"
   ]
  },
  {
   "cell_type": "code",
   "execution_count": 106,
   "metadata": {
    "collapsed": true
   },
   "outputs": [],
   "source": [
    "gammas = [0.005]\n",
    "regs = [0]\n",
    "accs = []"
   ]
  },
  {
   "cell_type": "code",
   "execution_count": 22,
   "metadata": {
    "collapsed": true
   },
   "outputs": [],
   "source": [
    "gamma = 0.001"
   ]
  },
  {
   "cell_type": "code",
   "execution_count": 107,
   "metadata": {
    "collapsed": false
   },
   "outputs": [
    {
     "name": "stdout",
     "output_type": "stream",
     "text": [
      "GAMMA\n",
      "TURNING K -> DISTANCE\n",
      "Computing RBF\n",
      "TURNING K -> DISTANCE\n",
      "Computing RBF\n",
      "('Starting Train', 'reg', 0, 'gamma', 0.005)\n",
      "Learning Dual Model better\n",
      "REG IS  0\n",
      "CPU times: user 24min 58s, sys: 2min 3s, total: 27min 2s\n",
      "Wall time: 2min 51s\n",
      "1.0 0.8305 1 0 0.005\n"
     ]
    }
   ],
   "source": [
    "sys.stdout = notebook_stdout\n",
    "sys.stderr = notebook_stderr\n",
    "for gamma in gammas:\n",
    "    print \"GAMMA\"\n",
    "    KTrainRBF = KTrain.copy()\n",
    "    KTestRBF = KTest.copy()\n",
    "    KTrainRBF, train_gamma = computeRBFGramMatrix(KTrainRBF, normsTrain, normsTrain, gamma=gamma)\n",
    "    KTestRBF, _ = computeRBFGramMatrix(KTestRBF, normsTrain, normsTest, gamma=train_gamma)\n",
    "    for reg in regs:\n",
    "        try:\n",
    "            print(\"Starting Train\",\"reg\", reg, \"gamma\", gamma)\n",
    "            sys.stdout.flush()\n",
    "            %time train,test = trainAndEvaluateDualModel(KTrainRBF, KTestRBF, labelsTrain, labelsTest, reg=reg)\n",
    "            print train,test,1,reg,gamma\n",
    "            sys.stdout.flush()\n",
    "            accs.append((gamma,reg,train,test))\n",
    "        except:\n",
    "            print(\"Singular Matrix\")\n",
    "            accs.append(0)\n"
   ]
  },
  {
   "cell_type": "code",
   "execution_count": 48,
   "metadata": {
    "collapsed": false
   },
   "outputs": [
    {
     "name": "stdout",
     "output_type": "stream",
     "text": [
      "1.0 0.8436 1 1e-08 0.0005\n",
      "1.0 0.8456 1 1e-06 0.0005\n",
      "1.0 0.852 1 5e-06 0.0005\n",
      "0.99988 0.8522 1 1e-05 0.0005\n",
      "0.99086 0.8431 1 5e-05 0.0005\n",
      "0.97196 0.8342 1 0.0001 0.0005\n",
      "0.88968 0.8012 1 0.0005 0.0005\n",
      "0.84992 0.7808 1 0.001 0.0005\n",
      "0.7665 0.7285 1 0.005 0.0005\n",
      "0.73396 0.7085 1 0.01 0.0005\n",
      "0.66548 0.6544 1 0.05 0.0005\n",
      "0.63952 0.6279 1 0.1 0.0005\n",
      "1.0 0.8447 1 1e-08 0.001\n",
      "1.0 0.8471 1 1e-06 0.001\n",
      "1.0 0.8506 1 5e-06 0.001\n",
      "1.0 0.853 1 1e-05 0.001\n",
      "0.99846 0.8502 1 5e-05 0.001\n",
      "0.99192 0.8445 1 0.0001 0.001\n",
      "0.932 0.82 1 0.0005 0.001\n",
      "0.8935 0.8049 1 0.001 0.001\n",
      "0.80504 0.7539 1 0.005 0.001\n",
      "0.77008 0.7311 1 0.01 0.001\n",
      "0.69596 0.6787 1 0.05 0.001\n",
      "0.66698 0.6539 1 0.1 0.001\n",
      "1.0 0.8471 1 1e-08 0.0025\n",
      "1.0 0.8479 1 1e-06 0.0025\n",
      "1.0 0.8492 1 5e-06 0.0025\n",
      "1.0 0.8511 1 1e-05 0.0025\n",
      "0.99994 0.8539 1 5e-05 0.0025\n",
      "0.99926 0.851 1 0.0001 0.0025\n",
      "0.9781 0.839 1 0.0005 0.0025\n",
      "0.95076 0.8302 1 0.001 0.0025\n",
      "0.86102 0.7884 1 0.005 0.0025\n",
      "0.8237 0.7653 1 0.01 0.0025\n",
      "0.74074 0.7138 1 0.05 0.0025\n",
      "0.70864 0.6897 1 0.1 0.0025\n",
      "1.0 0.8479 1 1e-08 0.005\n",
      "1.0 0.8481 1 1e-06 0.005\n",
      "1.0 0.8489 1 5e-06 0.005\n",
      "1.0 0.8497 1 1e-05 0.005\n",
      "1.0 0.8518 1 5e-05 0.005\n",
      "0.99998 0.8522 1 0.0001 0.005\n",
      "0.99538 0.8461 1 0.0005 0.005\n",
      "0.98242 0.8404 1 0.001 0.005\n",
      "0.91072 0.8102 1 0.005 0.005\n",
      "0.8698 0.7932 1 0.01 0.005\n",
      "0.78252 0.7403 1 0.05 0.005\n",
      "0.74668 0.7153 1 0.1 0.005\n",
      "1.0 0.8477 1 1e-08 0.0075\n",
      "1.0 0.8478 1 1e-06 0.0075\n",
      "1.0 0.8483 1 5e-06 0.0075\n",
      "1.0 0.8484 1 1e-05 0.0075\n",
      "1.0 0.8516 1 5e-05 0.0075\n",
      "1.0 0.8524 1 0.0001 0.0075\n",
      "0.99856 0.85 1 0.0005 0.0075\n",
      "0.99306 0.8452 1 0.001 0.0075\n",
      "0.93872 0.8223 1 0.005 0.0075\n",
      "0.90038 0.8056 1 0.01 0.0075\n",
      "0.80912 0.7539 1 0.05 0.0075\n",
      "0.77134 0.7315 1 0.1 0.0075\n",
      "1.0 0.8468 1 1e-08 0.01\n",
      "1.0 0.8468 1 1e-06 0.01\n",
      "1.0 0.847 1 5e-06 0.01\n",
      "1.0 0.8471 1 1e-05 0.01\n",
      "1.0 0.8496 1 5e-05 0.01\n",
      "1.0 0.8501 1 0.0001 0.01\n",
      "0.99966 0.8509 1 0.0005 0.01\n",
      "0.9971 0.8479 1 0.001 0.01\n",
      "0.957 0.8282 1 0.005 0.01\n",
      "0.92188 0.8135 1 0.01 0.01\n",
      "0.82938 0.7657 1 0.05 0.01\n",
      "0.79038 0.7433 1 0.1 0.01\n",
      "1.0 0.8358 1 1e-08 0.025\n",
      "1.0 0.8358 1 1e-06 0.025\n",
      "1.0 0.8357 1 5e-06 0.025\n",
      "1.0 0.8358 1 1e-05 0.025\n",
      "1.0 0.8362 1 5e-05 0.025\n",
      "1.0 0.837 1 0.0001 0.025\n",
      "1.0 0.8414 1 0.0005 0.025\n",
      "0.99998 0.8428 1 0.001 0.025\n",
      "0.99412 0.8384 1 0.005 0.025\n",
      "0.97972 0.8296 1 0.01 0.025\n",
      "0.90442 0.7986 1 0.05 0.025\n",
      "0.8616 0.7778 1 0.1 0.025\n",
      "1.0 0.8242 1 1e-08 0.05\n",
      "1.0 0.8243 1 1e-06 0.05\n",
      "1.0 0.8242 1 5e-06 0.05\n",
      "1.0 0.8244 1 1e-05 0.05\n",
      "1.0 0.8246 1 5e-05 0.05\n",
      "1.0 0.8255 1 0.0001 0.05\n",
      "1.0 0.8293 1 0.0005 0.05\n",
      "1.0 0.8305 1 0.001 0.05\n",
      "0.99978 0.832 1 0.005 0.05\n",
      "0.99744 0.831 1 0.01 0.05\n",
      "0.95924 0.8109 1 0.05 0.05\n",
      "0.92466 0.7971 1 0.1 0.05\n"
     ]
    }
   ],
   "source": [
    "sys.stdout = notebook_stdout\n",
    "sys.stderr = notebook_stderr\n",
    "for i, acc in enumerate(accs):\n",
    "    gamma,reg,train, test = acc\n",
    "    print train,test,1,reg,gamma"
   ]
  },
  {
   "cell_type": "code",
   "execution_count": 91,
   "metadata": {
    "collapsed": false
   },
   "outputs": [],
   "source": [
    "KTrain_128 = np.load(\"/data/vaishaal/KTrain_128.npy\")\n",
    "KTest_128 = np.load(\"/data/vaishaal/KTest_128.npy\")\n",
    "normsTrain_128 = np.load(\"/data/vaishaal/norms_train_128.npy\")\n",
    "normsTest_128 = np.load(\"/data/vaishaal/norms_test_128.npy\")"
   ]
  },
  {
   "cell_type": "code",
   "execution_count": 92,
   "metadata": {
    "collapsed": true
   },
   "outputs": [],
   "source": [
    "KTrain_fuse = KTrain_128 + KTrain\n",
    "KTest_fuse = KTest_128 + KTest\n",
    "normsTrain_fuse = normsTrain_128 + normsTrain\n",
    "normsTest_fuse = normsTest_128 + normsTest"
   ]
  },
  {
   "cell_type": "code",
   "execution_count": 102,
   "metadata": {
    "collapsed": false
   },
   "outputs": [
    {
     "name": "stdout",
     "output_type": "stream",
     "text": [
      "Learning Dual Model better\n",
      "REG IS  0.01\n"
     ]
    }
   ],
   "source": [
    "acc1 = trainAndEvaluateDualModel(KTrain, KTest, labelsTrain, labelsTest, reg=0.01)"
   ]
  },
  {
   "cell_type": "code",
   "execution_count": 103,
   "metadata": {
    "collapsed": false
   },
   "outputs": [
    {
     "data": {
      "text/plain": [
       "(0.99973999999999996, 0.83530000000000004)"
      ]
     },
     "execution_count": 103,
     "metadata": {},
     "output_type": "execute_result"
    }
   ],
   "source": [
    "acc1"
   ]
  },
  {
   "cell_type": "code",
   "execution_count": 99,
   "metadata": {
    "collapsed": false
   },
   "outputs": [
    {
     "name": "stdout",
     "output_type": "stream",
     "text": [
      "Learning Dual Model better\n",
      "REG IS  0.05\n",
      "(0.99883999999999995, 0.82879999999999998)\n"
     ]
    }
   ],
   "source": [
    "acc2 = trainAndEvaluateDualModel(KTrain_fuse, KTest_fuse, labelsTrain, labelsTest, reg=0.05)\n",
    "print acc2"
   ]
  },
  {
   "cell_type": "code",
   "execution_count": 96,
   "metadata": {
    "collapsed": false
   },
   "outputs": [
    {
     "name": "stdout",
     "output_type": "stream",
     "text": [
      "(1.0, 0.83109999999999995)\n"
     ]
    }
   ],
   "source": [
    "print acc2"
   ]
  },
  {
   "cell_type": "code",
   "execution_count": 40,
   "metadata": {
    "collapsed": true
   },
   "outputs": [],
   "source": [
    "np.save(\"/data/vaishaal/KTrain_1024_patches\", KTrain)"
   ]
  },
  {
   "cell_type": "code",
   "execution_count": 39,
   "metadata": {
    "collapsed": true
   },
   "outputs": [],
   "source": [
    "np.save(\"/data/vaishaal/KTest_1024_patches\", KTest)"
   ]
  },
  {
   "cell_type": "code",
   "execution_count": 38,
   "metadata": {
    "collapsed": true
   },
   "outputs": [],
   "source": [
    "np.save(\"/data/vaishaal/norms_train_1024_patches\", normsTrain)"
   ]
  },
  {
   "cell_type": "code",
   "execution_count": 37,
   "metadata": {
    "collapsed": true
   },
   "outputs": [],
   "source": [
    "np.save(\"/data/vaishaal/norms_test_1024_patches\", normsTest)"
   ]
  },
  {
   "cell_type": "code",
   "execution_count": 23,
   "metadata": {
    "collapsed": true
   },
   "outputs": [],
   "source": [
    "np.save(\"/data/vaishaal/labels_train\", labelsTrain)"
   ]
  },
  {
   "cell_type": "code",
   "execution_count": 24,
   "metadata": {
    "collapsed": true
   },
   "outputs": [],
   "source": [
    "np.save(\"/data/vaishaal/labels_test\", labelsTest)"
   ]
  },
  {
   "cell_type": "code",
   "execution_count": 103,
   "metadata": {
    "collapsed": true
   },
   "outputs": [],
   "source": [
    "del KTrain_128"
   ]
  },
  {
   "cell_type": "code",
   "execution_count": 104,
   "metadata": {
    "collapsed": true
   },
   "outputs": [],
   "source": [
    "del KTrain_fuse"
   ]
  },
  {
   "cell_type": "code",
   "execution_count": 25,
   "metadata": {
    "collapsed": false
   },
   "outputs": [
    {
     "data": {
      "text/plain": [
       "(50000, 50000)"
      ]
     },
     "execution_count": 25,
     "metadata": {},
     "output_type": "execute_result"
    }
   ],
   "source": [
    "KTrain.shape"
   ]
  },
  {
   "cell_type": "code",
   "execution_count": 16,
   "metadata": {
    "collapsed": false
   },
   "outputs": [
    {
     "data": {
      "text/plain": [
       "(50000, 729, 6, 6, 3)"
      ]
     },
     "execution_count": 16,
     "metadata": {},
     "output_type": "execute_result"
    }
   ],
   "source": [
    "patches"
   ]
  },
  {
   "cell_type": "code",
   "execution_count": 72,
   "metadata": {
    "collapsed": false
   },
   "outputs": [
    {
     "name": "stdout",
     "output_type": "stream",
     "text": [
      "TURNING K -> DISTANCE\n"
     ]
    }
   ],
   "source": [
    "KTrainRBF = KTrain.copy()\n",
    "KTestRBF = KTest.copy()\n",
    "def kernel_to_distance(K, XTrainNorms, XTestNorms):\n",
    "    XTrainNorms = XTrainNorms.reshape(XTrainNorms.shape[0], 1)\n",
    "    XTestNorms = XTestNorms.reshape(XTestNorms.shape[0], 1)\n",
    "    print \"TURNING K -> DISTANCE\"\n",
    "    K *= -2\n",
    "    K += XTrainNorms.T\n",
    "    K += XTestNorms \n",
    "    return K\n",
    "\n",
    "def estimate_gamma(D,gamma_sample=10000):\n",
    "    print \"Calculating gamma\"\n",
    "    samples = numpy.random.choice(D.shape[0], gamma_sample*2, replace=False)\n",
    "    x1 = samples[:gamma_sample]\n",
    "    x2 = samples[gamma_sample:]\n",
    "    sample_d = D[x1, x2]\n",
    "    print \"Sample d shape \", sample_d.shape\n",
    "    median = np.median(sample_d)\n",
    "    gamma = 2.0/median\n",
    "    return gamma\n",
    "D = kernel_to_distance(KTrainRBF, normsTrain, normsTrain)"
   ]
  },
  {
   "cell_type": "code",
   "execution_count": 91,
   "metadata": {
    "collapsed": false
   },
   "outputs": [
    {
     "name": "stdout",
     "output_type": "stream",
     "text": [
      "Sample d shape  (1000,)\n"
     ]
    }
   ],
   "source": [
    "pts = np.random.choice(D.shape[0], 1000*2, replace=False)\n",
    "x1 = pts[:1000]\n",
    "x2 = pts[1000:]\n",
    "sample_d = D[x1, x2]\n",
    "print \"Sample d shape \", sample_d.shape\n",
    "median = np.median(sample_d)\n",
    "gamma = 2.0/median\n"
   ]
  },
  {
   "cell_type": "code",
   "execution_count": 101,
   "metadata": {
    "collapsed": false
   },
   "outputs": [],
   "source": [
    "computeRBFGramMatrix(KTrain, XTrainNorms, XTestNorms, gamma=1, gamma_sample=10000)"
   ]
  },
  {
   "cell_type": "code",
   "execution_count": 4,
   "metadata": {
    "collapsed": false
   },
   "outputs": [
    {
     "name": "stdout",
     "output_type": "stream",
     "text": [
      "<ipykernel.iostream.OutStream object at 0x7fedb676fed0>\n"
     ]
    }
   ],
   "source": [
    "import sys\n",
    "print sys.stdout"
   ]
  },
  {
   "cell_type": "code",
   "execution_count": 95,
   "metadata": {
    "collapsed": false
   },
   "outputs": [
    {
     "data": {
      "text/plain": [
       "array([[ 33.20146561,  36.28236389,  15.55484772, ...,  17.90564346,\n",
       "         25.23268318,  29.74692154],\n",
       "       [ 36.28236389,  44.59234619,  17.80164909, ...,  20.59594727,\n",
       "         30.45558167,  34.82453918],\n",
       "       [ 15.55484772,  17.80164909,   9.16023064, ...,   9.84381771,\n",
       "         11.05340576,  15.00150013],\n",
       "       ..., \n",
       "       [ 17.90564346,  20.59594727,   9.84381771, ...,  11.95548248,\n",
       "         13.03578663,  17.35746956],\n",
       "       [ 25.23268318,  30.45558167,  11.05340576, ...,  13.03578663,\n",
       "         25.01102257,  24.62996674],\n",
       "       [ 29.74692154,  34.82453918,  15.00150013, ...,  17.35746956,\n",
       "         24.62996674,  31.18713188]])"
      ]
     },
     "execution_count": 95,
     "metadata": {},
     "output_type": "execute_result"
    }
   ],
   "source": [
    "KTrainRBF"
   ]
  },
  {
   "cell_type": "code",
   "execution_count": 97,
   "metadata": {
    "collapsed": false
   },
   "outputs": [
    {
     "data": {
      "text/plain": [
       "array([[  0.00000000e+00,   5.22908783e+00,   1.12520008e+01, ...,\n",
       "          9.34566212e+00,   7.74712181e+00,   4.89475441e+00],\n",
       "       [  5.22908783e+00,   7.62939453e-06,   1.81492825e+01, ...,\n",
       "          1.53559389e+01,   8.69220924e+00,   6.13040352e+00],\n",
       "       [  1.12520008e+01,   1.81492825e+01,   0.00000000e+00, ...,\n",
       "          1.42807865e+00,   1.20644417e+01,   1.03443623e+01],\n",
       "       ..., \n",
       "       [  9.34566212e+00,   1.53559389e+01,   1.42807865e+00, ...,\n",
       "          1.90734863e-06,   1.08949327e+01,   8.42767620e+00],\n",
       "       [  7.74712181e+00,   8.69220924e+00,   1.20644417e+01, ...,\n",
       "          1.08949327e+01,   0.00000000e+00,   6.93822098e+00],\n",
       "       [  4.89475441e+00,   6.13040352e+00,   1.03443623e+01, ...,\n",
       "          8.42767620e+00,   6.93822098e+00,   0.00000000e+00]])"
      ]
     },
     "execution_count": 97,
     "metadata": {},
     "output_type": "execute_result"
    }
   ],
   "source": [
    "KTrain"
   ]
  },
  {
   "cell_type": "code",
   "execution_count": 104,
   "metadata": {
    "collapsed": false
   },
   "outputs": [
    {
     "data": {
      "text/plain": [
       "array([[ 33.20146561,  36.28236389,  15.55484772, ...,  17.90564346,\n",
       "         25.23268318,  29.74692154],\n",
       "       [ 36.28236389,  44.59234619,  17.80164909, ...,  20.59594727,\n",
       "         30.45558167,  34.82453918],\n",
       "       [ 15.55484772,  17.80164909,   9.16023064, ...,   9.84381771,\n",
       "         11.05340576,  15.00150013],\n",
       "       ..., \n",
       "       [ 17.90564346,  20.59594727,   9.84381771, ...,  11.95548248,\n",
       "         13.03578663,  17.35746956],\n",
       "       [ 25.23268318,  30.45558167,  11.05340576, ...,  13.03578663,\n",
       "         25.01102257,  24.62996674],\n",
       "       [ 29.74692154,  34.82453918,  15.00150013, ...,  17.35746956,\n",
       "         24.62996674,  31.18713188]])"
      ]
     },
     "execution_count": 104,
     "metadata": {},
     "output_type": "execute_result"
    }
   ],
   "source": [
    "KTrain"
   ]
  },
  {
   "cell_type": "code",
   "execution_count": 105,
   "metadata": {
    "collapsed": false
   },
   "outputs": [
    {
     "data": {
      "text/plain": [
       "array([ 33.20146561,  44.59235001,   9.16023064, ...,  11.95548344,\n",
       "        25.01102257,  31.18713188], dtype=float32)"
      ]
     },
     "execution_count": 105,
     "metadata": {},
     "output_type": "execute_result"
    }
   ],
   "source": [
    "normsTrain"
   ]
  },
  {
   "cell_type": "code",
   "execution_count": null,
   "metadata": {
    "collapsed": true
   },
   "outputs": [],
   "source": []
  }
 ],
 "metadata": {
  "anaconda-cloud": {},
  "kernelspec": {
   "display_name": "Python [Root]",
   "language": "python",
   "name": "Python [Root]"
  },
  "language_info": {
   "codemirror_mode": {
    "name": "ipython",
    "version": 3
   },
   "file_extension": ".py",
   "mimetype": "text/x-python",
   "name": "python",
   "nbconvert_exporter": "python",
   "pygments_lexer": "ipython3",
   "version": "3.5.2"
  },
  "nbpresent": {
   "slides": {
    "691889e3-b7c6-4914-802f-c045471bb148": {
     "id": "691889e3-b7c6-4914-802f-c045471bb148",
     "prev": null,
     "regions": {
      "d473ec79-b583-4b90-8f0c-ca04540a8b42": {
       "attrs": {
        "height": 1,
        "width": 1,
        "x": 0,
        "y": 0
       },
       "id": "d473ec79-b583-4b90-8f0c-ca04540a8b42"
      }
     }
    }
   },
   "themes": {}
  }
 },
 "nbformat": 4,
 "nbformat_minor": 0
}
